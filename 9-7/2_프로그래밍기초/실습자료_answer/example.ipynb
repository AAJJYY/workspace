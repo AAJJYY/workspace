{
 "cells": [
  {
   "cell_type": "code",
   "execution_count": 3,
   "metadata": {},
   "outputs": [
    {
     "data": {
      "text/plain": [
       "'Number 1aaaa'"
      ]
     },
     "execution_count": 3,
     "metadata": {},
     "output_type": "execute_result"
    }
   ],
   "source": [
    "'Number {0:a<5}'.format(1)"
   ]
  },
  {
   "cell_type": "code",
   "execution_count": 10,
   "metadata": {},
   "outputs": [
    {
     "data": {
      "text/plain": [
       "'정확도: 0.87, f1-score: 0.3333, recall: 0.5856, precision: 0.3426'"
      ]
     },
     "execution_count": 10,
     "metadata": {},
     "output_type": "execute_result"
    }
   ],
   "source": [
    "accuracy = 0.866743267\n",
    "f1_score = 0.33334556\n",
    "recall = 0.585553\n",
    "precision = 0.34255334\n",
    "'정확도: %.2f, f1-score: %.4f, recall: %.4f, precision: %.4f'%(accuracy, f1_score, recall, precision)"
   ]
  },
  {
   "cell_type": "code",
   "execution_count": 9,
   "metadata": {},
   "outputs": [
    {
     "name": "stdout",
     "output_type": "stream",
     "text": [
      "정확도: 0.87\n"
     ]
    }
   ],
   "source": [
    "print('정확도:', round(accuracy, 2), 'f1-score')"
   ]
  },
  {
   "cell_type": "code",
   "execution_count": null,
   "metadata": {},
   "outputs": [],
   "source": []
  }
 ],
 "metadata": {
  "kernelspec": {
   "display_name": "Python 3.10.4 ('study')",
   "language": "python",
   "name": "python3"
  },
  "language_info": {
   "codemirror_mode": {
    "name": "ipython",
    "version": 3
   },
   "file_extension": ".py",
   "mimetype": "text/x-python",
   "name": "python",
   "nbconvert_exporter": "python",
   "pygments_lexer": "ipython3",
   "version": "3.10.4"
  },
  "orig_nbformat": 4,
  "vscode": {
   "interpreter": {
    "hash": "d40a43472e4aad7d1c02a3ba5e2bb4c68b5fb5fbe04edf43a51aaf953eaade54"
   }
  }
 },
 "nbformat": 4,
 "nbformat_minor": 2
}

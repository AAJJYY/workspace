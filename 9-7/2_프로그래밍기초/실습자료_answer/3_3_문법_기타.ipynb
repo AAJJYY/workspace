{
 "cells": [
  {
   "cell_type": "markdown",
   "metadata": {},
   "source": [
    "# 기타 연산자"
   ]
  },
  {
   "cell_type": "markdown",
   "metadata": {},
   "source": [
    "## `zip(*iterables)` \n",
    "\n",
    "* 복수의 iterable 객체를 모아(`zip()`)줍니다.\n",
    "\n",
    "\n",
    "* 결과는 튜플의 모음으로 구성된 `zip object` 를 반환합니다."
   ]
  },
  {
   "cell_type": "code",
   "execution_count": 1,
   "metadata": {},
   "outputs": [],
   "source": [
    "girls = ['jane', 'ashley', 'mary']\n",
    "boys = ['jason', 'eric', 'david']"
   ]
  },
  {
   "cell_type": "code",
   "execution_count": null,
   "metadata": {},
   "outputs": [],
   "source": [
    "# zip() 활용하여 짝을 맞추어 본다."
   ]
  },
  {
   "cell_type": "code",
   "execution_count": 3,
   "metadata": {},
   "outputs": [
    {
     "data": {
      "text/plain": [
       "[('jane', 'jason'), ('ashley', 'eric'), ('mary', 'david')]"
      ]
     },
     "execution_count": 3,
     "metadata": {},
     "output_type": "execute_result"
    }
   ],
   "source": [
    "list(zip(girls, boys))"
   ]
  },
  {
   "cell_type": "code",
   "execution_count": 4,
   "metadata": {},
   "outputs": [
    {
     "name": "stdout",
     "output_type": "stream",
     "text": [
      "[[1, 2, 3], [1, 2, 3], [1, 2, 3]]\n",
      "=========================\n",
      "(1, 1, 1)\n",
      "(2, 2, 2)\n",
      "(3, 3, 3)\n",
      "[[1, 1, 1], [2, 2, 2], [3, 3, 3]]\n"
     ]
    }
   ],
   "source": [
    "# 참고 1 - 알고리즘 문제 풀 때 자주 사용됨\n",
    "\n",
    "# 아래와 같은 2차원 리스트가 있다고 해보자 \n",
    "data = [\n",
    "    [1, 2, 3],\n",
    "    [1, 2, 3],\n",
    "    [1, 2, 3],\n",
    "]\n",
    "\n",
    "print(data)\n",
    "print('=========================')\n",
    "\n",
    "data2 = []\n",
    "for ele in zip(*data): # zip([1,2,3], [1,2,3], [1,2,3])\n",
    "    print(ele)\n",
    "    data2.append(list(ele))\n",
    "print(data2)"
   ]
  },
  {
   "cell_type": "code",
   "execution_count": 5,
   "metadata": {},
   "outputs": [
    {
     "name": "stdout",
     "output_type": "stream",
     "text": [
      "[('jane', 'jason'), ('ashley', 'eric'), ('mary', 'david')]\n"
     ]
    }
   ],
   "source": [
    "# 참고 2\n",
    "girls = ['jane', 'ashley', 'mary']\n",
    "boys = ['jason', 'eric', 'david', 'bruno']\n",
    "\n",
    "print(list(zip(girls, boys)))"
   ]
  },
  {
   "cell_type": "code",
   "execution_count": null,
   "metadata": {},
   "outputs": [],
   "source": [
    "#1.\n",
    "# 두 개 리스트 이름(last_name)과 성(first_name)을 합치고 출력해 본다\n",
    "# - zip() 함수는 <zip 오브젝트(객체 : 덩어리)>를 만들어 낸다. \n",
    "# 이것도 당연히 **iterable** 이다. 따라서 반복문에 그냥 넣을 수 있다."
   ]
  },
  {
   "cell_type": "code",
   "execution_count": 6,
   "metadata": {},
   "outputs": [
    {
     "name": "stdout",
     "output_type": "stream",
     "text": [
      "<zip object at 0x000002A0F0339140>\n"
     ]
    }
   ],
   "source": [
    "last_names = [\"Jack\",\"Matt\",\"Obama\"]\n",
    "first_names = [\"Cock\", \"Bal\", \"Care\"]\n",
    "\n",
    "result = zip(last_names,first_names)\n",
    "\n",
    "print (result)"
   ]
  },
  {
   "cell_type": "code",
   "execution_count": null,
   "metadata": {},
   "outputs": [],
   "source": [
    "#2.\n",
    "# zip() 오브젝트를 출력하여 값을 보고 싶을 때는 list나 dictionary로 변환해야 한다.\n",
    "# list로 바꾸면 각 원소가 tuple로 나온다. 여러 개를 합친 zip 오브젝트를 바꿀 수 있다.\n",
    "# dictionary를 만드는 건 2개를 합친 zip 오브젝트만 가능하다."
   ]
  },
  {
   "cell_type": "code",
   "execution_count": 4,
   "metadata": {},
   "outputs": [],
   "source": [
    "last_names = [\"Jack\",\"Matt\",\"Obama\"]\n",
    "middle_names = [\"D\",\"S\",\"O\"]\n",
    "first_names = [\"Cock\", \"Bal\", \"Care\"]"
   ]
  },
  {
   "cell_type": "code",
   "execution_count": 9,
   "metadata": {},
   "outputs": [
    {
     "data": {
      "text/plain": [
       "[('Jack', 'D', 'Cock'), ('Matt', 'S', 'Bal'), ('Obama', 'O', 'Care')]"
      ]
     },
     "execution_count": 9,
     "metadata": {},
     "output_type": "execute_result"
    }
   ],
   "source": [
    "list(zip(last_names, middle_names, first_names))"
   ]
  },
  {
   "cell_type": "code",
   "execution_count": 12,
   "metadata": {},
   "outputs": [
    {
     "ename": "ValueError",
     "evalue": "dictionary update sequence element #0 has length 3; 2 is required",
     "output_type": "error",
     "traceback": [
      "\u001b[1;31m---------------------------------------------------------------------------\u001b[0m",
      "\u001b[1;31mValueError\u001b[0m                                Traceback (most recent call last)",
      "\u001b[1;32mc:\\Users\\SBA8\\Desktop\\python\\3_3_문법_기타.ipynb 셀 13\u001b[0m in \u001b[0;36m<cell line: 1>\u001b[1;34m()\u001b[0m\n\u001b[1;32m----> <a href='vscode-notebook-cell:/c%3A/Users/SBA8/Desktop/python/3_3_%EB%AC%B8%EB%B2%95_%EA%B8%B0%ED%83%80.ipynb#Y201sZmlsZQ%3D%3D?line=0'>1</a>\u001b[0m \u001b[39mdict\u001b[39;49m(\u001b[39mzip\u001b[39;49m(last_names, middle_names, first_names))\n",
      "\u001b[1;31mValueError\u001b[0m: dictionary update sequence element #0 has length 3; 2 is required"
     ]
    }
   ],
   "source": [
    "dict(zip(last_names, middle_names, first_names))"
   ]
  },
  {
   "cell_type": "code",
   "execution_count": null,
   "metadata": {},
   "outputs": [],
   "source": [
    "#3.\n",
    "# 이름, 성, 중간 이름의 세 개 list를 각각 합쳐서 한 개(full_name)으로 만들기\n",
    "# zip() 오브젝트를 list comprehesion으로 for 문을 돌려 string(문자열)을 만든다.\n",
    "# list comprehension : 리스트를 만들기 위해 한 줄로 for 문을 돌릴 수 있게 하는 문법  =>  [ <code> for i in iterable ]"
   ]
  },
  {
   "cell_type": "code",
   "execution_count": 5,
   "metadata": {},
   "outputs": [
    {
     "data": {
      "text/plain": [
       "[('Cock', 'D', 'Jack'), ('Bal', 'S', 'Matt'), ('Care', 'O', 'Obama')]"
      ]
     },
     "execution_count": 5,
     "metadata": {},
     "output_type": "execute_result"
    }
   ],
   "source": [
    "list(zip(first_names, middle_names, last_names))"
   ]
  },
  {
   "cell_type": "code",
   "execution_count": null,
   "metadata": {},
   "outputs": [],
   "source": [
    "' '.join(['1', '2', '3'])"
   ]
  },
  {
   "cell_type": "code",
   "execution_count": 6,
   "metadata": {},
   "outputs": [
    {
     "name": "stdout",
     "output_type": "stream",
     "text": [
      "['Cock D Jack', 'Bal S Matt', 'Care O Obama']\n"
     ]
    }
   ],
   "source": [
    "full_name = [' '.join(item) for item in zip(first_names, middle_names, last_names)]\n",
    "\n",
    "print(full_name)"
   ]
  },
  {
   "cell_type": "code",
   "execution_count": null,
   "metadata": {},
   "outputs": [],
   "source": [
    "#4.\n",
    "# 각각의 이름 마다 index 값을 넣어 [index , fullname]으로 된 새로운 list 만들기"
   ]
  },
  {
   "cell_type": "code",
   "execution_count": 8,
   "metadata": {},
   "outputs": [
    {
     "name": "stdout",
     "output_type": "stream",
     "text": [
      "[[0, 'Cock D Jack'], [1, 'Bal S Matt'], [2, 'Care O Obama']]\n"
     ]
    }
   ],
   "source": [
    "new_list = []\n",
    "\n",
    "for item in enumerate(full_name):\n",
    "    # new_list.append(list(item))\n",
    "    new_list.append([item[0], item[1]])\n",
    "\n",
    "print(new_list)"
   ]
  },
  {
   "cell_type": "code",
   "execution_count": 9,
   "metadata": {},
   "outputs": [],
   "source": [
    "#5.\n",
    "\"\"\"\n",
    "사용자 정보 리스트 만들기\n",
    "1. 이름은 full name으로 만들어 주세요\n",
    "2. 여러 개의 attribute(속성)가 있을 수 있습니다 : email, address, phone number 등\n",
    "3. 출력은 1개의 리스트로 보여주세요\n",
    "- *args(아규먼트, 다른 이름으로 해도 됨) 는 여러개를 원소의 반복으로 받음. **여러개 취급**\n",
    "- args = a, b, c, d\n",
    "- zip(*args) = last_names, middle_names, first_names\n",
    "- zip(a, b, c, d)\n",
    "- \n",
    "- 반면에 args 는 튜플. **한 개 취급**\n",
    "- args = (a, b, c, d)\n",
    "- zip(args) = (last_names, middle_names, first_names)\n",
    "\"\"\"\n",
    "\n",
    "last_names = [\"Jack\",\"Matt\",\"Obama\"]\n",
    "middle_names = [\"D\",\"S\",\"O\"]\n",
    "first_names = [\"Cock\", \"Bal\", \"Care\"]\n",
    "emails = ['jackcock@gmail.com','BalMatt@gmail.com','ObamaCare@gmail.com']\n",
    "address = ['dongsack-dong','imnae-dong','jangsajin-dong']"
   ]
  },
  {
   "cell_type": "code",
   "execution_count": 12,
   "metadata": {},
   "outputs": [
    {
     "name": "stdout",
     "output_type": "stream",
     "text": [
      "{'Cock D Jack': 'jackcock@gmail.com', 'Bal S Matt': 'BalMatt@gmail.com', 'Care O Obama': 'ObamaCare@gmail.com'}\n",
      "[('jackcock@gmail.com', 'dongsack-dong'), ('BalMatt@gmail.com', 'imnae-dong'), ('ObamaCare@gmail.com', 'jangsajin-dong')]\n",
      "{'Cock D Jack': ('jackcock@gmail.com', 'dongsack-dong'), 'Bal S Matt': ('BalMatt@gmail.com', 'imnae-dong'), 'Care O Obama': ('ObamaCare@gmail.com', 'jangsajin-dong')}\n"
     ]
    }
   ],
   "source": [
    "full_name = [' '.join(item) for item in zip(first_names, middle_names, last_names)]\n",
    "\n",
    "# 이름을 키로, email을 값으로 가지는 딕셔너리 생성\n",
    "personal_infos = dict(zip(full_name, emails))\n",
    "print(personal_infos)\n",
    "\n",
    "# 이메일과, 주소로 이루어진 리스트 생성\n",
    "attributes = list(zip(emails, address))\n",
    "print(attributes)\n",
    "\n",
    "# 이름을 키로, 이메일과 주소로 이루어진 튜플을 값으로 가지는 딕셔너리 생성\n",
    "personal_infos = dict(zip(full_name, attributes))\n",
    "print(personal_infos)"
   ]
  },
  {
   "cell_type": "markdown",
   "metadata": {},
   "source": [
    "## List Comprehension\n",
    "\n",
    "List Comprehension은 표현식과 제어문을 통해 리스트를 생성합니다.\n",
    "\n",
    "여러 줄의 코드를 한 줄로 줄일 수 있습니다.\n",
    "\n",
    "---\n",
    "\n",
    "### 활용법\n",
    "\n",
    "```python\n",
    "[expression for 변수 in iterable]\n",
    "\n",
    "list(expression for 변수 in iterable)\n",
    "```"
   ]
  },
  {
   "cell_type": "markdown",
   "metadata": {},
   "source": [
    "### 세제곱 리스트\n",
    "\n",
    "> 다음의 리스트를 작성하세요.\n",
    "- 1~10까지의 숫자로 만든 세제곱 담긴 리스트 `cubic_list`"
   ]
  },
  {
   "cell_type": "code",
   "execution_count": null,
   "metadata": {},
   "outputs": [],
   "source": [
    "# 변수 numbers에 1부터 10까지의 숫자를 저장합니다."
   ]
  },
  {
   "cell_type": "code",
   "execution_count": 13,
   "metadata": {},
   "outputs": [],
   "source": [
    "numbers = range(1, 11)"
   ]
  },
  {
   "cell_type": "code",
   "execution_count": null,
   "metadata": {},
   "outputs": [],
   "source": [
    "# 반복문을 활용하여 작성합니다."
   ]
  },
  {
   "cell_type": "code",
   "execution_count": 14,
   "metadata": {},
   "outputs": [
    {
     "name": "stdout",
     "output_type": "stream",
     "text": [
      "[1, 8, 27, 64, 125, 216, 343, 512, 729, 1000]\n"
     ]
    }
   ],
   "source": [
    "cubic_list = []\n",
    "for number in numbers:\n",
    "    cubic_list.append(number ** 3)\n",
    "\n",
    "print(cubic_list)"
   ]
  },
  {
   "cell_type": "code",
   "execution_count": null,
   "metadata": {},
   "outputs": [],
   "source": [
    "# List comprehension을 활용하여 작성하세요."
   ]
  },
  {
   "cell_type": "code",
   "execution_count": 15,
   "metadata": {},
   "outputs": [
    {
     "name": "stdout",
     "output_type": "stream",
     "text": [
      "[1, 8, 27, 64, 125, 216, 343, 512, 729, 1000]\n"
     ]
    }
   ],
   "source": [
    "cubic_list = [number ** 3 for number in numbers]\n",
    "\n",
    "print(cubic_list)"
   ]
  },
  {
   "cell_type": "markdown",
   "metadata": {},
   "source": [
    "## List Comprehension + 조건문\n",
    "\n",
    "조건문에 참인 식으로 리스트를 생성합니다.\n",
    "\n",
    "---\n",
    "\n",
    "**활용법**\n",
    "\n",
    "```python\n",
    "[expression for 변수 in iterable if 조건식]\n",
    "\n",
    "```"
   ]
  },
  {
   "cell_type": "markdown",
   "metadata": {},
   "source": [
    "### [연습] 짝수리스트\n",
    "> 다음의 리스트를 작성하세요.\n",
    "\n",
    "- 1~10까지의 숫자중 짝수만 담긴 리스트 `even_list`\n",
    "- 여러개의 `for` 혹은 `if`문을 중첩적으로 사용 가능합니다."
   ]
  },
  {
   "cell_type": "code",
   "execution_count": null,
   "metadata": {},
   "outputs": [],
   "source": [
    "# 반복문을 활용하여 작성하세요."
   ]
  },
  {
   "cell_type": "code",
   "execution_count": 2,
   "metadata": {},
   "outputs": [
    {
     "name": "stdout",
     "output_type": "stream",
     "text": [
      "[2, 4, 6, 8, 10]\n"
     ]
    }
   ],
   "source": [
    "even_list = []\n",
    "\n",
    "for i in range(1, 11):\n",
    "    if not i%2:\n",
    "        even_list.append(i)\n",
    "\n",
    "print(even_list)"
   ]
  },
  {
   "cell_type": "code",
   "execution_count": null,
   "metadata": {},
   "outputs": [],
   "source": [
    "# List comprehension을 활용하여 작성하세요."
   ]
  },
  {
   "cell_type": "code",
   "execution_count": 3,
   "metadata": {},
   "outputs": [
    {
     "name": "stdout",
     "output_type": "stream",
     "text": [
      "[2, 4, 6, 8, 10]\n"
     ]
    }
   ],
   "source": [
    "even_list = [i for i in range(1, 11) if not i%2] # i%2 == 0\n",
    "\n",
    "print(even_list)"
   ]
  },
  {
   "cell_type": "markdown",
   "metadata": {},
   "source": [
    "### [실습] 곱집합\n",
    "\n",
    "> 주어진 두 list의 가능한 모든 조합을 담은 `pair` 리스트를 작성하세요.\n",
    "1. 반복문 활용\n",
    "2. list comprehension 활용\n",
    "\n",
    "**[입력 예시]**\n",
    "```python\n",
    "girls = ['jane', 'ashley', 'mary']\n",
    "boys = ['jason', 'eric', 'david']\n",
    "```\n",
    "\n",
    "---\n",
    "**[출력 예시]**\n",
    "\n",
    "```   \n",
    "[('jason', 'jane'), ('jason', 'ashley'), ('jason', 'mary'), ('eric', 'jane'), ('eric', 'ashley'), ('eric', 'mary'), ('david', 'jane'), ('david', 'ashley'), ('david', 'mary')]\n",
    "```\n",
    "\n"
   ]
  },
  {
   "cell_type": "code",
   "execution_count": 78,
   "metadata": {},
   "outputs": [],
   "source": [
    "girls = ['jane', 'ashley', 'mary']\n",
    "boys = ['jason', 'eric', 'david']"
   ]
  },
  {
   "cell_type": "code",
   "execution_count": null,
   "metadata": {},
   "outputs": [],
   "source": [
    "# 반복문을 활용하여 작성하세요."
   ]
  },
  {
   "cell_type": "code",
   "execution_count": 79,
   "metadata": {},
   "outputs": [
    {
     "name": "stdout",
     "output_type": "stream",
     "text": [
      "[('jason', 'jane'), ('jason', 'ashley'), ('jason', 'mary'), ('eric', 'jane'), ('eric', 'ashley'), ('eric', 'mary'), ('david', 'jane'), ('david', 'ashley'), ('david', 'mary')]\n"
     ]
    }
   ],
   "source": [
    "pairs = []\n",
    "\n",
    "for boy in boys:\n",
    "    for girl in girls:\n",
    "        pair = (boy, girl)\n",
    "        pairs.append(pair)\n",
    "\n",
    "print(pairs)"
   ]
  },
  {
   "cell_type": "code",
   "execution_count": null,
   "metadata": {},
   "outputs": [],
   "source": [
    "# List comprehension을 활용하여 작성하세요."
   ]
  },
  {
   "cell_type": "code",
   "execution_count": 82,
   "metadata": {},
   "outputs": [
    {
     "name": "stdout",
     "output_type": "stream",
     "text": [
      "리턴 있나요?\n"
     ]
    },
    {
     "data": {
      "text/plain": [
       "NoneType"
      ]
     },
     "execution_count": 82,
     "metadata": {},
     "output_type": "execute_result"
    }
   ],
   "source": [
    "# print는 표현식인가요?\n",
    "temp = print('리턴 있나요?')\n",
    "type(temp)"
   ]
  },
  {
   "cell_type": "code",
   "execution_count": 84,
   "metadata": {},
   "outputs": [
    {
     "name": "stdout",
     "output_type": "stream",
     "text": [
      "[('jason', 'jane'), ('jason', 'ashley'), ('jason', 'mary'), ('eric', 'jane'), ('eric', 'ashley'), ('eric', 'mary'), ('david', 'jane'), ('david', 'ashley'), ('david', 'mary')]\n"
     ]
    }
   ],
   "source": [
    "pair = [(boy, girl) for boy in boys for girl in girls]\n",
    "\n",
    "print(pair)"
   ]
  },
  {
   "cell_type": "markdown",
   "metadata": {},
   "source": [
    "### [응용] 피타고라스 정리\n",
    "\n",
    "> 주어진 조건(x < y < z < 50) 내에서 피타고라스 방정식의 해를 찾으세요.\n",
    "1. 반복문 활용\n",
    "2. list comprehension 활용\n",
    "\n",
    "---\n",
    "**[출력 예시]**\n",
    "\n",
    "```\n",
    "[(3, 4, 5), (5, 12, 13), (6, 8, 10), (7, 24, 25), (8, 15, 17), (9, 12, 15), (9, 40, 41), (10, 24, 26), (12, 16, 20), (12, 35, 37), (15, 20, 25), (15, 36, 39), (16, 30, 34), (18, 24, 30), (20, 21, 29), (21, 28, 35), (24, 32, 40), (27, 36, 45)]\n",
    "```"
   ]
  },
  {
   "cell_type": "code",
   "execution_count": null,
   "metadata": {},
   "outputs": [],
   "source": [
    "# 반복문을 활용하여 작성하세요."
   ]
  },
  {
   "cell_type": "code",
   "execution_count": 86,
   "metadata": {},
   "outputs": [
    {
     "name": "stdout",
     "output_type": "stream",
     "text": [
      "[(3, 4, 5), (5, 12, 13), (6, 8, 10), (7, 24, 25), (8, 15, 17), (9, 12, 15), (9, 40, 41), (10, 24, 26), (12, 16, 20), (12, 35, 37), (15, 20, 25), (15, 36, 39), (16, 30, 34), (18, 24, 30), (20, 21, 29), (21, 28, 35), (24, 32, 40), (27, 36, 45)]\n"
     ]
    }
   ],
   "source": [
    "pita = []\n",
    "\n",
    "for x in range(1, 50):\n",
    "    for y in range(1, 50):\n",
    "        for z in range(1, 50):\n",
    "            if x < y < z:\n",
    "                if x**2 + y**2 == z**2:\n",
    "                    hae = (x, y, z)\n",
    "                    pita.append(hae)\n",
    "print(pita)"
   ]
  },
  {
   "cell_type": "code",
   "execution_count": 87,
   "metadata": {},
   "outputs": [
    {
     "name": "stdout",
     "output_type": "stream",
     "text": [
      "[(3, 4, 5), (5, 12, 13), (6, 8, 10), (7, 24, 25), (8, 15, 17), (9, 12, 15), (9, 40, 41), (10, 24, 26), (12, 16, 20), (12, 35, 37), (15, 20, 25), (15, 36, 39), (16, 30, 34), (18, 24, 30), (20, 21, 29), (21, 28, 35), (24, 32, 40), (27, 36, 45)]\n"
     ]
    }
   ],
   "source": [
    "pita = []\n",
    "\n",
    "for x in range(1, 50-2):\n",
    "    for y in range(x+1, 50-1):\n",
    "        for z in range(y+1, 50):\n",
    "            if x**2 + y**2 == z**2:\n",
    "                hae = (x, y, z)\n",
    "                pita.append(hae)\n",
    "print(pita)"
   ]
  },
  {
   "cell_type": "code",
   "execution_count": null,
   "metadata": {},
   "outputs": [],
   "source": [
    "# 위에 코드와 여기있는 코드가 어떤차이가있는지 생각해보세요.\n",
    "pita = []\n",
    "\n",
    "for z in range(1, 50):\n",
    "    for y in range(1, z):\n",
    "        for x in range(1, y):\n",
    "            if x**2 + y**2 == z**2:\n",
    "                hae = (x, y, z)\n",
    "                pita.append(hae)\n",
    "print(pita)"
   ]
  },
  {
   "cell_type": "code",
   "execution_count": null,
   "metadata": {},
   "outputs": [],
   "source": [
    "# List comprehension을 활용하여 작성하세요."
   ]
  },
  {
   "cell_type": "code",
   "execution_count": 88,
   "metadata": {},
   "outputs": [
    {
     "name": "stdout",
     "output_type": "stream",
     "text": [
      "[(3, 4, 5), (5, 12, 13), (6, 8, 10), (7, 24, 25), (8, 15, 17), (9, 12, 15), (9, 40, 41), (10, 24, 26), (12, 16, 20), (12, 35, 37), (15, 20, 25), (15, 36, 39), (16, 30, 34), (18, 24, 30), (20, 21, 29), (21, 28, 35), (24, 32, 40), (27, 36, 45)]\n"
     ]
    }
   ],
   "source": [
    "pita = [(x, y, z)\n",
    "    for x in range(1, 50-2) \n",
    "    for y in range(x+1, 50-1) \n",
    "    for z in range(y+1, 50) \n",
    "    if x**2 + y**2 == z**2\n",
    "    ]\n",
    "print(pita)"
   ]
  },
  {
   "cell_type": "markdown",
   "metadata": {},
   "source": [
    "### [응용] 모음 제거하기\n",
    "\n",
    "> 다음의 문장에서 모음(a, e, i, o, u)를 모두 제거하세요.\n",
    "\n",
    "**[입력 예시]**\n",
    "\n",
    "```python\n",
    "words = 'Life is too short, you need python!'\n",
    "```\n",
    "\n",
    "---\n",
    "**[출력 예시]**\n",
    "\n",
    "```\n",
    "Lf s t shrt, y nd pythn!\n",
    "```"
   ]
  },
  {
   "cell_type": "code",
   "execution_count": 97,
   "metadata": {},
   "outputs": [],
   "source": [
    "moeum = 'aeiou'\n",
    "words = 'Life is too short, you need python!'"
   ]
  },
  {
   "cell_type": "code",
   "execution_count": null,
   "metadata": {},
   "outputs": [],
   "source": [
    "# 반복문을 활용하여 작성하세요."
   ]
  },
  {
   "cell_type": "code",
   "execution_count": 94,
   "metadata": {},
   "outputs": [
    {
     "name": "stdout",
     "output_type": "stream",
     "text": [
      "['L', 'i', 'f', 'e', ' ', 'i', 's', ' ', 't', 'o', 'o', ' ', 's', 'h', 'o', 'r', 't', ',', ' ', 'y', 'o', 'u', ' ', 'n', 'e', 'e', 'd', ' ', 'p', 'y', 't', 'h', 'o', 'n', '!']\n"
     ]
    }
   ],
   "source": [
    "words = list(words)\n",
    "print(words)"
   ]
  },
  {
   "cell_type": "code",
   "execution_count": 96,
   "metadata": {},
   "outputs": [
    {
     "name": "stdout",
     "output_type": "stream",
     "text": [
      "Lf s t shrt, y nd pythn!\n"
     ]
    }
   ],
   "source": [
    "result = []\n",
    "\n",
    "for word in words:\n",
    "    if word not in moeum:\n",
    "        result.append(word)\n",
    "        \n",
    "    # for m in moeum:\n",
    "    #     if word == m:\n",
    "    #         words.remove(m)\n",
    "    #         print(''.join(words))\n",
    "\n",
    "print(''.join(result))"
   ]
  },
  {
   "cell_type": "code",
   "execution_count": null,
   "metadata": {},
   "outputs": [],
   "source": [
    "# List comprehension을 활용하여 작성하세요."
   ]
  },
  {
   "cell_type": "code",
   "execution_count": 98,
   "metadata": {},
   "outputs": [
    {
     "name": "stdout",
     "output_type": "stream",
     "text": [
      "Lf s t shrt, y nd pythn!\n"
     ]
    }
   ],
   "source": [
    "result = [word for word in words if word not in moeum]\n",
    "\n",
    "print(''.join(result))"
   ]
  },
  {
   "cell_type": "code",
   "execution_count": 14,
   "metadata": {},
   "outputs": [
    {
     "name": "stdout",
     "output_type": "stream",
     "text": [
      "18.879599809646606\n",
      "34.03839087486267\n"
     ]
    }
   ],
   "source": [
    "# 참고) 반복문과 list comprehension을 사용할때의 속도 비교\n",
    "import time\n",
    "\n",
    "# 시작 시간 저장\n",
    "start_time = time.time()\n",
    "\n",
    "a = []\n",
    "for i in range(100000000):\n",
    "    a.append(i)\n",
    "\n",
    "# 종료시간 - 시작시간 = 소요된 시간\n",
    "print(time.time() - start_time)\n",
    "\n",
    "\n",
    "start_time = time.time()\n",
    "\n",
    "a = [i for i in range(100000000)]\n",
    "\n",
    "print(time.time() - start_time)"
   ]
  },
  {
   "cell_type": "markdown",
   "metadata": {},
   "source": [
    "## Dictionary comprehension\n",
    "\n",
    "dictionary도 comprehension을 활용하여 만들 수 있습니다. \n",
    "\n",
    "---\n",
    "\n",
    "### 활용법\n",
    "`iterable`에서 `dict`를 생성할 수 있습니다.\n",
    "\n",
    "```python\n",
    "{키: 값 for 요소 in iterable}\n",
    "\n",
    "dict({키: 값 for 요소 in iterable})\n",
    "```"
   ]
  },
  {
   "cell_type": "code",
   "execution_count": null,
   "metadata": {},
   "outputs": [],
   "source": [
    "# for문과 range 함수를 통해 1~8까지의 숫자를 반복하며,\n",
    "# key는 각 숫자, value는 각 숫자를 3제곱하는 값이 되도록하는 딕셔너리 cubic을\n",
    "# Dictionary comprehension를 사용해 작성하세요."
   ]
  },
  {
   "cell_type": "code",
   "execution_count": 15,
   "metadata": {},
   "outputs": [
    {
     "name": "stdout",
     "output_type": "stream",
     "text": [
      "{1: 1, 2: 8, 3: 27, 4: 64, 5: 125, 6: 216, 7: 343, 8: 512}\n"
     ]
    }
   ],
   "source": [
    "cubic = {i: i ** 3 for i in range(1, 9)}\n",
    "print(cubic)"
   ]
  },
  {
   "cell_type": "code",
   "execution_count": 16,
   "metadata": {},
   "outputs": [],
   "source": [
    "# 변수명이 blood_types인 딕셔너리를 만들어봅시다.\n",
    "blood_types = {'A': 40, 'B': 11, 'AB': 4, 'O': 45}"
   ]
  },
  {
   "cell_type": "code",
   "execution_count": null,
   "metadata": {},
   "outputs": [],
   "source": [
    "# blood_types을 통해\n",
    "# 아래와 같은 값을 가지는 딕셔너리 negative_blood_types를 생성하는 코드를\n",
    "# Dictionary comprehension를 사용해 작성하세요."
   ]
  },
  {
   "cell_type": "code",
   "execution_count": 17,
   "metadata": {},
   "outputs": [
    {
     "name": "stdout",
     "output_type": "stream",
     "text": [
      "{'A': -40, 'B': -11, 'AB': -4, 'O': -45}\n"
     ]
    }
   ],
   "source": [
    "negative_blood_types = {key: -blood_types[key] for key in blood_types}\n",
    "\n",
    "print(negative_blood_types)"
   ]
  },
  {
   "cell_type": "markdown",
   "metadata": {},
   "source": [
    "## Dictionary comprehension + 조건\n",
    "\n",
    "List comprehension과 유사하게, 조건문에 참인 식으로 딕셔너리를 생성합니다.\n",
    "\n",
    "\n",
    "### 활용법\n",
    "\n",
    "```python\n",
    "{키: 값 for 요소 in iterable if 조건식}\n",
    "\n",
    "```"
   ]
  },
  {
   "cell_type": "markdown",
   "metadata": {},
   "source": [
    "### Dictionary comprehension 사용해보기"
   ]
  },
  {
   "cell_type": "code",
   "execution_count": 18,
   "metadata": {},
   "outputs": [],
   "source": [
    "# 변수명이 dusts인 딕셔너리를 만들어봅시다.\n",
    "dusts = {'서울': 72, '인천': 82, '제주': 29, '동해': 45}"
   ]
  },
  {
   "cell_type": "code",
   "execution_count": null,
   "metadata": {},
   "outputs": [],
   "source": [
    "# dusts을 통해\n",
    "# 미세먼지 농도가 80 초과 지역 값을 가진 딕셔너리 result를 생성하는 코드를\n",
    "# Dictionary comprehension + 조건문을 사용해 작성하세요.\n",
    "\"\"\"\n",
    "출력 결과)\n",
    "\n",
    "{'인천': 82}\n",
    "\"\"\""
   ]
  },
  {
   "cell_type": "code",
   "execution_count": 19,
   "metadata": {},
   "outputs": [
    {
     "name": "stdout",
     "output_type": "stream",
     "text": [
      "{'인천': 82}\n"
     ]
    }
   ],
   "source": [
    "result = {key: dusts[key] for key in dusts if dusts[key] > 80}\n",
    "\n",
    "print(result)"
   ]
  },
  {
   "cell_type": "code",
   "execution_count": null,
   "metadata": {},
   "outputs": [],
   "source": [
    "# dusts을 통해\n",
    "# 미세먼지 농도가 80초과는 나쁨, 80이하는 보통으로 하는 value를 가지도록 하는 딕셔너리 result를 생성하는 코드를\n",
    "# Dictionary comprehension + 조건문을 사용해 작성하세요.\n",
    "\"\"\"\n",
    "출력 결과)\n",
    "\n",
    "{'서울': '보통', '인천': '나쁨', '제주': '보통', '동해': '보통'}\n",
    "\"\"\""
   ]
  },
  {
   "cell_type": "code",
   "execution_count": null,
   "metadata": {},
   "outputs": [],
   "source": [
    "# 조건 표현식\n",
    "# True_value if 조건 else False_value"
   ]
  },
  {
   "cell_type": "code",
   "execution_count": 20,
   "metadata": {},
   "outputs": [
    {
     "name": "stdout",
     "output_type": "stream",
     "text": [
      "{'서울': '보통', '인천': '나쁨', '제주': '보통', '동해': '보통'}\n"
     ]
    }
   ],
   "source": [
    "result = {key: '나쁨' if dusts[key] > 80 else '보통' for key in dusts}\n",
    "\n",
    "print(result)"
   ]
  },
  {
   "cell_type": "code",
   "execution_count": null,
   "metadata": {},
   "outputs": [],
   "source": [
    "# Dictionary comprehension에서 if-else도 열거할 수 있습니다.\n",
    "# dusts을 통해\n",
    "# 미세먼지 농도가 150초과는 '매우나쁨', 80초과는 '나쁨', 30초과는 '보통', 30이하는 '좋음'으로 하는 \n",
    "# value를 가지도록 하는 딕셔너리 result를 생성하는 코드를\n",
    "# Dictionary comprehension + 조건문을 사용해 작성하세요."
   ]
  },
  {
   "cell_type": "code",
   "execution_count": 24,
   "metadata": {},
   "outputs": [
    {
     "data": {
      "text/plain": [
       "'좋음'"
      ]
     },
     "execution_count": 24,
     "metadata": {},
     "output_type": "execute_result"
    }
   ],
   "source": [
    "dust = 75\n",
    "# 조건표현식에서는 elif를 사용불가\n",
    "# '매우나쁨' if dust > 150 '나쁨' elif dust > 80 else '좋음'\n",
    "\n",
    "# 수정한 코드\n",
    "'매우나쁨' if dust > 150 else '나쁨' if dust > 80 else '보통' if dust > 30 else '좋음'"
   ]
  },
  {
   "cell_type": "code",
   "execution_count": null,
   "metadata": {},
   "outputs": [],
   "source": [
    "# 중첩 조건 표현식\n",
    "# True_value1 if 조건1 else False_value1\n",
    "# False_value1 = True_value2 if 조건2 else False_value2\n",
    "\n",
    "# True_value1 if 조건1 else True_value2 if 조건2 else False_value2\n",
    "# False_value2 = True_value3 if 조건3 else False_value3"
   ]
  },
  {
   "cell_type": "code",
   "execution_count": 25,
   "metadata": {},
   "outputs": [
    {
     "name": "stdout",
     "output_type": "stream",
     "text": [
      "{'서울': '보통', '인천': '나쁨', '제주': '좋음', '동해': '보통'}\n"
     ]
    }
   ],
   "source": [
    "result = {key: # value\n",
    "    '매우나쁨' if dusts[key] > 150 else \n",
    "    '나쁨' if dusts[key] > 80 else\n",
    "    '보통' if dusts[key] > 30 else\n",
    "    '좋음'\n",
    "    for key in dusts}\n",
    "\n",
    "print(result)"
   ]
  },
  {
   "cell_type": "markdown",
   "metadata": {},
   "source": [
    "# 데이터 구조에 적용가능한 Built-in Function\n",
    "\n",
    "순회 가능한(iterable) 데이터 구조에 적용가능한 Built-in Function\n",
    "\n",
    "> iterable 타입 - `list`, `dict`, `set`, `str`, `bytes`, `tuple`, `range`\n",
    "\n",
    "- `map()`\n",
    "- `filter()`\n",
    "- ~~`reduce()`~~ ([참고](https://docs.python.org/ko/3/library/functools.html#functools.reduce))"
   ]
  },
  {
   "cell_type": "markdown",
   "metadata": {},
   "source": [
    "## `map(function, iterable)`\n",
    "\n",
    "* 순회가능한 데이터 구조(iterable)의 모든 요소에 function을 적용한 후 그 결과를 돌려준다. \n",
    "\n",
    "\n",
    "* return은 `map_object` 형태이다."
   ]
  },
  {
   "cell_type": "code",
   "execution_count": 32,
   "metadata": {},
   "outputs": [],
   "source": [
    "numbers = [1, 2, 3]\n",
    "\n",
    "# 위의 변수 numbers를 문자열 '123'으로 만드세요. (join 메서드 활용)"
   ]
  },
  {
   "cell_type": "code",
   "execution_count": 33,
   "metadata": {},
   "outputs": [
    {
     "ename": "TypeError",
     "evalue": "sequence item 0: expected str instance, int found",
     "output_type": "error",
     "traceback": [
      "\u001b[1;31m---------------------------------------------------------------------------\u001b[0m",
      "\u001b[1;31mTypeError\u001b[0m                                 Traceback (most recent call last)",
      "\u001b[1;32mc:\\Users\\SBA8\\Desktop\\python\\3_3_문법_기타.ipynb 셀 75\u001b[0m in \u001b[0;36m<cell line: 1>\u001b[1;34m()\u001b[0m\n\u001b[1;32m----> <a href='vscode-notebook-cell:/c%3A/Users/SBA8/Desktop/python/3_3_%EB%AC%B8%EB%B2%95_%EA%B8%B0%ED%83%80.ipynb#Y126sZmlsZQ%3D%3D?line=0'>1</a>\u001b[0m \u001b[39m'\u001b[39;49m\u001b[39m'\u001b[39;49m\u001b[39m.\u001b[39;49mjoin(numbers)\n",
      "\u001b[1;31mTypeError\u001b[0m: sequence item 0: expected str instance, int found"
     ]
    }
   ],
   "source": [
    "''.join(numbers)"
   ]
  },
  {
   "cell_type": "code",
   "execution_count": null,
   "metadata": {},
   "outputs": [],
   "source": [
    "# List comprehension 활용"
   ]
  },
  {
   "cell_type": "code",
   "execution_count": 34,
   "metadata": {
    "scrolled": true
   },
   "outputs": [
    {
     "name": "stdout",
     "output_type": "stream",
     "text": [
      "['1', '2', '3']\n",
      "123\n"
     ]
    }
   ],
   "source": [
    "my_num_str = [str(num) for num in numbers]\n",
    "print(my_num_str)\n",
    "\n",
    "\n",
    "my_num_str2 = ''.join(my_num_str)\n",
    "print(my_num_str2)"
   ]
  },
  {
   "cell_type": "code",
   "execution_count": 35,
   "metadata": {},
   "outputs": [
    {
     "data": {
      "text/plain": [
       "3"
      ]
     },
     "execution_count": 35,
     "metadata": {},
     "output_type": "execute_result"
    }
   ],
   "source": [
    "# 참고 \n",
    "\n",
    "def my_func(a, b):\n",
    "    return a + b\n",
    "\n",
    "my_func(1, 2)"
   ]
  },
  {
   "cell_type": "code",
   "execution_count": null,
   "metadata": {},
   "outputs": [],
   "source": [
    "# map() 활용"
   ]
  },
  {
   "cell_type": "code",
   "execution_count": 37,
   "metadata": {},
   "outputs": [
    {
     "data": {
      "text/plain": [
       "['1', '2', '3']"
      ]
     },
     "execution_count": 37,
     "metadata": {},
     "output_type": "execute_result"
    }
   ],
   "source": [
    "list(map(str, numbers))"
   ]
  },
  {
   "cell_type": "code",
   "execution_count": 39,
   "metadata": {},
   "outputs": [],
   "source": [
    "new_numbers = list(map(str, numbers))\n",
    "my_num_str = ''.join(new_numbers)"
   ]
  },
  {
   "cell_type": "code",
   "execution_count": 40,
   "metadata": {},
   "outputs": [
    {
     "name": "stdout",
     "output_type": "stream",
     "text": [
      "['1', '2', '3']\n",
      "123\n"
     ]
    }
   ],
   "source": [
    "print(new_numbers)\n",
    "print(my_num_str)"
   ]
  },
  {
   "cell_type": "markdown",
   "metadata": {},
   "source": [
    "`map()` 함수는 입력값을 처리할 때 자주 활용됩니다."
   ]
  },
  {
   "cell_type": "code",
   "execution_count": 42,
   "metadata": {},
   "outputs": [],
   "source": [
    "numbers = ['1', '2', '3']\n",
    "\n",
    "# 위의 변수 numbers를 정수로 구성된 리스트 [1, 2, 3]으로 만드세요."
   ]
  },
  {
   "cell_type": "code",
   "execution_count": null,
   "metadata": {},
   "outputs": [],
   "source": [
    "# List comprehension 활용"
   ]
  },
  {
   "cell_type": "code",
   "execution_count": 43,
   "metadata": {},
   "outputs": [
    {
     "name": "stdout",
     "output_type": "stream",
     "text": [
      "[1, 2, 3]\n"
     ]
    }
   ],
   "source": [
    "new_numbers = [int(num) for num in numbers]\n",
    "print(new_numbers)"
   ]
  },
  {
   "cell_type": "code",
   "execution_count": null,
   "metadata": {},
   "outputs": [],
   "source": [
    "# map() 활용"
   ]
  },
  {
   "cell_type": "code",
   "execution_count": 44,
   "metadata": {},
   "outputs": [
    {
     "data": {
      "text/plain": [
       "[1, 2, 3]"
      ]
     },
     "execution_count": 44,
     "metadata": {},
     "output_type": "execute_result"
    }
   ],
   "source": [
    "list(map(int, numbers))"
   ]
  },
  {
   "cell_type": "markdown",
   "metadata": {},
   "source": [
    "첫번째 인자 function은 사용자 정의 함수도 가능합니다."
   ]
  },
  {
   "cell_type": "code",
   "execution_count": 45,
   "metadata": {},
   "outputs": [],
   "source": [
    "# 세제곱의 결과를 나타내는 함수가 있습니다.\n",
    "def cube(n):\n",
    "    return n ** 3"
   ]
  },
  {
   "cell_type": "code",
   "execution_count": 46,
   "metadata": {},
   "outputs": [],
   "source": [
    "# 세제곱 함수를 각각의 요소에 적용한 결과값을 구해봅시다.\n",
    "numbers = [1, 2, 3]"
   ]
  },
  {
   "cell_type": "code",
   "execution_count": 47,
   "metadata": {},
   "outputs": [
    {
     "data": {
      "text/plain": [
       "[1, 8, 27]"
      ]
     },
     "execution_count": 47,
     "metadata": {},
     "output_type": "execute_result"
    }
   ],
   "source": [
    "list(map(cube, numbers))"
   ]
  },
  {
   "cell_type": "markdown",
   "metadata": {},
   "source": [
    "### [연습] 코딩 테스트의 기본\n",
    "\n",
    "> 두 정수를 입력 받아 더한 값을 출력하시오.\n",
    "\n",
    "**[입력 예시]**\n",
    "\n",
    "3 5\n",
    "\n",
    "---\n",
    "\n",
    "**[출력 예시]**\n",
    "\n",
    "8"
   ]
  },
  {
   "cell_type": "code",
   "execution_count": null,
   "metadata": {},
   "outputs": [],
   "source": [
    "# 아래에 코드를 작성하시오."
   ]
  },
  {
   "cell_type": "code",
   "execution_count": 48,
   "metadata": {},
   "outputs": [],
   "source": [
    "user_input = input()"
   ]
  },
  {
   "cell_type": "code",
   "execution_count": 51,
   "metadata": {},
   "outputs": [
    {
     "name": "stdout",
     "output_type": "stream",
     "text": [
      "['3', '5']\n"
     ]
    }
   ],
   "source": [
    "numbers = user_input.split()\n",
    "print(numbers)"
   ]
  },
  {
   "cell_type": "code",
   "execution_count": 52,
   "metadata": {},
   "outputs": [
    {
     "data": {
      "text/plain": [
       "[3, 5]"
      ]
     },
     "execution_count": 52,
     "metadata": {},
     "output_type": "execute_result"
    }
   ],
   "source": [
    "list(map(int, numbers))"
   ]
  },
  {
   "cell_type": "code",
   "execution_count": 56,
   "metadata": {},
   "outputs": [
    {
     "data": {
      "text/plain": [
       "19"
      ]
     },
     "execution_count": 56,
     "metadata": {},
     "output_type": "execute_result"
    }
   ],
   "source": [
    "# 입력 받아 정수로 형변환\n",
    "numbers = map(int, input().split())\n",
    "\n",
    "sum(numbers)"
   ]
  },
  {
   "cell_type": "code",
   "execution_count": 53,
   "metadata": {},
   "outputs": [
    {
     "name": "stdout",
     "output_type": "stream",
     "text": [
      "3 5\n"
     ]
    }
   ],
   "source": [
    "a, b = map(int, numbers)\n",
    "print(a, b)"
   ]
  },
  {
   "cell_type": "code",
   "execution_count": 54,
   "metadata": {},
   "outputs": [
    {
     "data": {
      "text/plain": [
       "8"
      ]
     },
     "execution_count": 54,
     "metadata": {},
     "output_type": "execute_result"
    }
   ],
   "source": [
    "a + b"
   ]
  },
  {
   "cell_type": "markdown",
   "metadata": {},
   "source": [
    "## `filter(function, iterable)`\n",
    "\n",
    "* iterable에서 function의 반환된 결과가 `True` 인 것들만 구성하여 반환합니다.\n",
    "\n",
    "\n",
    "* `filter object` 를 반환합니다."
   ]
  },
  {
   "cell_type": "code",
   "execution_count": null,
   "metadata": {},
   "outputs": [],
   "source": [
    "# 특정 list에서 홀수만을 걸러내는 코드를 작성해봅시다."
   ]
  },
  {
   "cell_type": "code",
   "execution_count": 57,
   "metadata": {},
   "outputs": [],
   "source": [
    "# 홀수를 판별하는 함수가 있습니다.\n",
    "def odd(n):\n",
    "    return n % 2"
   ]
  },
  {
   "cell_type": "code",
   "execution_count": 58,
   "metadata": {},
   "outputs": [],
   "source": [
    "# 홀수인 요소만 뽑아 new_numbers에 저장합니다.\n",
    "numbers = [1, 2, 3]"
   ]
  },
  {
   "cell_type": "code",
   "execution_count": 59,
   "metadata": {},
   "outputs": [],
   "source": [
    "new_numbers = list(filter(odd, numbers))"
   ]
  },
  {
   "cell_type": "code",
   "execution_count": 60,
   "metadata": {
    "scrolled": true
   },
   "outputs": [
    {
     "name": "stdout",
     "output_type": "stream",
     "text": [
      "[1, 3]\n"
     ]
    }
   ],
   "source": [
    "print(new_numbers)"
   ]
  },
  {
   "cell_type": "code",
   "execution_count": 61,
   "metadata": {},
   "outputs": [],
   "source": [
    "# 참고\n",
    "new_numbers_map = list(map(odd, numbers))"
   ]
  },
  {
   "cell_type": "code",
   "execution_count": 62,
   "metadata": {},
   "outputs": [
    {
     "name": "stdout",
     "output_type": "stream",
     "text": [
      "[1, 0, 1]\n"
     ]
    }
   ],
   "source": [
    "print(new_numbers_map)"
   ]
  },
  {
   "cell_type": "code",
   "execution_count": null,
   "metadata": {},
   "outputs": [],
   "source": [
    "# 다음의 list comprehension과 동일합니다."
   ]
  },
  {
   "cell_type": "code",
   "execution_count": 64,
   "metadata": {},
   "outputs": [
    {
     "name": "stdout",
     "output_type": "stream",
     "text": [
      "[1, 3]\n",
      "[1, 3]\n"
     ]
    }
   ],
   "source": [
    "print([x for x in numbers if odd(x)])\n",
    "print([x for x in numbers if x % 2 ])"
   ]
  },
  {
   "cell_type": "code",
   "execution_count": null,
   "metadata": {},
   "outputs": [],
   "source": [
    "# 참고\n",
    "# 2차원 배열 만들기"
   ]
  },
  {
   "cell_type": "code",
   "execution_count": 75,
   "metadata": {},
   "outputs": [
    {
     "data": {
      "text/plain": [
       "[[0, 0, 0, 0, 0],\n",
       " [0, 0, 3, 0, 0],\n",
       " [0, 0, 0, 0, 0],\n",
       " [0, 0, 0, 0, 0],\n",
       " [0, 0, 0, 0, 0]]"
      ]
     },
     "execution_count": 75,
     "metadata": {},
     "output_type": "execute_result"
    }
   ],
   "source": [
    "temp = [\n",
    "    [0, 0, 0, 0, 0],\n",
    "    [0, 0, 0, 0, 0],\n",
    "    [0, 0, 0, 0, 0],\n",
    "    [0, 0, 0, 0, 0],\n",
    "    [0, 0, 0, 0, 0],\n",
    "]\n",
    "\n",
    "temp[1][2] = 3\n",
    "temp"
   ]
  },
  {
   "cell_type": "code",
   "execution_count": 71,
   "metadata": {},
   "outputs": [
    {
     "data": {
      "text/plain": [
       "[[0, 0, 0, 0, 0, 0],\n",
       " [0, 0, 0, 0, 0, 0],\n",
       " [0, 0, 0, 0, 0, 0],\n",
       " [0, 0, 0, 0, 0, 0],\n",
       " [0, 0, 0, 0, 0, 0],\n",
       " [0, 0, 0, 0, 0, 0]]"
      ]
     },
     "execution_count": 71,
     "metadata": {},
     "output_type": "execute_result"
    }
   ],
   "source": [
    "temp1 = [[0]*6]*6\n",
    "temp1"
   ]
  },
  {
   "cell_type": "code",
   "execution_count": 73,
   "metadata": {},
   "outputs": [
    {
     "data": {
      "text/plain": [
       "[[0, 0, 3, 0, 0, 0],\n",
       " [0, 0, 3, 0, 0, 0],\n",
       " [0, 0, 3, 0, 0, 0],\n",
       " [0, 0, 3, 0, 0, 0],\n",
       " [0, 0, 3, 0, 0, 0],\n",
       " [0, 0, 3, 0, 0, 0]]"
      ]
     },
     "execution_count": 73,
     "metadata": {},
     "output_type": "execute_result"
    }
   ],
   "source": [
    "temp1[1][2] = 3\n",
    "temp1"
   ]
  },
  {
   "cell_type": "code",
   "execution_count": 72,
   "metadata": {},
   "outputs": [
    {
     "data": {
      "text/plain": [
       "[[0, 0, 0, 0, 0, 0],\n",
       " [0, 0, 0, 0, 0, 0],\n",
       " [0, 0, 0, 0, 0, 0],\n",
       " [0, 0, 0, 0, 0, 0],\n",
       " [0, 0, 0, 0, 0, 0],\n",
       " [0, 0, 0, 0, 0, 0]]"
      ]
     },
     "execution_count": 72,
     "metadata": {},
     "output_type": "execute_result"
    }
   ],
   "source": [
    "temp2 = [[0]*6 for i in range(6)]\n",
    "temp2"
   ]
  },
  {
   "cell_type": "code",
   "execution_count": 74,
   "metadata": {},
   "outputs": [
    {
     "data": {
      "text/plain": [
       "[[0, 0, 0, 0, 0, 0],\n",
       " [0, 0, 3, 0, 0, 0],\n",
       " [0, 0, 0, 0, 0, 0],\n",
       " [0, 0, 0, 0, 0, 0],\n",
       " [0, 0, 0, 0, 0, 0],\n",
       " [0, 0, 0, 0, 0, 0]]"
      ]
     },
     "execution_count": 74,
     "metadata": {},
     "output_type": "execute_result"
    }
   ],
   "source": [
    "temp2[1][2] = 3\n",
    "temp2"
   ]
  },
  {
   "cell_type": "code",
   "execution_count": null,
   "metadata": {},
   "outputs": [],
   "source": []
  }
 ],
 "metadata": {
  "kernelspec": {
   "display_name": "Python 3.10.4 ('study')",
   "language": "python",
   "name": "python3"
  },
  "language_info": {
   "codemirror_mode": {
    "name": "ipython",
    "version": 3
   },
   "file_extension": ".py",
   "mimetype": "text/x-python",
   "name": "python",
   "nbconvert_exporter": "python",
   "pygments_lexer": "ipython3",
   "version": "3.10.4"
  },
  "vscode": {
   "interpreter": {
    "hash": "d40a43472e4aad7d1c02a3ba5e2bb4c68b5fb5fbe04edf43a51aaf953eaade54"
   }
  }
 },
 "nbformat": 4,
 "nbformat_minor": 2
}

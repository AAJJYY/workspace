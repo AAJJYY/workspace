{
 "cells": [
  {
   "cell_type": "code",
   "execution_count": 1,
   "metadata": {},
   "outputs": [
    {
     "name": "stdout",
     "output_type": "stream",
     "text": [
      "30\n",
      "10\n"
     ]
    }
   ],
   "source": [
    "a = 10 # 전역번수 (global)\n",
    "\n",
    "def func(b):\n",
    "    # b = 10\n",
    "    a = 30 # 지역변수 (local)\n",
    "    print(a)\n",
    "\n",
    "func(a)\n",
    "\n",
    "print(a)"
   ]
  },
  {
   "cell_type": "code",
   "execution_count": 3,
   "metadata": {},
   "outputs": [
    {
     "name": "stdout",
     "output_type": "stream",
     "text": [
      "재귀 함수 5\n",
      "재귀 함수 4\n",
      "재귀 함수 3\n",
      "재귀 함수 2\n",
      "재귀 함수 1\n",
      "재귀함수 끝났다.\n"
     ]
    }
   ],
   "source": [
    "def recursive_func(end):\n",
    "    if end == 0:\n",
    "        print('재귀함수 끝났다.')\n",
    "        return\n",
    "    print('재귀 함수', end)\n",
    "    recursive_func(end-1)\n",
    "\n",
    "recursive_func(5)"
   ]
  },
  {
   "cell_type": "code",
   "execution_count": 6,
   "metadata": {},
   "outputs": [
    {
     "data": {
      "text/plain": [
       "120"
      ]
     },
     "execution_count": 6,
     "metadata": {},
     "output_type": "execute_result"
    }
   ],
   "source": [
    "5 * 4 * 3 * 2 * 1"
   ]
  },
  {
   "cell_type": "code",
   "execution_count": 5,
   "metadata": {},
   "outputs": [
    {
     "name": "stdout",
     "output_type": "stream",
     "text": [
      "120\n"
     ]
    }
   ],
   "source": [
    "def factorial(n):\n",
    "    if n == 1:\n",
    "        return 1\n",
    "    return n * factorial(n-1)\n",
    "\n",
    "print(factorial(5))"
   ]
  }
 ],
 "metadata": {
  "kernelspec": {
   "display_name": "Python 3.10.4 ('study')",
   "language": "python",
   "name": "python3"
  },
  "language_info": {
   "codemirror_mode": {
    "name": "ipython",
    "version": 3
   },
   "file_extension": ".py",
   "mimetype": "text/x-python",
   "name": "python",
   "nbconvert_exporter": "python",
   "pygments_lexer": "ipython3",
   "version": "3.10.4"
  },
  "orig_nbformat": 4,
  "vscode": {
   "interpreter": {
    "hash": "d40a43472e4aad7d1c02a3ba5e2bb4c68b5fb5fbe04edf43a51aaf953eaade54"
   }
  }
 },
 "nbformat": 4,
 "nbformat_minor": 2
}

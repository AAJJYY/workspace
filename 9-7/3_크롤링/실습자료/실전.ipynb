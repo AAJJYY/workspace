{
 "cells": [
  {
   "cell_type": "code",
   "execution_count": 1,
   "id": "562a17e0",
   "metadata": {},
   "outputs": [],
   "source": [
    "import requests\n",
    "from bs4 import BeautifulSoup\n",
    "\n",
    "res = requests.get('https://movie.naver.com/movie/sdb/rank/rmovie.naver')\n",
    "soup = BeautifulSoup(res.text, 'html.parser')"
   ]
  },
  {
   "cell_type": "code",
   "execution_count": null,
   "id": "2043aa33",
   "metadata": {},
   "outputs": [],
   "source": []
  },
  {
   "cell_type": "code",
   "execution_count": 7,
   "id": "24f59c50",
   "metadata": {},
   "outputs": [],
   "source": [
    "results = soup.select('.list_ranking tbody tr')"
   ]
  },
  {
   "cell_type": "code",
   "execution_count": 8,
   "id": "0225d35c",
   "metadata": {},
   "outputs": [
    {
     "data": {
      "text/plain": [
       "56"
      ]
     },
     "execution_count": 8,
     "metadata": {},
     "output_type": "execute_result"
    }
   ],
   "source": [
    "len(results)"
   ]
  },
  {
   "cell_type": "code",
   "execution_count": 21,
   "id": "265a7ce4",
   "metadata": {},
   "outputs": [
    {
     "data": {
      "text/plain": [
       "<tr><td class=\"line01\" colspan=\"8\"></td></tr>"
      ]
     },
     "execution_count": 21,
     "metadata": {},
     "output_type": "execute_result"
    }
   ],
   "source": [
    "results[11]"
   ]
  },
  {
   "cell_type": "code",
   "execution_count": null,
   "id": "f81c660a",
   "metadata": {},
   "outputs": [],
   "source": []
  },
  {
   "cell_type": "code",
   "execution_count": 12,
   "id": "f09a1292",
   "metadata": {},
   "outputs": [],
   "source": [
    "result.select_one('.tit3')"
   ]
  },
  {
   "cell_type": "code",
   "execution_count": 13,
   "id": "2067b393",
   "metadata": {},
   "outputs": [
    {
     "data": {
      "text/plain": [
       "<tr><td class=\"blank01\" colspan=\"8\"></td></tr>"
      ]
     },
     "execution_count": 13,
     "metadata": {},
     "output_type": "execute_result"
    }
   ],
   "source": [
    "result"
   ]
  },
  {
   "cell_type": "code",
   "execution_count": 22,
   "id": "46617cbd",
   "metadata": {},
   "outputs": [
    {
     "data": {
      "text/plain": [
       "<tr><td class=\"blank01\" colspan=\"8\"></td></tr>"
      ]
     },
     "execution_count": 22,
     "metadata": {},
     "output_type": "execute_result"
    }
   ],
   "source": [
    "results[0]"
   ]
  },
  {
   "cell_type": "code",
   "execution_count": 26,
   "id": "788f584e",
   "metadata": {},
   "outputs": [
    {
     "name": "stdout",
     "output_type": "stream",
     "text": [
      "None\n"
     ]
    }
   ],
   "source": [
    "print(results[0].select_one('.tit3'))"
   ]
  },
  {
   "cell_type": "code",
   "execution_count": 41,
   "id": "74979689",
   "metadata": {},
   "outputs": [],
   "source": [
    "temp = {\n",
    "    '제목': '헌트',\n",
    "    '순위': '1'\n",
    "}"
   ]
  },
  {
   "cell_type": "code",
   "execution_count": 50,
   "id": "fff9d94b",
   "metadata": {},
   "outputs": [],
   "source": [
    "titles = []\n",
    "\n",
    "final_result = []\n",
    "for result in results:\n",
    "    try:\n",
    "        title = result.select_one('.tit3').text.strip()\n",
    "        titles.append(title)\n",
    "        \n",
    "#         img_tag = result.select_one('img')\n",
    "#         rank = img_tag.attrs['alt']\n",
    "        \n",
    "        ac_tag = result.select_one('.ac')\n",
    "#         print(ac_tag)\n",
    "        \n",
    "        try:\n",
    "            rank = int(ac_tag.select_one('img').attrs['alt'])\n",
    "        except:\n",
    "            pass\n",
    "        \n",
    "        final_result.append( [rank, title] )\n",
    "        \n",
    "#         final_result[rank] = title\n",
    "        \n",
    "        \n",
    "    except:\n",
    "        pass\n",
    "\n",
    "#     print(result.select_one('.tit3'))\n",
    "\n",
    "#     title_tag = result.select_one('.tit3')\n",
    "#     if title_tag != None:\n",
    "#         titles.append(title_tag.text.strip())\n",
    "#     else:\n",
    "#         pass\n"
   ]
  },
  {
   "cell_type": "code",
   "execution_count": 51,
   "id": "08afd754",
   "metadata": {},
   "outputs": [
    {
     "data": {
      "text/plain": [
       "[[1, '헌트'],\n",
       " [2, '한산: 용의 출현'],\n",
       " [3, '육사오(6/45)'],\n",
       " [4, '외계+인 1부'],\n",
       " [5, '비상선언'],\n",
       " [6, '탑건: 매버릭'],\n",
       " [7, '불릿 트레인'],\n",
       " [8, '놉'],\n",
       " [9, '서울대작전'],\n",
       " [10, '헤어질 결심'],\n",
       " [11, '공조2: 인터내셔날'],\n",
       " [12, '귀멸의 칼날: 아사쿠사 편'],\n",
       " [12, '사랑할 땐 누구나 최악이 된다'],\n",
       " [14, '리미트'],\n",
       " [15, '미니언즈2'],\n",
       " [16, '블랙폰'],\n",
       " [17, '늑대사냥'],\n",
       " [18, '파라다이스 하이웨이'],\n",
       " [18, '노스맨'],\n",
       " [20, '말아'],\n",
       " [21, '어웨이크'],\n",
       " [22, '인플루엔자'],\n",
       " [22, '범죄도시2'],\n",
       " [24, '초록밤'],\n",
       " [25, '엔젤 하트'],\n",
       " [26, '정직한 후보2'],\n",
       " [27, '토르: 러브 앤 썬더'],\n",
       " [28, '썬다운'],\n",
       " [29, '모가디슈'],\n",
       " [29, '보일링 포인트'],\n",
       " [31, '명탐정 코난: 할로윈의 신부'],\n",
       " [32, '풀타임'],\n",
       " [33, '큐브'],\n",
       " [33, '파로호'],\n",
       " [35, '코코순이'],\n",
       " [36, 'DC 리그 오브 슈퍼-펫'],\n",
       " [36, '브로커'],\n",
       " [38, '뽀로로 극장판 드래곤캐슬 대모험'],\n",
       " [39, '노웨어 스페셜'],\n",
       " [39, '마녀(魔女) Part2. The Other One'],\n",
       " [39, '극장판 도라에몽: 진구의 우주소전쟁 리틀스타워즈 2021'],\n",
       " [42, '헌트'],\n",
       " [42, '어스'],\n",
       " [44, '컴백홈'],\n",
       " [45, '락다운 213주'],\n",
       " [45, '인생은 아름다워'],\n",
       " [47, '슈퍼 후?'],\n",
       " [48, '가버나움'],\n",
       " [49, '블랙 아담'],\n",
       " [49, '그레이 맨']]"
      ]
     },
     "execution_count": 51,
     "metadata": {},
     "output_type": "execute_result"
    }
   ],
   "source": [
    "final_result"
   ]
  },
  {
   "cell_type": "code",
   "execution_count": 53,
   "id": "f6f31a3e",
   "metadata": {},
   "outputs": [
    {
     "data": {
      "text/plain": [
       "50"
      ]
     },
     "execution_count": 53,
     "metadata": {},
     "output_type": "execute_result"
    }
   ],
   "source": [
    "len(titles)"
   ]
  },
  {
   "cell_type": "code",
   "execution_count": 54,
   "id": "ac8d46d7",
   "metadata": {},
   "outputs": [],
   "source": [
    "titles\n",
    "ranks = range(1, len(titles)+1)"
   ]
  },
  {
   "cell_type": "code",
   "execution_count": 57,
   "id": "49d342cf",
   "metadata": {},
   "outputs": [
    {
     "data": {
      "text/plain": [
       "{1: '헌트',\n",
       " 2: '한산: 용의 출현',\n",
       " 3: '육사오(6/45)',\n",
       " 4: '외계+인 1부',\n",
       " 5: '비상선언',\n",
       " 6: '탑건: 매버릭',\n",
       " 7: '불릿 트레인',\n",
       " 8: '놉',\n",
       " 9: '서울대작전',\n",
       " 10: '헤어질 결심',\n",
       " 11: '공조2: 인터내셔날',\n",
       " 12: '귀멸의 칼날: 아사쿠사 편',\n",
       " 13: '사랑할 땐 누구나 최악이 된다',\n",
       " 14: '리미트',\n",
       " 15: '미니언즈2',\n",
       " 16: '블랙폰',\n",
       " 17: '늑대사냥',\n",
       " 18: '파라다이스 하이웨이',\n",
       " 19: '노스맨',\n",
       " 20: '말아',\n",
       " 21: '어웨이크',\n",
       " 22: '인플루엔자',\n",
       " 23: '범죄도시2',\n",
       " 24: '초록밤',\n",
       " 25: '엔젤 하트',\n",
       " 26: '정직한 후보2',\n",
       " 27: '토르: 러브 앤 썬더',\n",
       " 28: '썬다운',\n",
       " 29: '모가디슈',\n",
       " 30: '보일링 포인트',\n",
       " 31: '명탐정 코난: 할로윈의 신부',\n",
       " 32: '풀타임',\n",
       " 33: '큐브',\n",
       " 34: '파로호',\n",
       " 35: '코코순이',\n",
       " 36: 'DC 리그 오브 슈퍼-펫',\n",
       " 37: '브로커',\n",
       " 38: '뽀로로 극장판 드래곤캐슬 대모험',\n",
       " 39: '노웨어 스페셜',\n",
       " 40: '마녀(魔女) Part2. The Other One',\n",
       " 41: '극장판 도라에몽: 진구의 우주소전쟁 리틀스타워즈 2021',\n",
       " 42: '헌트',\n",
       " 43: '어스',\n",
       " 44: '컴백홈',\n",
       " 45: '락다운 213주',\n",
       " 46: '인생은 아름다워',\n",
       " 47: '슈퍼 후?',\n",
       " 48: '가버나움',\n",
       " 49: '블랙 아담',\n",
       " 50: '그레이 맨'}"
      ]
     },
     "execution_count": 57,
     "metadata": {},
     "output_type": "execute_result"
    }
   ],
   "source": [
    "movie_rank_dict = dict(zip(ranks, titles))"
   ]
  },
  {
   "cell_type": "code",
   "execution_count": null,
   "id": "b6404d4a",
   "metadata": {},
   "outputs": [],
   "source": []
  },
  {
   "cell_type": "code",
   "execution_count": null,
   "id": "1766c5e9",
   "metadata": {},
   "outputs": [],
   "source": [
    "# 예외 처리\n",
    "try:\n",
    "    실행할 코드\n",
    "except:\n",
    "    에러 발생 시 실행할 코드"
   ]
  },
  {
   "cell_type": "code",
   "execution_count": null,
   "id": "0a10fe04",
   "metadata": {},
   "outputs": [],
   "source": []
  },
  {
   "cell_type": "code",
   "execution_count": null,
   "id": "3e04e1ed",
   "metadata": {},
   "outputs": [],
   "source": []
  },
  {
   "cell_type": "code",
   "execution_count": 63,
   "id": "fbd49e39",
   "metadata": {},
   "outputs": [],
   "source": [
    "import requests\n",
    "from bs4 import BeautifulSoup\n",
    "\n",
    "res = requests.get('https://finance.naver.com/sise/sise_quant.nhn')\n",
    "soup = BeautifulSoup(res.text, 'html.parser')"
   ]
  },
  {
   "cell_type": "code",
   "execution_count": 95,
   "id": "fd79bf94",
   "metadata": {},
   "outputs": [],
   "source": [
    "stock_results = soup.select('.type_2 tr')[1:]"
   ]
  },
  {
   "cell_type": "code",
   "execution_count": 99,
   "id": "8da021af",
   "metadata": {},
   "outputs": [
    {
     "data": {
      "text/plain": [
       "<tr><td class=\"blank_08\" colspan=\"10\"></td></tr>"
      ]
     },
     "execution_count": 99,
     "metadata": {},
     "output_type": "execute_result"
    }
   ],
   "source": [
    "stock_results[0]"
   ]
  },
  {
   "cell_type": "code",
   "execution_count": 101,
   "id": "86e664b0",
   "metadata": {},
   "outputs": [
    {
     "name": "stdout",
     "output_type": "stream",
     "text": [
      "None\n"
     ]
    }
   ],
   "source": [
    "print(stock_results[0].select_one('.tltle'))"
   ]
  },
  {
   "cell_type": "code",
   "execution_count": 107,
   "id": "db687b9a",
   "metadata": {},
   "outputs": [],
   "source": [
    "stock_list = []\n",
    "for stock_result in stock_results: # stock_result = tr태그\n",
    "    try:\n",
    "        stock_name = stock_result.select_one('.tltle').text\n",
    "        \n",
    "        stock_price = stock_result.select_one('.number').text\n",
    "#         stock_price = stock_result.select('.number')[0]\n",
    "#         print(stock_name, stock_price, sep='\\t')\n",
    "    \n",
    "        stock_list.append( [stock_name, stock_price] )\n",
    "        \n",
    "    except:\n",
    "        pass"
   ]
  },
  {
   "cell_type": "code",
   "execution_count": null,
   "id": "0fa0795e",
   "metadata": {},
   "outputs": [],
   "source": []
  },
  {
   "cell_type": "code",
   "execution_count": 114,
   "id": "00f88c65",
   "metadata": {},
   "outputs": [
    {
     "name": "stdout",
     "output_type": "stream",
     "text": [
      "['tah', 'p11', 'nv01']\n",
      "['tah', 'p11', 'nv01']\n",
      "['tah', 'p11', 'nv01']\n",
      "['tah', 'p11', 'nv01']\n",
      "['tah', 'p11', 'red02']\n",
      "['tah', 'p11', 'red02']\n",
      "['tah', 'p11', 'red02']\n",
      "['tah', 'p11', 'nv01']\n",
      "['tah', 'p11', 'nv01']\n",
      "['tah', 'p11', 'red02']\n",
      "['tah', 'p11', 'red02']\n",
      "['tah', 'p11', 'red02']\n",
      "['tah', 'p11', 'nv01']\n",
      "['tah', 'p11', 'nv01']\n",
      "['tah', 'p11', 'nv01']\n",
      "['tah', 'p11', 'red02']\n",
      "['tah', 'p11', 'red02']\n",
      "['tah', 'p11', 'red02']\n",
      "['tah', 'p11', 'nv01']\n",
      "['tah', 'p11', 'nv01']\n",
      "['tah', 'p11', 'red02']\n",
      "['tah', 'p11', 'nv01']\n",
      "['tah', 'p11', 'nv01']\n",
      "['tah', 'p11', 'nv01']\n",
      "['tah', 'p11', 'red02']\n",
      "['tah', 'p11', 'red02']\n",
      "['tah', 'p11']\n",
      "['tah', 'p11', 'red02']\n",
      "['tah', 'p11', 'red02']\n",
      "['tah', 'p11', 'red02']\n",
      "['tah', 'p11', 'nv01']\n",
      "['tah', 'p11', 'nv01']\n",
      "['tah', 'p11']\n",
      "['tah', 'p11', 'nv01']\n",
      "['tah', 'p11', 'red02']\n",
      "['tah', 'p11', 'red02']\n",
      "['tah', 'p11', 'nv01']\n",
      "['tah', 'p11', 'red02']\n",
      "['tah', 'p11', 'red02']\n",
      "['tah', 'p11', 'nv01']\n",
      "['tah', 'p11', 'red02']\n",
      "['tah', 'p11', 'red02']\n",
      "['tah', 'p11', 'red02']\n",
      "['tah', 'p11', 'red02']\n",
      "['tah', 'p11', 'nv01']\n",
      "['tah', 'p11', 'nv01']\n",
      "['tah', 'p11', 'red02']\n",
      "['tah', 'p11', 'red02']\n",
      "['tah', 'p11', 'nv01']\n",
      "['tah', 'p11', 'nv01']\n",
      "['tah', 'p11']\n",
      "['tah', 'p11', 'nv01']\n",
      "['tah', 'p11', 'nv01']\n",
      "['tah', 'p11', 'red02']\n",
      "['tah', 'p11', 'red02']\n",
      "['tah', 'p11']\n",
      "['tah', 'p11', 'red02']\n",
      "['tah', 'p11', 'red02']\n",
      "['tah', 'p11', 'nv01']\n",
      "['tah', 'p11', 'nv01']\n",
      "['tah', 'p11', 'nv01']\n",
      "['tah', 'p11', 'red02']\n",
      "['tah', 'p11', 'nv01']\n",
      "['tah', 'p11', 'nv01']\n",
      "['tah', 'p11', 'red02']\n",
      "['tah', 'p11', 'red02']\n",
      "['tah', 'p11', 'red02']\n",
      "['tah', 'p11', 'red02']\n",
      "['tah', 'p11', 'red02']\n",
      "['tah', 'p11', 'red02']\n",
      "['tah', 'p11', 'red02']\n",
      "['tah', 'p11', 'red02']\n",
      "['tah', 'p11', 'nv01']\n",
      "['tah', 'p11', 'red02']\n",
      "['tah', 'p11', 'red02']\n",
      "['tah', 'p11', 'nv01']\n",
      "['tah', 'p11', 'nv01']\n",
      "['tah', 'p11', 'red02']\n",
      "['tah', 'p11', 'red02']\n",
      "['tah', 'p11', 'nv01']\n",
      "['tah', 'p11', 'red02']\n",
      "['tah', 'p11', 'red02']\n",
      "['tah', 'p11', 'red02']\n",
      "['tah', 'p11', 'nv01']\n",
      "['tah', 'p11', 'red02']\n",
      "['tah', 'p11', 'red02']\n",
      "['tah', 'p11', 'nv01']\n",
      "['tah', 'p11', 'red02']\n",
      "['tah', 'p11', 'red02']\n",
      "['tah', 'p11', 'nv01']\n",
      "['tah', 'p11', 'red02']\n",
      "['tah', 'p11', 'nv01']\n",
      "['tah', 'p11', 'red02']\n",
      "['tah', 'p11', 'red02']\n",
      "['tah', 'p11', 'nv01']\n",
      "['tah', 'p11', 'nv01']\n",
      "['tah', 'p11', 'red02']\n",
      "['tah', 'p11', 'red02']\n",
      "['tah', 'p11', 'red02']\n",
      "['tah', 'p11', 'red02']\n",
      "0\n"
     ]
    }
   ],
   "source": [
    "stock_up_list = []\n",
    "i = 0\n",
    "for stock_result in stock_results:\n",
    "    try:\n",
    "        stock_name = stock_result.select_one('.tltle').text\n",
    "        stock_price = stock_result.select_one('.number').text\n",
    "        \n",
    "#         td_tag_1 = stock_result.select('.number')[1] # 전일비 태그\n",
    "        \n",
    "#         img_tag = td_tag_1.select_one('img')\n",
    "#         if img_tag != None:\n",
    "#             if img_tag.attrs['alt'] == '상승':\n",
    "#                 stock_up_list.append([ stock_name, stock_price, td_tag_1.text.strip() ])\n",
    "        \n",
    "#         if td_tag_1.text.strip() != '0':\n",
    "#             stock_up_down = td_tag_1.select_one('img').attrs['alt']\n",
    "#             if stock_up_down == '상승':\n",
    "#                 stock_up_list.append( [ stock_name, stock_price, td_tag_1.text.strip() ] )\n",
    "\n",
    "        span_tag = stock_result.select_one('span')\n",
    "        if 'red02' in span_tag.attrs['class']:\n",
    "            stock_up_list.append( [stock_name, stock_price, span_tag.text.strip() ] )\n",
    "        # print(span_tag.text.strip())\n",
    "        \n",
    "    except:\n",
    "        pass\n"
   ]
  },
  {
   "cell_type": "code",
   "execution_count": 110,
   "id": "1ef3c53a",
   "metadata": {},
   "outputs": [
    {
     "data": {
      "text/plain": [
       "[['신한 인버스 2X 천연가스 선물 ETN', '140', '10'],\n",
       " ['KODEX 레버리지', '15,255', '285'],\n",
       " ['KODEX 코스닥150레버리지', '8,750', '460'],\n",
       " ['휴스틸', '8,320', '520'],\n",
       " ['삼성전자', '58,700', '100'],\n",
       " ['화승알앤에이', '4,780', '240'],\n",
       " ['KBSTAR 단기통안채', '105,425', '20'],\n",
       " ['이엔플러스', '3,210', '60'],\n",
       " ['세아특수강', '21,600', '2,500'],\n",
       " ['TRUE 인버스 2X 천연가스 선물 ETN(H)', '255', '15'],\n",
       " ['한국종합기술', '8,510', '10'],\n",
       " ['모나리자', '3,595', '15'],\n",
       " ['KODEX 코스닥150', '11,240', '310'],\n",
       " ['신한 인버스 2X 천연가스 선물 ETN(H)', '85', '5'],\n",
       " ['코스모화학', '23,400', '900'],\n",
       " ['도화엔지니어링', '9,290', '40'],\n",
       " ['NPC', '9,490', '330'],\n",
       " ['세아베스틸지주', '19,850', '700'],\n",
       " ['대성산업', '5,210', '140'],\n",
       " ['이수화학', '22,850', '900'],\n",
       " ['유니온머티리얼', '3,180', '30'],\n",
       " ['KODEX 200', '31,955', '315'],\n",
       " ['화신', '10,700', '1,020'],\n",
       " ['쌍방울', '496', '6'],\n",
       " ['SK증권', '747', '21'],\n",
       " ['우리종금', '880', '2'],\n",
       " ['한화생명', '2,330', '75'],\n",
       " ['금양', '11,700', '50'],\n",
       " ['GS글로벌', '3,620', '20'],\n",
       " ['KEC', '2,695', '40'],\n",
       " ['서울식품', '253', '2'],\n",
       " ['한창', '1,055', '40'],\n",
       " ['평화산업', '1,740', '5'],\n",
       " ['코스모신소재', '64,300', '2,600'],\n",
       " ['SK하이닉스', '93,100', '600'],\n",
       " ['에이프로젠', '1,400', '20'],\n",
       " ['우리금융지주', '12,050', '50'],\n",
       " ['잇츠한불', '16,900', '1,600'],\n",
       " ['DB하이텍', '46,200', '2,800'],\n",
       " ['TIGER 미국S&P500', '13,705', '55'],\n",
       " ['삼부토건', '1,975', '15'],\n",
       " ['TIGER KRX2차전지K-뉴딜', '14,435', '85'],\n",
       " ['한신기계', '9,100', '20'],\n",
       " ['카카오뱅크', '27,300', '350'],\n",
       " ['삼성공조', '12,950', '850'],\n",
       " ['삼성엔지니어링', '24,000', '500'],\n",
       " ['TIGER 여행레저', '4,140', '100'],\n",
       " ['한화', '32,250', '1,100'],\n",
       " ['한국카본', '14,850', '250'],\n",
       " ['후성', '16,200', '100'],\n",
       " ['KODEX 2차전지산업', '19,875', '150'],\n",
       " ['기아', '79,900', '2,400'],\n",
       " ['남선알미늄', '2,275', '30'],\n",
       " ['일동홀딩스', '30,650', '2,350'],\n",
       " ['롯데관광개발', '12,500', '700'],\n",
       " ['KODEX 미국나스닥100선물(H)', '15,770', '95']]"
      ]
     },
     "execution_count": 110,
     "metadata": {},
     "output_type": "execute_result"
    }
   ],
   "source": [
    "stock_up_list"
   ]
  },
  {
   "cell_type": "code",
   "execution_count": null,
   "id": "8a4ba1ed",
   "metadata": {},
   "outputs": [],
   "source": []
  },
  {
   "cell_type": "code",
   "execution_count": null,
   "id": "8ed23828",
   "metadata": {},
   "outputs": [],
   "source": []
  },
  {
   "cell_type": "markdown",
   "id": "5f69660a",
   "metadata": {},
   "source": [
    "## 실전 3"
   ]
  },
  {
   "cell_type": "code",
   "execution_count": null,
   "id": "12a2c461",
   "metadata": {},
   "outputs": [],
   "source": [
    "# https://store.musinsa.com/app/items/lists/001\n",
    "# https://www.musinsa.com/category/001"
   ]
  },
  {
   "cell_type": "code",
   "execution_count": 120,
   "id": "6d2b2dde",
   "metadata": {},
   "outputs": [
    {
     "name": "stdout",
     "output_type": "stream",
     "text": [
      "200\n"
     ]
    }
   ],
   "source": [
    "import requests\n",
    "from bs4 import BeautifulSoup\n",
    "\n",
    "URL = 'https://www.musinsa.com/category/001'\n",
    "res = requests.get(URL)\n",
    "print(res.status_code)\n",
    "soup = BeautifulSoup(res.text, 'html.parser')"
   ]
  },
  {
   "cell_type": "code",
   "execution_count": 122,
   "id": "3f17f3b2",
   "metadata": {},
   "outputs": [],
   "source": [
    "item_list = soup.select('#goods_list .li_box')"
   ]
  },
  {
   "cell_type": "code",
   "execution_count": 131,
   "id": "9897baa2",
   "metadata": {},
   "outputs": [],
   "source": [
    "musinsa_result = []\n",
    "\n",
    "for item in item_list:\n",
    "    brand_name = item.select_one('.item_title').text\n",
    "    item_name = item.select_one('.list_info').text.strip()\n",
    "    \n",
    "#     item_name = item.select_one('a[name=\"goods_link\"]').text.strip()\n",
    "    prices = item.select_one('.price').text.split()\n",
    "#     if len(prices) > 1:\n",
    "#         original_price = prices[0]\n",
    "#         discount_price = prices[1]\n",
    "#     else:\n",
    "#         original_price = prices[0]\n",
    "#         discount_price = prices[0]\n",
    "    \n",
    "    temp = {\n",
    "        '브랜드': brand_name,\n",
    "        '상품명': item_name,\n",
    "        '원래가격': prices[0],\n",
    "        '할인가격': prices[-1]\n",
    "    }\n",
    "    \n",
    "    musinsa_result.append(temp)"
   ]
  },
  {
   "cell_type": "code",
   "execution_count": 132,
   "id": "f6388e7f",
   "metadata": {},
   "outputs": [
    {
     "data": {
      "text/plain": [
       "[{'브랜드': '커버낫',\n",
       "  '상품명': '에센셜 쿨 코튼 2-PACK 티셔츠',\n",
       "  '원래가격': '49,000원',\n",
       "  '할인가격': '39,200원'},\n",
       " {'브랜드': '라퍼지스토어',\n",
       "  '상품명': '시티보이 빅오버 옥스포드 반팔 셔츠_Sky Blue',\n",
       "  '원래가격': '45,000원',\n",
       "  '할인가격': '29,800원'},\n",
       " {'브랜드': '무신사 스탠다드',\n",
       "  '상품명': '베이식 긴팔 티셔츠 2팩',\n",
       "  '원래가격': '25,800원',\n",
       "  '할인가격': '23,190원'},\n",
       " {'브랜드': '수아레',\n",
       "  '상품명': '린넨 라이크 카라 하프 니트 - 8 COLOR',\n",
       "  '원래가격': '55,000원',\n",
       "  '할인가격': '39,600원'},\n",
       " {'브랜드': '지오다노',\n",
       "  '상품명': '011502 폴로 피케 반팔티',\n",
       "  '원래가격': '16,800원',\n",
       "  '할인가격': '8,000원'},\n",
       " {'브랜드': '무신사 스탠다드',\n",
       "  '상품명': '레이어드 슬리브리스 탑_일반 기장 [화이트]',\n",
       "  '원래가격': '11,900원',\n",
       "  '할인가격': '10,690원'},\n",
       " {'브랜드': '게인스보로',\n",
       "  '상품명': '[SET] 아치로고 카라 맨투맨 셋업_블랙',\n",
       "  '원래가격': '104,000원',\n",
       "  '할인가격': '55,900원'},\n",
       " {'브랜드': '무신사 스탠다드',\n",
       "  '상품명': '릴렉스 핏 크루 넥 반팔 티셔츠 [화이트]',\n",
       "  '원래가격': '11,900원',\n",
       "  '할인가격': '10,690원'},\n",
       " {'브랜드': '코드그라피',\n",
       "  '상품명': '10/14 배송 \\n                                    \\n                                    [호시 PICK] [SET] (맨투맨 OR 후드 선택) CGP 오리진 호랑이 로고 트레이닝 셋업_멜란지그레이',\n",
       "  '원래가격': '97,900원',\n",
       "  '할인가격': '69,900원'},\n",
       " {'브랜드': '라퍼지스토어',\n",
       "  '상품명': '시티보이 빅오버 옥스포드 반팔 셔츠_White',\n",
       "  '원래가격': '45,000원',\n",
       "  '할인가격': '29,800원'},\n",
       " {'브랜드': '무신사 스탠다드',\n",
       "  '상품명': '베이식 긴팔 티셔츠 [화이트]',\n",
       "  '원래가격': '13,900원',\n",
       "  '할인가격': '11,790원'},\n",
       " {'브랜드': '이에스엔',\n",
       "  '상품명': '[세트]  하프 폴라 니트 티셔츠',\n",
       "  '원래가격': '78,000원',\n",
       "  '할인가격': '35,100원'},\n",
       " {'브랜드': '코드그라피',\n",
       "  '상품명': '9/19 배송 \\n                                    \\n                                    [호시 PICK] [SET] (맨투맨 OR 후드 선택) CGP 아치 로고 트레이닝 셋업_멜란지그레이',\n",
       "  '원래가격': '97,900원',\n",
       "  '할인가격': '69,900원'},\n",
       " {'브랜드': '소버먼트',\n",
       "  '상품명': '980g pigment mtm-charcoal-',\n",
       "  '원래가격': '74,000원',\n",
       "  '할인가격': '47,600원'},\n",
       " {'브랜드': '랩12',\n",
       "  '상품명': '22S/S 오버핏 피케티셔츠 (블랙)',\n",
       "  '원래가격': '39,000원',\n",
       "  '할인가격': '35,100원'},\n",
       " {'브랜드': '무신사 스탠다드',\n",
       "  '상품명': '스웨트 셔츠 [블랙]',\n",
       "  '원래가격': '20,900원',\n",
       "  '할인가격': '17,690원'},\n",
       " {'브랜드': '게인스보로',\n",
       "  '상품명': '[패키지] 오버핏 쿨 마이크로아이스 슬리브리스 2P SET 15COLOR',\n",
       "  '원래가격': '50,000원',\n",
       "  '할인가격': '28,900원'},\n",
       " {'브랜드': '무신사 스탠다드',\n",
       "  '상품명': '릴렉스 핏 크루 넥 반팔 티셔츠 [블랙]',\n",
       "  '원래가격': '11,900원',\n",
       "  '할인가격': '10,690원'},\n",
       " {'브랜드': '아노블리어',\n",
       "  '상품명': '루즈핏 오픈카라 텐셀 린넨 셔츠 [네이비]',\n",
       "  '원래가격': '60,000원',\n",
       "  '할인가격': '42,000원'},\n",
       " {'브랜드': '브렌슨',\n",
       "  '상품명': '[패키지 상품] Longsleeve 무지 긴팔티',\n",
       "  '원래가격': '47,800원',\n",
       "  '할인가격': '27,900원'},\n",
       " {'브랜드': '수아레',\n",
       "  '상품명': '부클 카라 반팔 니트 - 5 COLOR',\n",
       "  '원래가격': '59,000원',\n",
       "  '할인가격': '39,530원'},\n",
       " {'브랜드': '후아유',\n",
       "  '상품명': '스티브 반팔 카라 티셔츠 WHHAC3714U',\n",
       "  '원래가격': '35,900원',\n",
       "  '할인가격': '32,310원'},\n",
       " {'브랜드': '무신사 스탠다드',\n",
       "  '상품명': '레이어드 슬리브리스 탑_일반 기장 2팩',\n",
       "  '원래가격': '21,800원',\n",
       "  '할인가격': '19,590원'},\n",
       " {'브랜드': '파르티멘토',\n",
       "  '상품명': '스포티 오버핏 아노락 블랙',\n",
       "  '원래가격': '55,800원',\n",
       "  '할인가격': '44,900원'},\n",
       " {'브랜드': '예일',\n",
       "  '상품명': '[ONEMILE WEAR] 2PACK SMALL ARCH TEE WHITE / BLACK',\n",
       "  '원래가격': '78,000원',\n",
       "  '할인가격': '39,000원'},\n",
       " {'브랜드': '와릿이즌',\n",
       "  '상품명': '엔젤 와펜 스트라이프 롱슬리브 블랙',\n",
       "  '원래가격': '45,000원',\n",
       "  '할인가격': '36,000원'},\n",
       " {'브랜드': '라퍼지스토어',\n",
       "  '상품명': '[Package]시티보이 빅오버 옥스포드 반팔 셔츠_6color',\n",
       "  '원래가격': '90,000원',\n",
       "  '할인가격': '49,800원'},\n",
       " {'브랜드': '트래블',\n",
       "  '상품명': '미시간 울버린 피그먼트 후드티 블랙 차콜',\n",
       "  '원래가격': '79,000원',\n",
       "  '할인가격': '54,900원'},\n",
       " {'브랜드': '코드그라피',\n",
       "  '상품명': '9/13 배송 \\n                                    \\n                                    [호시 PICK] [SET] (맨투맨 OR 후드 선택) CGP 아치 로고 트레이닝 셋업_네이비',\n",
       "  '원래가격': '97,900원',\n",
       "  '할인가격': '69,900원'},\n",
       " {'브랜드': '어반드레스',\n",
       "  '상품명': '이안 버튼 카라 반팔 니트 블랙',\n",
       "  '원래가격': '54,000원',\n",
       "  '할인가격': '32,400원'},\n",
       " {'브랜드': '미나브',\n",
       "  '상품명': '[미나브X깡스타일리스트] 퓨어코튼 펀칭 카라 니트 [그린]',\n",
       "  '원래가격': '75,000원',\n",
       "  '할인가격': '52,500원'},\n",
       " {'브랜드': '와릿이즌',\n",
       "  '상품명': '스몰 사인 로고 맨투맨 블랙',\n",
       "  '원래가격': '59,000원',\n",
       "  '할인가격': '29,500원'},\n",
       " {'브랜드': '무신사 스탠다드',\n",
       "  '상품명': '[퍼포먼스] 올라운드 트레이닝 슬리브리스 탑 [블랙]',\n",
       "  '원래가격': '17,900원',\n",
       "  '할인가격': '15,190원'},\n",
       " {'브랜드': '예일',\n",
       "  '상품명': '[최현욱 착용] (22SS) 2 TONE ARCH TEE WHITE',\n",
       "  '원래가격': '39,000원',\n",
       "  '할인가격': '27,300원'},\n",
       " {'브랜드': '무신사 스탠다드',\n",
       "  '상품명': '베이식 긴팔 티셔츠 [블랙]',\n",
       "  '원래가격': '13,900원',\n",
       "  '할인가격': '11,790원'},\n",
       " {'브랜드': '라퍼지스토어',\n",
       "  '상품명': '시티보이 빅오버 옥스포드 셔츠_Royal Blue',\n",
       "  '원래가격': '47,000원',\n",
       "  '할인가격': '39,800원'},\n",
       " {'브랜드': '와릿이즌', '상품명': '사인 로고 후드 그레이', '원래가격': '69,000원', '할인가격': '34,500원'},\n",
       " {'브랜드': '라퍼지스토어',\n",
       "  '상품명': '9/2 배송 \\n                                    \\n                                    헤비 코튼 오버 럭비 맨투맨 _Midnight Blue',\n",
       "  '원래가격': '45,000원',\n",
       "  '할인가격': '39,000원'},\n",
       " {'브랜드': '엘무드', '상품명': '화란 세미오버 니트 블랙', '원래가격': '89,900원', '할인가격': '71,920원'},\n",
       " {'브랜드': '트래블',\n",
       "  '상품명': '캠프 바시티 피그먼트 스웨트셔츠 블루 섀도우',\n",
       "  '원래가격': '69,000원',\n",
       "  '할인가격': '49,900원'},\n",
       " {'브랜드': '무신사 스탠다드',\n",
       "  '상품명': '릴렉스드 슬리브리스 탑 [블랙]',\n",
       "  '원래가격': '15,900원',\n",
       "  '할인가격': '15,900원'},\n",
       " {'브랜드': '론론',\n",
       "  '상품명': 'HALF ZIP-UP SWEATSHIRT WHITE MELANGE',\n",
       "  '원래가격': '62,000원',\n",
       "  '할인가격': '49,600원'},\n",
       " {'브랜드': '챔피온',\n",
       "  '상품명': '[US] Reverse Weave® 1/4 ZIP 기모 풀오버 (BLACK) CKTS2F308BK',\n",
       "  '원래가격': '129,000원',\n",
       "  '할인가격': '116,000원'},\n",
       " {'브랜드': '무신사 스탠다드',\n",
       "  '상품명': '릴렉스 핏 크루 넥 반팔 티셔츠 2팩',\n",
       "  '원래가격': '21,800원',\n",
       "  '할인가격': '21,800원'},\n",
       " {'브랜드': '무신사 스탠다드',\n",
       "  '상품명': '릴렉스 핏 옥스포드 셔츠 [화이트]',\n",
       "  '원래가격': '24,900원',\n",
       "  '할인가격': '18,590원'},\n",
       " {'브랜드': '드로우핏',\n",
       "  '상품명': '하이 벤트 레이어드 티셔츠 [WHITE]',\n",
       "  '원래가격': '39,000원',\n",
       "  '할인가격': '29,250원'},\n",
       " {'브랜드': '수아레',\n",
       "  '상품명': '쿨썸머 린넨 니트 - 5 COLOR',\n",
       "  '원래가격': '49,000원',\n",
       "  '할인가격': '29,900원'},\n",
       " {'브랜드': '그레이버',\n",
       "  '상품명': '[UNISEX]플라워도트 자수 화이트 클립 피케 반팔티셔츠_블랙',\n",
       "  '원래가격': '51,000원',\n",
       "  '할인가격': '35,700원'},\n",
       " {'브랜드': '게인스보로',\n",
       "  '상품명': '[UNISEX] 메쉬쿨론 서프 슬리브리스 블랙',\n",
       "  '원래가격': '35,000원',\n",
       "  '할인가격': '24,500원'},\n",
       " {'브랜드': '리', '상품명': '빅 트위치 로고 티셔츠 화이트', '원래가격': '35,000원', '할인가격': '24,500원'},\n",
       " {'브랜드': '스파오',\n",
       "  '상품명': '오버핏 옥스포드 셔츠_SPYWC49C03',\n",
       "  '원래가격': '39,900원',\n",
       "  '할인가격': '35,910원'},\n",
       " {'브랜드': '드로우핏',\n",
       "  '상품명': '하이 벤트 레이어드 티셔츠 [BLACK]',\n",
       "  '원래가격': '39,000원',\n",
       "  '할인가격': '29,250원'},\n",
       " {'브랜드': '랑가주망',\n",
       "  '상품명': '클래식 피케 카라 티셔츠 [블랙]',\n",
       "  '원래가격': '45,500원',\n",
       "  '할인가격': '31,800원'},\n",
       " {'브랜드': '이벳필드',\n",
       "  '상품명': '베츠 어센틱 맨투맨 그레이',\n",
       "  '원래가격': '59,000원',\n",
       "  '할인가격': '50,150원'},\n",
       " {'브랜드': '아워스코프',\n",
       "  '상품명': 'Lozenge Half Knit (Green)',\n",
       "  '원래가격': '109,000원',\n",
       "  '할인가격': '87,200원'},\n",
       " {'브랜드': '무신사 스탠다드',\n",
       "  '상품명': '릴렉스드 슬리브리스 탑 [화이트]',\n",
       "  '원래가격': '15,900원',\n",
       "  '할인가격': '13,490원'},\n",
       " {'브랜드': '무신사 스탠다드',\n",
       "  '상품명': '[쿨탠다드] 릴렉스 핏 크루 넥 반팔 티셔츠 2팩',\n",
       "  '원래가격': '31,800원',\n",
       "  '할인가격': '28,590원'},\n",
       " {'브랜드': '라퍼지스토어',\n",
       "  '상품명': '시티보이 빅오버 옥스포드 반팔 셔츠_Ash Gray',\n",
       "  '원래가격': '45,000원',\n",
       "  '할인가격': '29,800원'},\n",
       " {'브랜드': '무신사 스탠다드',\n",
       "  '상품명': '폰테 크루 넥 긴팔 티셔츠 [오프 화이트]',\n",
       "  '원래가격': '19,900원',\n",
       "  '할인가격': '16,890원'},\n",
       " {'브랜드': '와릿이즌', '상품명': '사인 로고 후드 블랙', '원래가격': '69,000원', '할인가격': '34,500원'},\n",
       " {'브랜드': '수아레', '상품명': '하프 터틀넥 니트 세트', '원래가격': '66,000원', '할인가격': '39,900원'},\n",
       " {'브랜드': '지오다노',\n",
       "  '상품명': '012502 솔리드 폴로 티셔츠',\n",
       "  '원래가격': '19,800원',\n",
       "  '할인가격': '15,000원'},\n",
       " {'브랜드': '파르티멘토',\n",
       "  '상품명': '오버사이즈 피케 하프 스웨트 그린',\n",
       "  '원래가격': '38,400원',\n",
       "  '할인가격': '28,800원'},\n",
       " {'브랜드': '예일',\n",
       "  '상품명': '(22ALL) (BY P.E.DEPT) UNIVERSITY HANDSOME DAN CREWNECK NAVY',\n",
       "  '원래가격': '72,000원',\n",
       "  '할인가격': '36,000원'},\n",
       " {'브랜드': '유니폼브릿지',\n",
       "  '상품명': '1960 sweatshirts navy',\n",
       "  '원래가격': '59,000원',\n",
       "  '할인가격': '59,000원'},\n",
       " {'브랜드': '무신사 스탠다드',\n",
       "  '상품명': '레이어드 슬리브리스 탑_긴 기장 [화이트]',\n",
       "  '원래가격': '11,900원',\n",
       "  '할인가격': '10,090원'},\n",
       " {'브랜드': '예일',\n",
       "  '상품명': '(22SS) 2 TONE ARCH TEE ROYAL BLUE',\n",
       "  '원래가격': '39,000원',\n",
       "  '할인가격': '27,300원'},\n",
       " {'브랜드': '무신사 스탠다드',\n",
       "  '상품명': '베이식 드레스 셔츠 [화이트]',\n",
       "  '원래가격': '27,900원',\n",
       "  '할인가격': '22,290원'},\n",
       " {'브랜드': '그루브라임',\n",
       "  '상품명': '[패키지] NYC LOCATION LONG SLEEVE T-SHIRTS (11COLOR) [LRQSCTR311M]',\n",
       "  '원래가격': '98,000원',\n",
       "  '할인가격': '39,000원'},\n",
       " {'브랜드': '제멋',\n",
       "  '상품명': '로그 오버핏 기모 후드 그레이 YHHD2302',\n",
       "  '원래가격': '36,800원',\n",
       "  '할인가격': '34,900원'},\n",
       " {'브랜드': '커버낫',\n",
       "  '상품명': '럭비 스트라이프 티셔츠 네이비',\n",
       "  '원래가격': '59,000원',\n",
       "  '할인가격': '41,300원'},\n",
       " {'브랜드': '드로우핏',\n",
       "  '상품명': '[드로우핏X깡스타일리스트] 모크넥 니트 티셔츠 SET',\n",
       "  '원래가격': '60,000원',\n",
       "  '할인가격': '43,900원'},\n",
       " {'브랜드': '코드그라피',\n",
       "  '상품명': '9/23 배송 \\n                                    \\n                                    [호시 PICK] [SET] (긴바지 OR 반바지 선택) CGP 헤리티지 럭비 맨투맨 셋업_스트라이프',\n",
       "  '원래가격': '97,900원',\n",
       "  '할인가격': '69,900원'},\n",
       " {'브랜드': '제멋',\n",
       "  '상품명': '[패키지] 레이어드 롱나시 패키지(HJST2072)',\n",
       "  '원래가격': '35,800원',\n",
       "  '할인가격': '28,900원'},\n",
       " {'브랜드': '1993스튜디오',\n",
       "  '상품명': '빈티지 반 집업_그레이',\n",
       "  '원래가격': '72,000원',\n",
       "  '할인가격': '64,800원'},\n",
       " {'브랜드': '코드그라피',\n",
       "  '상품명': '[구효민 PICK]  [쿨코튼] CGP 아치 로고 티셔츠',\n",
       "  '원래가격': '34,000원',\n",
       "  '할인가격': '19,900원'},\n",
       " {'브랜드': '라퍼지스토어',\n",
       "  '상품명': '시티보이 빅오버 옥스포드 셔츠_Off White',\n",
       "  '원래가격': '47,000원',\n",
       "  '할인가격': '39,800원'},\n",
       " {'브랜드': '트릴리온',\n",
       "  '상품명': '[패키지] 에센셜 레이어드 롱 슬리브 티셔츠',\n",
       "  '원래가격': '78,000원',\n",
       "  '할인가격': '36,900원'},\n",
       " {'브랜드': '예일',\n",
       "  '상품명': '(22FW) 2 TONE ARCH HOODIE GRAY',\n",
       "  '원래가격': '79,000원',\n",
       "  '할인가격': '71,100원'},\n",
       " {'브랜드': '제멋',\n",
       "  '상품명': '[패키지] 오버핏 레이어드 롱티셔츠 패키지 KJLT2153',\n",
       "  '원래가격': '51,800원',\n",
       "  '할인가격': '42,900원'},\n",
       " {'브랜드': '스파오',\n",
       "  '상품명': '(우디) 자수 폴로카라 반팔 티셔츠_SPHWC24C04',\n",
       "  '원래가격': '29,900원',\n",
       "  '할인가격': '19,900원'},\n",
       " {'브랜드': '비바스튜디오',\n",
       "  '상품명': 'LOCATION CREWNECK [BLACK]',\n",
       "  '원래가격': '58,000원',\n",
       "  '할인가격': '46,400원'},\n",
       " {'브랜드': '론트',\n",
       "  '상품명': '000 Black Knit Plain Pattern Button Collar Shirts',\n",
       "  '원래가격': '79,000원',\n",
       "  '할인가격': '31,600원'},\n",
       " {'브랜드': '게인스보로',\n",
       "  '상품명': '[UNISEX] 메쉬쿨론 서프 슬리브리스 오프화이트',\n",
       "  '원래가격': '35,000원',\n",
       "  '할인가격': '24,500원'},\n",
       " {'브랜드': '무신사 스탠다드',\n",
       "  '상품명': '레이어드 크루 넥 반팔 티셔츠_일반 기장 [화이트]',\n",
       "  '원래가격': '13,900원',\n",
       "  '할인가격': '12,490원'},\n",
       " {'브랜드': '라퍼지스토어',\n",
       "  '상품명': '시티보이 빅오버 린넨 반팔 셔츠_Midnight Blue',\n",
       "  '원래가격': '45,000원',\n",
       "  '할인가격': '32,000원'},\n",
       " {'브랜드': '토피',\n",
       "  '상품명': '에센셜 후드 스웻 셔츠 (MELANGE GREY)',\n",
       "  '원래가격': '43,000원',\n",
       "  '할인가격': '36,000원'},\n",
       " {'브랜드': '커버낫',\n",
       "  '상품명': 'C 로고 와펜 쿨 피케 티셔츠 블랙',\n",
       "  '원래가격': '59,000원',\n",
       "  '할인가격': '41,300원'},\n",
       " {'브랜드': '엘무드', '상품명': '화란 세미오버 니트 크림', '원래가격': '89,900원', '할인가격': '71,920원'},\n",
       " {'브랜드': '키뮤어',\n",
       "  '상품명': '이레귤러 스트라이프 니트 베스트_잉크 네이비',\n",
       "  '원래가격': '64,000원',\n",
       "  '할인가격': '39,900원'}]"
      ]
     },
     "execution_count": 132,
     "metadata": {},
     "output_type": "execute_result"
    }
   ],
   "source": [
    "musinsa_result"
   ]
  },
  {
   "cell_type": "code",
   "execution_count": 1,
   "id": "8dc03a03",
   "metadata": {},
   "outputs": [],
   "source": [
    "import requests\n",
    "from bs4 import BeautifulSoup"
   ]
  },
  {
   "cell_type": "code",
   "execution_count": 5,
   "id": "e1fc804e",
   "metadata": {},
   "outputs": [],
   "source": [
    "BASE_URL = 'https://www.musinsa.com/category/001'\n",
    "# 물음표를 기준으로 1차적으로 잘라준다. (뒤는 parameter들)\n",
    "\n",
    "# 값이 없는 부분을 제거한다.\n",
    "parameters = '?d_cat_cd=001&page_kind=search&list_kind=small&sort=pop&page=2&display_cnt=90&kids=N'\n",
    "# &brand=&rate=&sub_sort=&sale_goods=&group_sale=&ex_soldout=&color=&price1=&price2=&exclusive_yn=&shoeSizeOption=&tags=\n",
    "# &campaign_id=&timesale_yn=&q=&includeKeywords=&measure=\n",
    "\n",
    "# 바꿀 값이 있는 곳을 기준으로 잘라준다.\n",
    "page = 3\n",
    "parameters = '?d_cat_cd=001&page_kind=search&list_kind=small&sort=pop&page=' + str(page) + '&display_cnt=90&kids=N'"
   ]
  },
  {
   "cell_type": "code",
   "execution_count": 6,
   "id": "19a4aca7",
   "metadata": {},
   "outputs": [
    {
     "data": {
      "text/plain": [
       "'https://www.musinsa.com/category/001'"
      ]
     },
     "execution_count": 6,
     "metadata": {},
     "output_type": "execute_result"
    }
   ],
   "source": [
    "BASE_URL"
   ]
  },
  {
   "cell_type": "code",
   "execution_count": 7,
   "id": "6a869ea1",
   "metadata": {},
   "outputs": [
    {
     "data": {
      "text/plain": [
       "'?d_cat_cd=001&page_kind=search&list_kind=small&sort=pop&page=3&display_cnt=90&kids=N'"
      ]
     },
     "execution_count": 7,
     "metadata": {},
     "output_type": "execute_result"
    }
   ],
   "source": [
    "parameters"
   ]
  },
  {
   "cell_type": "code",
   "execution_count": 9,
   "id": "67aa991c",
   "metadata": {},
   "outputs": [],
   "source": [
    "URL = BASE_URL + parameters"
   ]
  },
  {
   "cell_type": "code",
   "execution_count": 12,
   "id": "c835aeb2",
   "metadata": {},
   "outputs": [
    {
     "data": {
      "text/plain": [
       "200"
      ]
     },
     "execution_count": 12,
     "metadata": {},
     "output_type": "execute_result"
    }
   ],
   "source": [
    "res = requests.get(URL)\n",
    "res.status_code"
   ]
  },
  {
   "cell_type": "code",
   "execution_count": 13,
   "id": "9155d278",
   "metadata": {},
   "outputs": [],
   "source": [
    "soup = BeautifulSoup(res.text, 'html.parser')"
   ]
  },
  {
   "cell_type": "code",
   "execution_count": 14,
   "id": "5fd5fdb9",
   "metadata": {},
   "outputs": [],
   "source": [
    "item_list = soup.select('#goods_list .li_box')"
   ]
  },
  {
   "cell_type": "code",
   "execution_count": 15,
   "id": "b94e7d30",
   "metadata": {},
   "outputs": [],
   "source": [
    "musinsa_result = []\n",
    "\n",
    "for item in item_list:\n",
    "    brand_name = item.select_one('.item_title').text\n",
    "    item_name = item.select_one('.list_info').text.strip()\n",
    "    prices = item.select_one('.price').text.split()\n",
    "    \n",
    "    temp = {\n",
    "        '브랜드': brand_name,\n",
    "        '상품명': item_name,\n",
    "        '원래가격': prices[0],\n",
    "        '할인가격': prices[-1]\n",
    "    }\n",
    "    \n",
    "    musinsa_result.append(temp)"
   ]
  },
  {
   "cell_type": "code",
   "execution_count": 16,
   "id": "17f2487f",
   "metadata": {},
   "outputs": [
    {
     "data": {
      "text/plain": [
       "{'브랜드': '세터',\n",
       " '상품명': '이비자 네츄럴 메시드 니트 네츄럴 그린',\n",
       " '원래가격': '119,000원',\n",
       " '할인가격': '119,000원'}"
      ]
     },
     "execution_count": 16,
     "metadata": {},
     "output_type": "execute_result"
    }
   ],
   "source": [
    "musinsa_result[2]"
   ]
  },
  {
   "cell_type": "code",
   "execution_count": null,
   "id": "76f2dac3",
   "metadata": {},
   "outputs": [],
   "source": []
  },
  {
   "cell_type": "code",
   "execution_count": 18,
   "id": "b7dc23bd",
   "metadata": {},
   "outputs": [],
   "source": [
    "musinsa_result = []\n",
    "\n",
    "for page in range(1, 11):\n",
    "    BASE_URL = 'https://www.musinsa.com/category/001'\n",
    "    parameters = '?d_cat_cd=001&page_kind=search&list_kind=small&sort=pop&page=' + str(page) + '&display_cnt=90&kids=N'\n",
    "    URL = BASE_URL + parameters\n",
    "    \n",
    "    res = requests.get(URL)\n",
    "    soup = BeautifulSoup(res.text, 'html.parser')\n",
    "    item_list = soup.select('#goods_list .li_box')\n",
    "\n",
    "    for item in item_list:\n",
    "        brand_name = item.select_one('.item_title').text\n",
    "        item_name = item.select_one('.list_info').text.strip()\n",
    "        prices = item.select_one('.price').text.split()\n",
    "\n",
    "        temp = {\n",
    "            '브랜드': brand_name,\n",
    "            '상품명': item_name,\n",
    "            '원래가격': prices[0],\n",
    "            '할인가격': prices[-1]\n",
    "        }\n",
    "\n",
    "        musinsa_result.append(temp)\n"
   ]
  },
  {
   "cell_type": "code",
   "execution_count": 19,
   "id": "f6e944f6",
   "metadata": {},
   "outputs": [
    {
     "data": {
      "text/plain": [
       "900"
      ]
     },
     "execution_count": 19,
     "metadata": {},
     "output_type": "execute_result"
    }
   ],
   "source": [
    "len(musinsa_result)"
   ]
  },
  {
   "cell_type": "code",
   "execution_count": 20,
   "id": "39831998",
   "metadata": {},
   "outputs": [
    {
     "data": {
      "text/plain": [
       "{'브랜드': '소버먼트',\n",
       " '상품명': '10주년 950g 10th mtm-8% grey-[오버핏]',\n",
       " '원래가격': '68,000원',\n",
       " '할인가격': '43,600원'}"
      ]
     },
     "execution_count": 20,
     "metadata": {},
     "output_type": "execute_result"
    }
   ],
   "source": [
    "musinsa_result[720+3]"
   ]
  },
  {
   "cell_type": "code",
   "execution_count": null,
   "id": "4e028aa0",
   "metadata": {},
   "outputs": [],
   "source": [
    "https://www.musinsa.com/category/001\n",
    "    \n",
    "    ?d_cat_cd=001&brand=&rate=&page_kind=search&list_kind=small&sort=pop&sub_sort=&page=4&display_cnt=90&sale_goods=&group_sale=&kids=N&ex_soldout=&color=&price1=&price2=&exclusive_yn=&shoeSizeOption=&tags=&campaign_id=&timesale_yn=&q=&includeKeywords=&measure="
   ]
  },
  {
   "cell_type": "code",
   "execution_count": null,
   "id": "1b1de5b5",
   "metadata": {},
   "outputs": [],
   "source": [
    "for "
   ]
  },
  {
   "cell_type": "code",
   "execution_count": null,
   "id": "231b06ce",
   "metadata": {},
   "outputs": [],
   "source": [
    "{\n",
    "    '제품명': ['상품1', '상품2'],\n",
    "    '할인가격': [300, ],\n",
    "    '브랜드': ['브랜드']\n",
    "}"
   ]
  },
  {
   "cell_type": "code",
   "execution_count": null,
   "id": "08cb7eb8",
   "metadata": {},
   "outputs": [],
   "source": []
  },
  {
   "cell_type": "code",
   "execution_count": 2,
   "id": "713884c0",
   "metadata": {},
   "outputs": [],
   "source": []
  },
  {
   "cell_type": "code",
   "execution_count": 13,
   "id": "e4f80ada",
   "metadata": {},
   "outputs": [],
   "source": [
    "# 실전 4"
   ]
  },
  {
   "cell_type": "code",
   "execution_count": 21,
   "id": "d10da7b9",
   "metadata": {},
   "outputs": [],
   "source": [
    "import requests\n",
    "from bs4 import BeautifulSoup"
   ]
  },
  {
   "cell_type": "code",
   "execution_count": 33,
   "id": "8e5d1a46",
   "metadata": {},
   "outputs": [
    {
     "data": {
      "text/plain": [
       "200"
      ]
     },
     "execution_count": 33,
     "metadata": {},
     "output_type": "execute_result"
    }
   ],
   "source": [
    "URL = 'https://news.naver.com/main/list.naver?mode=LPOD&mid=sec&oid=437'\n",
    "\n",
    "URL = 'https://news.naver.com/main/list.naver?mode=LPOD&mid=sec&oid=437&date=20220829&page=4'\n",
    "\n",
    "headers = {\n",
    "    'user-agent': 'Mozilla/5.0 (Windows NT 10.0; Win64; x64) AppleWebKit/537.36 (KHTML, like Gecko) Chrome/104.0.0.0 Safari/537.36'\n",
    "}\n",
    "\n",
    "res = requests.get(URL, headers=headers)\n",
    "res.status_code"
   ]
  },
  {
   "cell_type": "code",
   "execution_count": null,
   "id": "c7fb34f4",
   "metadata": {},
   "outputs": [],
   "source": [
    "# 모든 user-agent 허용\n",
    "'user-agent': '*'\n",
    "    \n",
    "# 일부 user-agent만 허용\n",
    "robots.txt\n",
    "'user-agent': '특정 값', 비어있으면, 접속 차단"
   ]
  },
  {
   "cell_type": "code",
   "execution_count": 34,
   "id": "f9b012ab",
   "metadata": {},
   "outputs": [],
   "source": [
    "soup = BeautifulSoup(res.text, 'html.parser')"
   ]
  },
  {
   "cell_type": "code",
   "execution_count": 35,
   "id": "20222a88",
   "metadata": {},
   "outputs": [],
   "source": [
    "news_list = soup.select('.list_body li')"
   ]
  },
  {
   "cell_type": "code",
   "execution_count": 36,
   "id": "5a391593",
   "metadata": {},
   "outputs": [
    {
     "data": {
      "text/plain": [
       "20"
      ]
     },
     "execution_count": 36,
     "metadata": {},
     "output_type": "execute_result"
    }
   ],
   "source": [
    "len(news_list)"
   ]
  },
  {
   "cell_type": "code",
   "execution_count": 27,
   "id": "c4212043",
   "metadata": {},
   "outputs": [],
   "source": [
    "title = news_list[0].select('dt')[1].text\n",
    "description = news_list[0].select_one('.lede').text"
   ]
  },
  {
   "cell_type": "code",
   "execution_count": 38,
   "id": "605bf5ab",
   "metadata": {},
   "outputs": [],
   "source": [
    "news_result = []\n",
    "for news in news_list:\n",
    "    title = news.select('dt')[-1].text.strip()\n",
    "    description = news.select_one('.lede').text\n",
    "    \n",
    "    temp = {\n",
    "        '제목': title,\n",
    "        '본문': description\n",
    "    }\n",
    "    \n",
    "    news_result.append(temp)"
   ]
  },
  {
   "cell_type": "code",
   "execution_count": 40,
   "id": "525a6581",
   "metadata": {},
   "outputs": [
    {
     "data": {
      "text/plain": [
       "'https://news.naver.com/main/list.naver?mode=LPOD&mid=sec&oid=437&page=3'"
      ]
     },
     "execution_count": 40,
     "metadata": {},
     "output_type": "execute_result"
    }
   ],
   "source": [
    "BASE_URL = 'https://news.naver.com/main/list.naver?mode=LPOD&mid=sec&oid=437'\n",
    "page = 3\n",
    "parameters = '&page='+str(page)\n",
    "\n",
    "BASE_URL+parameters"
   ]
  },
  {
   "cell_type": "code",
   "execution_count": null,
   "id": "cd949554",
   "metadata": {},
   "outputs": [],
   "source": []
  },
  {
   "cell_type": "code",
   "execution_count": 61,
   "id": "212296ea",
   "metadata": {},
   "outputs": [],
   "source": [
    "from datetime import datetime, timedelta"
   ]
  },
  {
   "cell_type": "code",
   "execution_count": 51,
   "id": "f185387f",
   "metadata": {},
   "outputs": [
    {
     "data": {
      "text/plain": [
       "datetime.time(11, 6, 44, 665908)"
      ]
     },
     "execution_count": 51,
     "metadata": {},
     "output_type": "execute_result"
    }
   ],
   "source": [
    "# 지금 날짜, 시간 가져오기 now()\n",
    "now_datetime = datetime.now()\n",
    "# 오늘의 날짜, 시간\n",
    "datetime.today()\n",
    "\n",
    "# 연 월 일 부분만 가져오기 date() 메서드임!!\n",
    "now_datetime.date()\n",
    "\n",
    "# 시간 부분만 가져오기 time() 메서드임!!\n",
    "now_datetime.time()"
   ]
  },
  {
   "cell_type": "code",
   "execution_count": 59,
   "id": "9418d49f",
   "metadata": {},
   "outputs": [
    {
     "data": {
      "text/plain": [
       "665908"
      ]
     },
     "execution_count": 59,
     "metadata": {},
     "output_type": "execute_result"
    }
   ],
   "source": [
    "# 속성\n",
    "now_datetime.year # 연\n",
    "now_datetime.month # 월\n",
    "now_datetime.day # 일\n",
    "now_datetime.hour # 시\n",
    "now_datetime.minute # 분\n",
    "now_datetime.second # 초\n",
    "now_datetime.microsecond # 마이크로세컨드"
   ]
  },
  {
   "cell_type": "code",
   "execution_count": 86,
   "id": "89ad14c5",
   "metadata": {},
   "outputs": [],
   "source": [
    "yesterday = now_datetime - timedelta(days=1)"
   ]
  },
  {
   "cell_type": "code",
   "execution_count": 87,
   "id": "4c53469d",
   "metadata": {},
   "outputs": [
    {
     "data": {
      "text/plain": [
       "datetime.datetime(2022, 8, 31, 11, 6, 44, 665908)"
      ]
     },
     "execution_count": 87,
     "metadata": {},
     "output_type": "execute_result"
    }
   ],
   "source": [
    "now_datetime"
   ]
  },
  {
   "cell_type": "code",
   "execution_count": 88,
   "id": "3b69c774",
   "metadata": {},
   "outputs": [
    {
     "data": {
      "text/plain": [
       "datetime.datetime(2022, 8, 30, 11, 6, 44, 665908)"
      ]
     },
     "execution_count": 88,
     "metadata": {},
     "output_type": "execute_result"
    }
   ],
   "source": [
    "yesterday"
   ]
  },
  {
   "cell_type": "code",
   "execution_count": 64,
   "id": "d097a986",
   "metadata": {},
   "outputs": [
    {
     "data": {
      "text/plain": [
       "'2022830'"
      ]
     },
     "execution_count": 64,
     "metadata": {},
     "output_type": "execute_result"
    }
   ],
   "source": [
    "str(yesterday.year) + str(yesterday.month) + str(yesterday.day)"
   ]
  },
  {
   "cell_type": "code",
   "execution_count": 65,
   "id": "046911a5",
   "metadata": {},
   "outputs": [
    {
     "data": {
      "text/plain": [
       "'08'"
      ]
     },
     "execution_count": 65,
     "metadata": {},
     "output_type": "execute_result"
    }
   ],
   "source": [
    "'%02d'%yesterday.month"
   ]
  },
  {
   "cell_type": "code",
   "execution_count": 70,
   "id": "b2677a37",
   "metadata": {},
   "outputs": [
    {
     "data": {
      "text/plain": [
       "datetime.datetime(2022, 8, 30, 11, 6, 44, 665908)"
      ]
     },
     "execution_count": 70,
     "metadata": {},
     "output_type": "execute_result"
    }
   ],
   "source": [
    "yesterday"
   ]
  },
  {
   "cell_type": "code",
   "execution_count": 89,
   "id": "a8909e8d",
   "metadata": {},
   "outputs": [],
   "source": [
    "date_str = yesterday.strftime('%Y%m%d')\n",
    "# 포맷 기호\n",
    "# %Y - 4자리 연도\n",
    "# %m - 2자리 월\n",
    "# %d - 2자리 일\n",
    "\n",
    "# %H - 2자리 시\n",
    "# %M - 2자리 분\n",
    "# %S - 2자리 초"
   ]
  },
  {
   "cell_type": "code",
   "execution_count": 90,
   "id": "0b2fb414",
   "metadata": {},
   "outputs": [
    {
     "data": {
      "text/plain": [
       "'20220830'"
      ]
     },
     "execution_count": 90,
     "metadata": {},
     "output_type": "execute_result"
    }
   ],
   "source": [
    "date_str"
   ]
  },
  {
   "cell_type": "code",
   "execution_count": 42,
   "id": "093ad550",
   "metadata": {},
   "outputs": [
    {
     "name": "stdout",
     "output_type": "stream",
     "text": [
      "현재 크롤링 중인 페이지: 1\n",
      "현재 크롤링 중인 페이지: 2\n",
      "현재 크롤링 중인 페이지: 3\n",
      "현재 크롤링 중인 페이지: 4\n"
     ]
    }
   ],
   "source": [
    "BASE_URL = 'https://news.naver.com/main/list.naver?mode=LPOD&mid=sec&oid=437'\n",
    "headers = {\n",
    "    'user-agent': 'Mozilla/5.0 (Windows NT 10.0; Win64; x64) AppleWebKit/537.36 (KHTML, like Gecko) Chrome/104.0.0.0 Safari/537.36'\n",
    "}\n",
    "\n",
    "news_result = []\n",
    "\n",
    "# 종료 조건을 위한, 임시 변수\n",
    "temp = None\n",
    "\n",
    "URL = 'https://news.naver.com/main/list.naver?mode=LPOD&mid=sec&oid=437'\n",
    "\n",
    "for page in range(1, 1000):\n",
    "    \n",
    "    # date_str = '20220830'\n",
    "    parameters = '&date='+ date_str + '&page='+str(page)\n",
    "\n",
    "    print('현재 크롤링 중인 페이지:', page)\n",
    "    \n",
    "    URL = BASE_URL + parameters\n",
    "\n",
    "    res = requests.get(URL, headers=headers)\n",
    "    soup = BeautifulSoup(res.text, 'html.parser')\n",
    "    news_list = soup.select('.list_body li')\n",
    "    \n",
    "    # 현재 페이지 뉴스 기사 (news_list)\n",
    "    # 이전 페이지 뉴스 기사 (temp)\n",
    "    \n",
    "    # 이전 페이지와 현재페이지의 뉴스기사들이 같으면,\n",
    "    if temp == news_list:\n",
    "        # 크롤링 끝\n",
    "        break\n",
    "    # 다르면,\n",
    "    else:\n",
    "        # 이전 페이지 뉴스 기사 변수에 현재 페이지 뉴스 기사로 최신화 \n",
    "        temp = news_list\n",
    "    \n",
    "    for news in news_list:\n",
    "        title = news.select('dt')[-1].text.strip()\n",
    "        description = news.select_one('.lede').text\n",
    "\n",
    "        temp_news = {\n",
    "            '제목': title,\n",
    "            '본문': description\n",
    "        }\n",
    "\n",
    "        news_result.append(temp_news)"
   ]
  },
  {
   "cell_type": "code",
   "execution_count": 44,
   "id": "2263039e",
   "metadata": {},
   "outputs": [
    {
     "data": {
      "text/plain": [
       "45"
      ]
     },
     "execution_count": 44,
     "metadata": {},
     "output_type": "execute_result"
    }
   ],
   "source": [
    "len(news_result)"
   ]
  },
  {
   "cell_type": "code",
   "execution_count": 45,
   "id": "f072e353",
   "metadata": {},
   "outputs": [
    {
     "data": {
      "text/plain": [
       "[{'제목': '7월 생산·소비·투자 모두 줄어…소비 0.3%↓5개월 연속 감소',\n",
       "  '본문': '7월 산업생산과 소비, 설비투자가 모두 줄어든 것으로 나타났습니다. 오늘(31일) 통계청이 발표한 7월 산업활동동향에 따르면 소 …'},\n",
       " {'제목': \"신예 한동희, 드라마 '일당백집사' 출연\",\n",
       "  '본문': \"신인 배우 한동희가 '일당백집사'에 주연으로 출연한다고 소속사 눈컴퍼니가 31일 전했다. 오는 10월 방송되는 MBC 새 수목극 …\"},\n",
       " {'제목': '토사 유출·칼부림·놀이기구 제작 공장 화재…밤사이 사건사고',\n",
       "  '본문': '밤사이 사건·사고가 잇따랐습니다. 어젯밤(30일) 10시 6분쯤, 충북 진천군 문백면 태락리 진천 방향 17번 국도 인근 산에서 …'},\n",
       " {'제목': \"'두 번째 세계' 진심 눌러쓴 가사로 프리퀄 무대 꽉 채웠다\",\n",
       "  '본문': \"JTBC 신규 예능 '두 번째 세계'가 성공적으로 '그랜드 오픈'했다. 원더걸스 출신 유빈, AOA 출신 신지민, 마마무 문별, …\"},\n",
       " {'제목': '원·달러 환율 장중 1352원 넘어…이틀 만에 연고점 또 경신',\n",
       "  '본문': '원·달러 환율이 연고점을 경신했습니다. 오늘(31일) 서울 외환시장에서 원·달러 환율은 장 초반 1352.3원까지 치솟았습니다. …'},\n",
       " {'제목': \"'벡델데이 2022' 나흘간 진행…韓영화 성평등 위한 발걸음\",\n",
       "  '본문': \"DGK(한국영화감독조합)가 주최·주관하고 문화체육관광부가 후원하는 '벡델데이 2022'가 8월 31일부터 9월 3일까지 충무아트 …\"},\n",
       " {'제목': '유준상, 박경리문학상 홍보대사 위촉',\n",
       "  '본문': '배우 유준상이 올해 제11회를 맞은 박경리문학상을 알리기 위한 홍보대사로 위촉됐다고 소속사 나무엑터스가 31일 전했다. 토지문화 …'},\n",
       " {'제목': '신규 확진 10만3961명…위중증 569명·사망 75명',\n",
       "  '본문': '신종 코로나바이러스 감염증(코로나19) 신규 확진자가 10만명대로 집계됐습니다. 오늘(31일) 질병관리청 중앙방역대책본부는 이날 …'},\n",
       " {'제목': '미국 텍사스서 원숭이두창 감염 환자 숨져…\"사인 확인 중\"',\n",
       "  '본문': '미국에서 원숭이두창 감염 환자가 숨졌습니다. 정확한 사망 원인은 파악하고 있습니다. 현지시간 30일 미국 워싱턴포스트(WP)에  …'},\n",
       " {'제목': \"정부, 론스타 상대 '6조 분쟁' 일부 패소…2925억원 배상 판정\",\n",
       "  '본문': '한국 정부와 미국계 사모펀드 론스타가 10년 동안 다퉈온 국제투자 분쟁 사건에서 론스타의 요구액 6조원 중 약 2925억원을 배 …'},\n",
       " {'제목': '\\'수리남\\' 황정민 \"베테랑들이 만나 각자의 역할 잘 해내\"',\n",
       "  '본문': \"베테랑들만 모인 넷플릭스(Netflix) 새 시리즈 '수리남' 촬영 현장 사진이 31일 공개됐다. '수리남'은 남미 국가 수리남 …\"},\n",
       " {'제목': \"입소문 솔솔…'육사오' 남북 소재 흥행 계보 이을까\",\n",
       "  '본문': \"'육사오'가 입소문을 타고 순항 중이다. 지난 24일 개봉 이후 호평 받고 있는 영화 '육사오(박규태 감독)'가 남북소재 영화의 …\"},\n",
       " {'제목': '대통령실 \"김성한, 한미일 안보실장 회의 참석 예정…北·경제안보 논의\"',\n",
       "  '본문': '한미일 안보실장이 미국 하와이에서 회동합니다. 윤석열 정부 출범 이후 한미일 안보실장이 만나는 것은 이번이 처음입니다. 대통령실 …'},\n",
       " {'제목': \"역시 청담부부…'헌트' 이정재·정우성, 시체스 영화제 동반 참석\",\n",
       "  '본문': \"'헌트' 이정재와 정우성이 제47회 토론토국제영화제에 이어 제55회 시체스영화제 참석까지 확정지었다. 영화 '헌트'는 조직 내  …\"},\n",
       " {'제목': '추석연휴 고속도로 차량 통행료 면제…휴게소서 무료 PCR',\n",
       "  '본문': '다음 달 추석 연휴 기간에 전국 고속도로에서 모든 차량의 통행료가 면제됩니다. 코로나19 확산으로 지난 2020년 추석 이후 중 …'},\n",
       " {'제목': '정부, 입국 전 코로나19 검사 폐지…9월 3일 0시부터 적용',\n",
       "  '본문': '실효성 논란을 빚었던 입국 전 코로나19 검사가 폐지됩니다. 이는 오는 9월 3일 0시부터 적용됩니다. 중앙재난안전대책본부는 오 …'},\n",
       " {'제목': '블랙핑크, 스타 브랜드평판 8월 1위…2위 박은빈·3위 임영웅',\n",
       "  '본문': '걸그룹 블랙핑크, 배우 박은빈, 가수 임영웅이 스타 브랜드평판 2022년 8월 1위에서 3위에 올랐다고 한국기업평판연구소가 31 …'},\n",
       " {'제목': '내년 병장 월급 지원금 포함 130만원…2025년엔 205만원',\n",
       "  '본문': '국방분야 예산을 살펴보면 군 병장 월급이 내년부터 정부 지원금을 포함해 최대 130만 원으로 오릅니다. 윤석열 대통령이 후보 시 …'},\n",
       " {'제목': \"'청춘MT', 박보검·박서준·지창욱의 체험 예능 현장\",\n",
       "  '본문': \"대세 배우들의 체험 예능 현장이 31일 공개됐다. 티빙 오리지널 '청춘MT'에서 청춘 배우들의 유쾌 발랄한 MT 현장이 담긴 미 …\"},\n",
       " {'제목': '박지현 \"민주당 전당대회는 \\'이재명 추대대회\\'…개딸 팬덤서 벗어나야\"',\n",
       "  '본문': '박지현 전 더불어민주당 공동비상대책위원장은 민주당 전당대회에서 이재명 대표가 압도적 지지로 당선된 것을 두고 \"세대 간 치열한  …'},\n",
       " {'제목': '\"명절 영화 맛집\"…\\'공조2: 인터내셔날\\'의 귀환',\n",
       "  '본문': \"글로벌하게 확장된 '공조2: 인터내셔날'이 2017년 추석 '범죄도시', 2019년 설 '극한직업'에 이어 올 추석 관객들을 찾 …\"},\n",
       " {'제목': \"장동윤·설인아·추영우, 새 드라마 '오아시스' 출연\",\n",
       "  '본문': \"배우 장동윤, 설인아, 추영우가 KBS 2TV 새 드라마 '오아시스'에 출연한다고 제작진 측이 31일 전했다. '오아시스'는 1 …\"},\n",
       " {'제목': \"'인생은 아름다워' 류승룡·염정아, 첫 부부 호흡\",\n",
       "  '본문': \"'인생은 아름다워' 류승룡과 염정아가 처음으로 호흡을 맞춘다. 영화 '인생은 아름다워'는 자신의 생일선물로 첫사랑을 찾아 달라는 …\"},\n",
       " {'제목': '[날씨] 오후에 남부 비 그쳐…수도권 소나기 오는 곳도',\n",
       "  '본문': '수요일인 오늘(31일)은 전국이 대체로 흐리고 남부지방을 중심으로 비가 내리다 오후에 그치겠습니다. 수도권에서는 대기 불안정으로 …'},\n",
       " {'제목': '안유수 에이스경암 이사장, 추석 앞두고 백미 기부',\n",
       "  '본문': '재단법인 에이스경암 안유수 이사장이 추석 명절을 앞두고 1억 4000만 원 상당의 백미를 경기 성남시에 기부했습니다. 안 이사장 …'},\n",
       " {'제목': '올해 상반기 가계 금리인하요구권 4명 중 1명꼴 수용',\n",
       "  '본문': '금리를 낮춰달라는 대출자의 요구를 은행에서 받아들인 경우가 4명 중 1명에 그친 걸로 나타났습니다. 은행연합회는 올해 상반기 동 …'},\n",
       " {'제목': '2조 원대 대규모 불법 외환거래 무더기 적발',\n",
       "  '본문': '2조 원대 대규모 불법 외환거래가 무더기로 세관에 적발됐습니다. 관세청 서울본부세관은 화장품 등을 수입하는 유령회사를 차린 뒤, …'},\n",
       " {'제목': \"금리 오르자 예·적금 껑충…'갈아타야 하나' 고민된다면｜아침& 라이프\",\n",
       "  '본문': \"'요즘 재테크 할 곳이 없다.' 이런 말씀하는 분들 많습니다. 부동산과 주식시장이 모두 부진하기 때문인데요. 이런 가운데 기준금 …\"},\n",
       " {'제목': '\\'복순이\\' 학대범 잡았다…동물보호단체 \"견주·업주도 고발\"',\n",
       "  '본문': '뇌졸중으로 쓰러진 주인을 구했던 개가 잔혹한 학대를 당하고 보신탕집으로 넘겨진 일이 있었습니다. 수사에 나선 경찰이 이 개를 학 …'},\n",
       " {'제목': \"춤추다 '와르르'…얼룩진 '노팅힐 카니발'｜AI가 Pick한 세상\",\n",
       "  '본문': \"1. 춤추다 '와르르'…얼룩진 '노팅힐 카니발' 영국 최대의 거리 축제인 '노팅힐 카니발'이 코로나 사태 이후 2년 만에 돌아왔 …\"},\n",
       " {'제목': \"직접 기른 무게 383㎏ '슈퍼 호박' 타고 60㎞ 여행｜아침& 월드\",\n",
       "  '본문': '마지막 소식은 뭔가요? 호박입니다. 호박 얘기가 나오니 갑자기 호박죽이 먹고 싶어지는데요. 재미있는 영상과 함께 보시겠습니다.  …'},\n",
       " {'제목': \"'9유로' 파격적 금액의 독일 '대중교통 만능티켓' 인기｜아침& 월드\",\n",
       "  '본문': \"유럽의 맹주인 독일의 물가가 거의 50년 만에 최고치로 치솟았는데요. 가계 부담을 줄여주기 위해 석 달 전 독일이 '9유로짜리  …\"},\n",
       " {'제목': '서초동 술집 사진 공개되자…대법관 후보자 \"윤 대통령과 두어번 갔다\"',\n",
       "  '본문': '윤석열 대통령과 대학 선후배 사이인 오석준(60·사법연수원 19기) 대법관 후보자가 윤 대통령과 서울 서초동의 한 술집에서 몇  …'},\n",
       " {'제목': '대만, 중국 드론에 첫 실탄 경고사격…긴장감｜아침& 월드',\n",
       "  '본문': '대만이 최근 자국 군사시설 등에 자주 출몰했던 중국산 드론에 처음으로 실탄 경고사격을 했습니다. 이달 초 낸시 펠로시 미국 하원 …'},\n",
       " {'제목': \"검찰이 포착한 '쌍방울의 수상한 100억' 흘러간 회사는…\",\n",
       "  '본문': '쌍방울그룹을 수사 중인 검찰이 100억 원대의 수상한 돈을 포착해 추적 중인 사실이 JTBC 취재 결과 확인됐습니다. 그런데 이 …'},\n",
       " {'제목': \"대통령실서 짐 싸는 '윤핵관 라인'…칼바람 피한 '검찰 라인'\",\n",
       "  '본문': \"이렇게 여당에서는 이른바 '윤핵관 파워'가 다시 확인된 반면, 대통령실에서는 좀 다른 기류가 읽힙니다. 대통령실에서 그제(29일 …\"},\n",
       " {'제목': \"사흘 만에 다시 열린 의총…결론은 '권성동 체제' 유지\",\n",
       "  '본문': '어제(30일) 국민의힘이 사흘 만에 다시 의원총회를 열고 당헌을 바꾸기로 결론 내렸습니다. 권성동 원내대표의 사퇴를 촉구하는 일 …'},\n",
       " {'제목': '\\'마약 사망\\' 당일 무슨 일?…녹취파일엔 \"술맛이 이상했다\"',\n",
       "  '본문': '저희 취재진은 사건 당일 무슨 일이 있었는지 실마리를 풀어줄 녹음 파일을 유가족 동의를 구해 입수했습니다. 이 사안을 취재한 사 …'},\n",
       " {'제목': \"'강남 유흥주점 마약 사망' 동석자 3명 피의자 신분 전환\",\n",
       "  '본문': \"지난달 강남의 한 유흥주점에서 함께 술을 마신 손님과 종업원이 '마약 과다 복용'으로 숨진 사건이 있었습니다. 그동안 이들의 죽 …\"},\n",
       " {'제목': '\"박정희 긴급조치 9호 피해, 국가가 배상해야\"…뒤집힌 판단',\n",
       "  '본문': \"유신 체제 하에 공포 정치를 펼치며 무고한 사람들을 감옥에 가뒀던 박정희 정권. 1975년에는 '유신헌법에 반대하면 처벌받는다' …\"},\n",
       " {'제목': \"'법인카드 유용 의혹' 핵심 인물 배모 씨 구속영장 기각\",\n",
       "  '본문': \"이재명 더불어민주당 대표의 부인 김혜경 씨의 '법인카드 유용 의혹'과 관련해 핵심 인물로 꼽히는 배모 씨에 대한 구속영장이 기각 …\"},\n",
       " {'제목': \"내년도 예산 6% 줄어…노인 일자리·지역화폐 '싹둑'\",\n",
       "  '본문': '내년도 정부 예산안이 639조 원 규모로 확정됐습니다. 본예산은 올해 예산보다 5.2% 늘었지만, 추경 예산까지 포함하면 올해보 …'},\n",
       " {'제목': '[이장면]죽다 살아났다...매치포인트 7번 몰렸다 기적을 쓴 테니스',\n",
       "  '본문': '한장의 사진이 패배 직전에 몰린 한 선수를 비추고 있습니다. TV 중계 화면 속 스코어는 절박함을 이야기합니다. 네덜란드의 팀  …'},\n",
       " {'제목': '미하일 고르바초프 전 소련 대통령 숨져…향년 91세',\n",
       "  '본문': '미하일 고르바초프 전 소비에트 연방(소련) 대통령이 숨졌습니다. 향년 91세. CNN, AP 등 외신은 현지시간 30일 고르바초 …'},\n",
       " {'제목': '김혜경 \\'법카 유용 의혹\\' 배씨 구속영장 기각…\"방어권 보장해야\"',\n",
       "  '본문': \"이재명 더불어민주당 대표 배우자 김혜경 씨의 수행비서 배모 씨에 대한 구속영장이 기각됐습니다. 배씨는 김씨의 '법인카드 유용 의 …\"}]"
      ]
     },
     "execution_count": 45,
     "metadata": {},
     "output_type": "execute_result"
    }
   ],
   "source": [
    "news_result"
   ]
  },
  {
   "cell_type": "code",
   "execution_count": null,
   "id": "88f71b54",
   "metadata": {},
   "outputs": [],
   "source": []
  },
  {
   "cell_type": "code",
   "execution_count": null,
   "id": "7eacd230",
   "metadata": {},
   "outputs": [],
   "source": []
  },
  {
   "cell_type": "code",
   "execution_count": null,
   "id": "0f3ba7df",
   "metadata": {},
   "outputs": [],
   "source": []
  },
  {
   "cell_type": "code",
   "execution_count": null,
   "id": "f013a761",
   "metadata": {},
   "outputs": [],
   "source": []
  },
  {
   "cell_type": "code",
   "execution_count": null,
   "id": "59d638cd",
   "metadata": {},
   "outputs": [],
   "source": []
  },
  {
   "cell_type": "code",
   "execution_count": null,
   "id": "1e204c1d",
   "metadata": {},
   "outputs": [],
   "source": []
  }
 ],
 "metadata": {
  "kernelspec": {
   "display_name": "Python 3.9.12 ('base')",
   "language": "python",
   "name": "python3"
  },
  "language_info": {
   "codemirror_mode": {
    "name": "ipython",
    "version": 3
   },
   "file_extension": ".py",
   "mimetype": "text/x-python",
   "name": "python",
   "nbconvert_exporter": "python",
   "pygments_lexer": "ipython3",
   "version": "3.9.12"
  },
  "vscode": {
   "interpreter": {
    "hash": "b0da05e547d99104cd31238018297f81b543dd9e77b294eb52d2e2f124f0505f"
   }
  }
 },
 "nbformat": 4,
 "nbformat_minor": 5
}

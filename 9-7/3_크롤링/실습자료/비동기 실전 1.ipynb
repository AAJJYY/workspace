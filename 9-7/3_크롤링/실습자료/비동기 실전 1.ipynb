{
 "cells": [
  {
   "cell_type": "code",
   "execution_count": 2,
   "id": "685ef2f4",
   "metadata": {},
   "outputs": [],
   "source": [
    "import requests"
   ]
  },
  {
   "cell_type": "code",
   "execution_count": 3,
   "id": "5b4159aa",
   "metadata": {},
   "outputs": [],
   "source": [
    "# 프론트엔드 서버 URL\n",
    "URL = 'https://www.jungle.co.kr/'"
   ]
  },
  {
   "cell_type": "code",
   "execution_count": 4,
   "id": "6aafa1d4",
   "metadata": {},
   "outputs": [
    {
     "data": {
      "text/plain": [
       "200"
      ]
     },
     "execution_count": 4,
     "metadata": {},
     "output_type": "execute_result"
    }
   ],
   "source": [
    "res = requests.get(URL)\n",
    "res.status_code"
   ]
  },
  {
   "cell_type": "code",
   "execution_count": 5,
   "id": "361493a4",
   "metadata": {},
   "outputs": [],
   "source": [
    "from bs4 import BeautifulSoup"
   ]
  },
  {
   "cell_type": "code",
   "execution_count": 6,
   "id": "819a7209",
   "metadata": {},
   "outputs": [],
   "source": [
    "soup = BeautifulSoup(res.text, 'html.parser')"
   ]
  },
  {
   "cell_type": "code",
   "execution_count": 7,
   "id": "35418d7f",
   "metadata": {},
   "outputs": [],
   "source": [
    "results = soup.select('.thumb_list li')"
   ]
  },
  {
   "cell_type": "code",
   "execution_count": 8,
   "id": "ce7c6443",
   "metadata": {},
   "outputs": [
    {
     "data": {
      "text/plain": [
       "12"
      ]
     },
     "execution_count": 8,
     "metadata": {},
     "output_type": "execute_result"
    }
   ],
   "source": [
    "len(results)"
   ]
  },
  {
   "cell_type": "code",
   "execution_count": 12,
   "id": "91739be6",
   "metadata": {},
   "outputs": [
    {
     "name": "stdout",
     "output_type": "stream",
     "text": [
      "[디자인 포커스] 세르주 무이와 박서보의 만남\t매거진\n",
      "[디자인 이슈] 런웨이 통해 관람객에게 다가가는 전시 플랫폼 ‘써킷 서울’\t매거진\n",
      "시계가 아닌 시간을 보는 방법\t매거진\n",
      "김묵원 라이브드로잉아트 전시 <유리사람> 展 09. 01. 수. ~ 09. 05. 일. 광명시민회관 전시실\t전시행사\n",
      "현대 블루 프라이즈 디자인 2022\t공모전\n",
      "‘G-ART FAIR SEOUL 2022’ 서울 아트페어 오픈\t매거진\n",
      "카카오스타일의 '지그재그', 새로운 BI 공개\t매거진\n",
      "유니클로, ‘UT 그랑프리 2023’ 티셔츠 디자인 콘테스트 오픈\t매거진\n",
      "공진원, 신진작가 김호정 개인전 ‘포착된 풍경’ 개최\t매거진\n",
      "인천 대표 영화 축제 ‘인천 영화 주간 2022’, 메인 포스터 공개\t매거진\n",
      "[미니인턴X팀와이퍼] 2주만에 '디자이너' 실무 역량 쌓고 채용연계까지? 미니인턴 지금 신\t공모전\n"
     ]
    }
   ],
   "source": [
    "for result in results:\n",
    "    try:\n",
    "        title = result.select_one('.title').text\n",
    "        category = result.select_one('.thumb_cate').text\n",
    "        \n",
    "        print(title, category, sep='\\t')\n",
    "    except:\n",
    "        pass"
   ]
  },
  {
   "cell_type": "code",
   "execution_count": null,
   "id": "fb79f2fb",
   "metadata": {},
   "outputs": [],
   "source": []
  },
  {
   "cell_type": "code",
   "execution_count": 39,
   "id": "831e9019",
   "metadata": {},
   "outputs": [],
   "source": [
    "BASE_URL = 'https://www.jungle.co.kr/recent.json?'\n",
    "\n",
    "# parameters = 'magazineOffset=0&contestOffset=0&exhibitOffset=0&galleryOffset=0'\n",
    "\n",
    "# parameters = 'magazineOffset=0&contestOffset=6&exhibitOffset=0&galleryOffset=0'\n",
    "\n",
    "parameters = 'magazineOffset=1&contestOffset=17&exhibitOffset=0&galleryOffset=0'"
   ]
  },
  {
   "cell_type": "code",
   "execution_count": 40,
   "id": "3d8a1626",
   "metadata": {},
   "outputs": [],
   "source": [
    "URL = BASE_URL + parameters\n",
    "res = requests.get(URL)"
   ]
  },
  {
   "cell_type": "code",
   "execution_count": 41,
   "id": "82424120",
   "metadata": {},
   "outputs": [
    {
     "data": {
      "text/plain": [
       "200"
      ]
     },
     "execution_count": 41,
     "metadata": {},
     "output_type": "execute_result"
    }
   ],
   "source": [
    "res.status_code"
   ]
  },
  {
   "cell_type": "code",
   "execution_count": 42,
   "id": "6ae303fe",
   "metadata": {},
   "outputs": [
    {
     "data": {
      "text/plain": [
       "{'exhibitOffset': 0,\n",
       " 'existMore': True,\n",
       " 'contestOffset': 21,\n",
       " 'success': True,\n",
       " 'galleryOffset': 0,\n",
       " 'moreList': [{'id': 204649,\n",
       "   'title': '2022고양가을꽃축제 SNS 꽃포터즈 모집',\n",
       "   'thumbnailImageId': 'bb79081d4a7db4411355b1f6',\n",
       "   'secondaryThumbnailImageId': 'a28e886244928a2e8d73c257',\n",
       "   'confirmedDate': '22-08-29',\n",
       "   'originalCreatedDate': 1661736615000,\n",
       "   'targetCode': '공모전',\n",
       "   'targetName': 'contest'},\n",
       "  {'id': 204648,\n",
       "   'title': '대구 근대골목 관광기념품 아이디어 공모전',\n",
       "   'thumbnailImageId': '8f8b72e545bdbe2c5b8145cc',\n",
       "   'secondaryThumbnailImageId': '81b6eabf47a9a64a04c176c9',\n",
       "   'confirmedDate': '22-08-26',\n",
       "   'originalCreatedDate': 1661517482000,\n",
       "   'targetCode': '공모전',\n",
       "   'targetName': 'contest'},\n",
       "  {'id': 204524,\n",
       "   'title': '[디자인 이슈] 올해 최고의 디자인과 디자이너를 선정하는 ‘잇어워드 2022’',\n",
       "   'thumbnailImageId': '7cd617994d4d88bd6e2f0da1',\n",
       "   'confirmedDate': '22-08-26',\n",
       "   'originalCreatedDate': 1661513653000,\n",
       "   'targetCode': '매거진',\n",
       "   'targetName': 'magazine'},\n",
       "  {'id': 204647,\n",
       "   'title': '지역서점 슬로건 공모전',\n",
       "   'thumbnailImageId': '8ad4ea8b481a8827cbe325c5',\n",
       "   'secondaryThumbnailImageId': '5dc55a2b4cbb9848e743ef55',\n",
       "   'confirmedDate': '22-08-26',\n",
       "   'originalCreatedDate': 1661493018000,\n",
       "   'targetCode': '공모전',\n",
       "   'targetName': 'contest'},\n",
       "  {'id': 204646,\n",
       "   'title': '2022 체인지메이커 유스리빙랩 3기',\n",
       "   'thumbnailImageId': '8daf88d1404699c0bbc85269',\n",
       "   'secondaryThumbnailImageId': 'ffeb57e84e8e8ed6a5c6a2f9',\n",
       "   'confirmedDate': '22-08-25',\n",
       "   'originalCreatedDate': 1661433390000,\n",
       "   'targetCode': '공모전',\n",
       "   'targetName': 'contest'},\n",
       "  {'id': 204523,\n",
       "   'title': '[디자인 인플루언서] 키스미클로스의 유쾌하고 위트있는 예술적 감각',\n",
       "   'thumbnailImageId': '44f37aee45aca0de424c380e',\n",
       "   'confirmedDate': '22-08-25',\n",
       "   'originalCreatedDate': 1661424604000,\n",
       "   'targetCode': '매거진',\n",
       "   'targetName': 'magazine'}],\n",
       " 'magazineOffset': 3}"
      ]
     },
     "execution_count": 42,
     "metadata": {},
     "output_type": "execute_result"
    }
   ],
   "source": [
    "res.json()"
   ]
  },
  {
   "cell_type": "code",
   "execution_count": 25,
   "id": "852dddfc",
   "metadata": {},
   "outputs": [
    {
     "name": "stdout",
     "output_type": "stream",
     "text": [
      "2022울산 옹기축제 주민참여형 콘텐츠 참여자 모집공고 공모전\n",
      "2022년 전국 아동·청소년 만화 공모전  공모전\n",
      "[추천공모전] 제21회 국립공원 사진공모전 (~9/16) 공모전\n",
      "호남ICT이노베이션 대학생 기자단 모집 공모전\n",
      "더 유튜버스 : 2022년 유튜버 네트워킹 캠프 l 유튜브 크리에이터 콘텐츠 대회 공모전\n",
      "AI인터뷰 무료 체험 및 개인별 맞춤 진단 안내  공모전\n"
     ]
    }
   ],
   "source": [
    "for result in res.json()['moreList']:\n",
    "    title = result['title']\n",
    "    category = result['targetCode']\n",
    "    print(title, category)"
   ]
  },
  {
   "cell_type": "code",
   "execution_count": 22,
   "id": "6f63a4a9",
   "metadata": {},
   "outputs": [],
   "source": [
    "import json\n",
    "\n",
    "# json.loads(res.text)"
   ]
  },
  {
   "cell_type": "code",
   "execution_count": null,
   "id": "9e535258",
   "metadata": {},
   "outputs": [],
   "source": []
  },
  {
   "cell_type": "code",
   "execution_count": null,
   "id": "7b38ae46",
   "metadata": {},
   "outputs": [],
   "source": []
  },
  {
   "cell_type": "code",
   "execution_count": null,
   "id": "a81a3f0f",
   "metadata": {},
   "outputs": [],
   "source": []
  },
  {
   "cell_type": "code",
   "execution_count": null,
   "id": "e6f2848e",
   "metadata": {},
   "outputs": [],
   "source": []
  },
  {
   "cell_type": "code",
   "execution_count": null,
   "id": "09109397",
   "metadata": {},
   "outputs": [],
   "source": []
  },
  {
   "cell_type": "code",
   "execution_count": null,
   "id": "9b31a855",
   "metadata": {},
   "outputs": [],
   "source": []
  },
  {
   "cell_type": "code",
   "execution_count": null,
   "id": "0a86a936",
   "metadata": {},
   "outputs": [],
   "source": []
  }
 ],
 "metadata": {
  "kernelspec": {
   "display_name": "Python 3 (ipykernel)",
   "language": "python",
   "name": "python3"
  },
  "language_info": {
   "codemirror_mode": {
    "name": "ipython",
    "version": 3
   },
   "file_extension": ".py",
   "mimetype": "text/x-python",
   "name": "python",
   "nbconvert_exporter": "python",
   "pygments_lexer": "ipython3",
   "version": "3.10.4"
  }
 },
 "nbformat": 4,
 "nbformat_minor": 5
}

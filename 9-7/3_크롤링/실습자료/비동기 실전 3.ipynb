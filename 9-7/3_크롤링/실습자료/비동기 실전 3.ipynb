{
 "cells": [
  {
   "cell_type": "code",
   "execution_count": 1,
   "id": "f16cf4e7",
   "metadata": {},
   "outputs": [],
   "source": [
    "import requests"
   ]
  },
  {
   "cell_type": "code",
   "execution_count": 2,
   "id": "bc179cf0",
   "metadata": {},
   "outputs": [
    {
     "data": {
      "text/plain": [
       "200"
      ]
     },
     "execution_count": 2,
     "metadata": {},
     "output_type": "execute_result"
    }
   ],
   "source": [
    "headers= {\n",
    "    'user-agent': 'Mozilla/5.0 (Windows NT 10.0; Win64; x64) AppleWebKit/537.36 (KHTML, like Gecko) Chrome/104.0.0.0 Safari/537.36'\n",
    "}\n",
    "r = requests.get('https://finance.naver.com/item/sise_day.naver?code=035420&page=6', headers=headers)\n",
    "\n",
    "r.status_code"
   ]
  },
  {
   "cell_type": "code",
   "execution_count": 4,
   "id": "fbec129d",
   "metadata": {},
   "outputs": [],
   "source": [
    "from bs4 import BeautifulSoup\n",
    "soup = BeautifulSoup(r.text, 'html.parser')"
   ]
  },
  {
   "cell_type": "code",
   "execution_count": 13,
   "id": "34b242d4",
   "metadata": {},
   "outputs": [],
   "source": [
    "# 큰 태그 선정 하고\n",
    "type2_table = soup.select_one('.type2')\n",
    "\n",
    "# 그 안에서 태그를 추가적으로 검색\n",
    "tr_tags = type2_table.select('tr')"
   ]
  },
  {
   "cell_type": "code",
   "execution_count": 11,
   "id": "f22b13d5",
   "metadata": {},
   "outputs": [],
   "source": [
    "# soup.select_one('.type2 tr')"
   ]
  },
  {
   "cell_type": "code",
   "execution_count": 17,
   "id": "d9ba85f3",
   "metadata": {},
   "outputs": [
    {
     "data": {
      "text/plain": [
       "['날짜', '종가', '전일비', '시가', '고가', '저가', '거래량']"
      ]
     },
     "execution_count": 17,
     "metadata": {},
     "output_type": "execute_result"
    }
   ],
   "source": [
    "columns = [\n",
    "    '날짜', '종가', '전일비', '시가', '고가', '저가', '거래량'\n",
    "]\n",
    "columns"
   ]
  },
  {
   "cell_type": "code",
   "execution_count": 34,
   "id": "01391ec7",
   "metadata": {},
   "outputs": [],
   "source": [
    "# 최종 일별 시세를 담을 배열\n",
    "stock_result = []\n",
    "\n",
    "# tr 태그들을 하나씩 가져온다.\n",
    "for tr_tag in tr_tags:\n",
    "    # tah 클래스를 가진 태그가 없으면, 에러가 발생\n",
    "    # 에러가 발생하는 부분은 헤더부분(<th>)과 구분선(<td colspan=8>) 부분\n",
    "    try:\n",
    "        # 해당 tr 태그에서 tah라는 클래스를 가진 태그를 하나 선택\n",
    "        # print(tr_tag.select_one('.tah').text)\n",
    "        # --> 날짜 태그\n",
    "        date = tr_tag.select_one('.tah').text\n",
    "        \n",
    "        # 해당 tr 태그에서 num이라는 클래스를 가진 태그를 모두 선택 (결과 - 배열)\n",
    "        nums = tr_tag.select('.num')\n",
    "        \n",
    "        # 가격들을 저장할 임시변수 temp\n",
    "        temp = []\n",
    "        # num 클래스를 가진 태그를 하나씩 가져온다.\n",
    "        for num in nums:\n",
    "            # 해당 태그의 text 속성을 출력\n",
    "            # print(num.text.strip(), end='\\t')\n",
    "            # 해당 태그의 text 속성을 하나씩 담는다.\n",
    "            temp.append(num.text.strip())\n",
    "        \n",
    "        # 딕셔너리로 했을 때 날짜를 key로 가격들을 값으로\n",
    "        # stock_result[date] = temp\n",
    "        \n",
    "        # 빈 배열에 date와 temp를 넣어서 그것을 최종 결과에 담아줌\n",
    "        # list앞에 *를 붙여주면, 안에있는 요소가 하나씩 풀려서 나온다.\n",
    "        stock_result.append( [date, *temp] )\n",
    "            \n",
    "        # print()\n",
    "        \n",
    "    except:\n",
    "        # 에러 발생하면, 그냥 패스 (필요없는 데이터)\n",
    "        pass"
   ]
  },
  {
   "cell_type": "code",
   "execution_count": 35,
   "id": "d71b1e1a",
   "metadata": {},
   "outputs": [
    {
     "data": {
      "text/plain": [
       "['2022.06.22', '229,000', '10,500', '239,500', '239,500', '227,000', '894,578']"
      ]
     },
     "execution_count": 35,
     "metadata": {},
     "output_type": "execute_result"
    }
   ],
   "source": [
    "stock_result[0]"
   ]
  },
  {
   "cell_type": "code",
   "execution_count": 36,
   "id": "52bbab63",
   "metadata": {},
   "outputs": [
    {
     "data": {
      "text/plain": [
       "['날짜', '종가', '전일비', '시가', '고가', '저가', '거래량']"
      ]
     },
     "execution_count": 36,
     "metadata": {},
     "output_type": "execute_result"
    }
   ],
   "source": [
    "columns"
   ]
  },
  {
   "cell_type": "code",
   "execution_count": 40,
   "id": "e19836dd",
   "metadata": {},
   "outputs": [
    {
     "name": "stdout",
     "output_type": "stream",
     "text": [
      "273,000  ***  5,000  ***  275,500  ***  277,500  ***  269,000  ***  753,205\n"
     ]
    }
   ],
   "source": [
    "# 참고\n",
    "# print(*temp, sep='  ***  ')\n",
    "# temp = ['229,000', '10,500', '239,500', '239,500', '227,000', '894,578']\n",
    "# *temp = '229,000', '10,500', '239,500', '239,500', '227,000', '894,578'"
   ]
  },
  {
   "cell_type": "code",
   "execution_count": null,
   "id": "4c9a0a11",
   "metadata": {},
   "outputs": [],
   "source": []
  },
  {
   "cell_type": "code",
   "execution_count": null,
   "id": "b16eb8e6",
   "metadata": {},
   "outputs": [],
   "source": []
  },
  {
   "cell_type": "code",
   "execution_count": null,
   "id": "f8f97a60",
   "metadata": {},
   "outputs": [],
   "source": []
  },
  {
   "cell_type": "code",
   "execution_count": null,
   "id": "004900a8",
   "metadata": {},
   "outputs": [],
   "source": []
  }
 ],
 "metadata": {
  "kernelspec": {
   "display_name": "Python 3 (ipykernel)",
   "language": "python",
   "name": "python3"
  },
  "language_info": {
   "codemirror_mode": {
    "name": "ipython",
    "version": 3
   },
   "file_extension": ".py",
   "mimetype": "text/x-python",
   "name": "python",
   "nbconvert_exporter": "python",
   "pygments_lexer": "ipython3",
   "version": "3.10.4"
  }
 },
 "nbformat": 4,
 "nbformat_minor": 5
}

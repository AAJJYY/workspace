{
 "cells": [
  {
   "cell_type": "markdown",
   "id": "2889a032",
   "metadata": {},
   "source": [
    "## select 실습 1, 2\n",
    "\n",
    "- 서울 창업 디딤터 공지사항 크롤링"
   ]
  },
  {
   "cell_type": "code",
   "execution_count": 57,
   "id": "e5e85c0a",
   "metadata": {},
   "outputs": [
    {
     "name": "stdout",
     "output_type": "stream",
     "text": [
      "200\n"
     ]
    }
   ],
   "source": [
    "URL = 'http://didimteo.or.kr/'\n",
    "#      'http://didimteo.or.kr/news/notice/'\n",
    "\n",
    "response = requests.get(URL)\n",
    "print(response.status_code)\n",
    "soup = BeautifulSoup(response.text, 'html.parser')"
   ]
  },
  {
   "cell_type": "code",
   "execution_count": 70,
   "id": "6f5abcb1",
   "metadata": {},
   "outputs": [],
   "source": [
    "board_result = soup.select('#kboard-default-latest')[1]\n",
    "# == 같다\n",
    "board_result = soup.select_one('#kboard-default-latest')"
   ]
  },
  {
   "cell_type": "code",
   "execution_count": 69,
   "id": "f34fba02",
   "metadata": {},
   "outputs": [
    {
     "data": {
      "text/plain": [
       "'\\n\\n\\n\\n제목\\n작성일\\n\\n\\n\\n\\n\\n\\n\\nN\\t\\t\\t\\t\\t\\t\\t\\t\\t\\t\\t\\t\\t\\t[서울창업디딤터] 2022년 에듀테크 입주기업 추가 모집 (~9/8, 목)\\t\\t\\t\\t\\t\\t\\t\\n\\n\\n\\n10:35\\n\\n\\n\\n\\n\\r\\n\\t\\t\\t\\t\\t\\t\\t\\t\\t\\t\\t\\t\\t\\t\\t\\t\\t\\t\\t\\t\\t2022 한양대학교 창업지원단-서울창업디딤터 연계 온라인 특화 교육(1차) 모집 공고(~9/1(목))\\t\\t\\t\\t\\t\\t\\t\\n\\n\\n\\n2022.08.22\\n\\n\\n\\n\\n\\r\\n\\t\\t\\t\\t\\t\\t\\t\\t\\t\\t\\t\\t\\t\\t\\t\\t\\t\\t\\t\\t\\t2022년 서울창업디딤터-캠퍼스타운사업단 Connection 8월 멘토링(경영컨설팅/홍보마케팅/투자) 프로그램 모집 공고(~8/24까지)\\t\\t\\t\\t\\t\\t\\t\\n\\n\\n\\n2022.08.16\\n\\n\\n\\n\\n\\r\\n\\t\\t\\t\\t\\t\\t\\t\\t\\t\\t\\t\\t\\t\\t\\t\\t\\t\\t\\t\\t\\t[서울창업디딤터]에듀테크 해외진출 프로그램 참가기업 모집공고(~08.17(수)) / 마감\\t\\t\\t\\t\\t\\t\\t\\n\\n\\n\\n2022.08.10\\n\\n\\n\\n\\n\\r\\n\\t\\t\\t\\t\\t\\t\\t\\t\\t\\t\\t\\t\\t\\t\\t\\t\\t\\t\\t\\t\\t2022년 서울창업디딤터 BI 입주기업 모집 - 8/12(금) 17:00 마감\\t\\t\\t\\t\\t\\t\\t\\n\\n\\n\\n2022.08.04\\n\\n\\n\\n'"
      ]
     },
     "execution_count": 69,
     "metadata": {},
     "output_type": "execute_result"
    }
   ],
   "source": [
    "# resultSet, tag 구분 !\n",
    "board_result[0].text"
   ]
  },
  {
   "cell_type": "code",
   "execution_count": null,
   "id": "5d2ac0e3",
   "metadata": {},
   "outputs": [],
   "source": []
  },
  {
   "cell_type": "code",
   "execution_count": 72,
   "id": "80aabce1",
   "metadata": {},
   "outputs": [],
   "source": [
    "results = board_result.select('tbody > tr')\n",
    "\n",
    "final_result = []\n",
    "\n",
    "for result in results:\n",
    "    # print(result.text)\n",
    "    # title = result.select('td')[0]\n",
    "    # date = result.select('td')[1]\n",
    "    \n",
    "    title = result.select_one('.kboard-latest-title').text # 제목\n",
    "    date = result.select_one('.kboard-latest-date').text # 날짜, 시간\n",
    "    # print(title, date)\n",
    "    temp = {\n",
    "        '제목': title,\n",
    "        '날짜': date\n",
    "    }\n",
    "    \n",
    "    final_result.append(temp)"
   ]
  },
  {
   "cell_type": "code",
   "execution_count": 75,
   "id": "51a05aaf",
   "metadata": {},
   "outputs": [
    {
     "data": {
      "text/plain": [
       "'[서울창업디딤터] 2022년 에듀테크 입주기업 추가 모집 (~9/8, 목)'"
      ]
     },
     "execution_count": 75,
     "metadata": {},
     "output_type": "execute_result"
    }
   ],
   "source": [
    "# 문자열에서 필요없는 N 제거\n",
    "final_result[0]['제목'].replace('N', '').strip()"
   ]
  },
  {
   "cell_type": "code",
   "execution_count": 79,
   "id": "4c526ac0",
   "metadata": {},
   "outputs": [
    {
     "name": "stdout",
     "output_type": "stream",
     "text": [
      "{'제목': '[서울창업디딤터] 2022년 에듀테크 입주기업 추가 모집 (~9/8, 목)', '날짜': '10:35'}\n",
      "\n",
      "{'제목': '2022 한양대학교 창업지원단-서울창업디딤터 연계 온라인 특화 교육(1차) 모집 공고(~9/1(목))', '날짜': '2022.08.22'}\n",
      "\n",
      "{'제목': '2022년 서울창업디딤터-캠퍼스타운사업단 Connection 8월 멘토링(경영컨설팅/홍보마케팅/투자) 프로그램 모집 공고(~8/24까지)', '날짜': '2022.08.16'}\n",
      "\n",
      "{'제목': '[서울창업디딤터]에듀테크 해외진출 프로그램 참가기업 모집공고(~08.17(수)) / 마감', '날짜': '2022.08.10'}\n",
      "\n",
      "{'제목': '2022년 서울창업디딤터 BI 입주기업 모집 - 8/12(금) 17:00 마감', '날짜': '2022.08.04'}\n",
      "\n"
     ]
    }
   ],
   "source": [
    "for final_r in final_result: # final_r { 제목: v1, 날짜: v2 }\n",
    "    # print(final_r)\n",
    "    # print()\n",
    "    final_r['제목'] = final_r['제목'].replace('N', '').strip()\n",
    "    print(final_r)\n",
    "    print()\n",
    "# print(final_result)"
   ]
  },
  {
   "cell_type": "code",
   "execution_count": null,
   "id": "c1ffcaf5",
   "metadata": {},
   "outputs": [],
   "source": []
  },
  {
   "cell_type": "code",
   "execution_count": 80,
   "id": "582a0549",
   "metadata": {},
   "outputs": [],
   "source": [
    "# 고정 (템플릿처럼 사용)\n",
    "URL = 'http://didimteo.or.kr/'\n",
    "response = requests.get(URL)\n",
    "soup = BeautifulSoup(response.text, 'html.parser')\n",
    "\n",
    "\n",
    "# 구조 분석 후 큰 틀에서 작은곳으로 순차적 접근\n",
    "board_result = soup.select('#kboard-default-latest')[0]\n",
    "results = board_result.select('tbody > tr')\n",
    "\n",
    "# 우리가 필요한 데이터를 담아줄 곳\n",
    "final_result = []\n",
    "for result in results:\n",
    "    title = result.select_one('.kboard-latest-title').text # 제목\n",
    "    date = result.select_one('.kboard-latest-date').text # 날짜, 시간\n",
    "    temp = {\n",
    "        '제목': title,\n",
    "        '날짜': date\n",
    "    }\n",
    "    \n",
    "    final_result.append(temp)"
   ]
  },
  {
   "cell_type": "code",
   "execution_count": 81,
   "id": "5f411f4e",
   "metadata": {
    "scrolled": true
   },
   "outputs": [
    {
     "data": {
      "text/plain": [
       "[{'제목': '\\n\\n\\nN\\t\\t\\t\\t\\t\\t\\t\\t\\t\\t\\t\\t\\t\\t[서울창업디딤터] 2022년 에듀테크 입주기업 추가 모집 (~9/8, 목)\\t\\t\\t\\t\\t\\t\\t\\n\\n\\n',\n",
       "  '날짜': '10:35'},\n",
       " {'제목': '\\n\\n\\r\\n\\t\\t\\t\\t\\t\\t\\t\\t\\t\\t\\t\\t\\t\\t\\t\\t\\t\\t\\t\\t\\t2022 한양대학교 창업지원단-서울창업디딤터 연계 온라인 특화 교육(1차) 모집 공고(~9/1(목))\\t\\t\\t\\t\\t\\t\\t\\n\\n\\n',\n",
       "  '날짜': '2022.08.22'},\n",
       " {'제목': '\\n\\n\\r\\n\\t\\t\\t\\t\\t\\t\\t\\t\\t\\t\\t\\t\\t\\t\\t\\t\\t\\t\\t\\t\\t2022년 서울창업디딤터-캠퍼스타운사업단 Connection 8월 멘토링(경영컨설팅/홍보마케팅/투자) 프로그램 모집 공고(~8/24까지)\\t\\t\\t\\t\\t\\t\\t\\n\\n\\n',\n",
       "  '날짜': '2022.08.16'},\n",
       " {'제목': '\\n\\n\\r\\n\\t\\t\\t\\t\\t\\t\\t\\t\\t\\t\\t\\t\\t\\t\\t\\t\\t\\t\\t\\t\\t[서울창업디딤터]에듀테크 해외진출 프로그램 참가기업 모집공고(~08.17(수)) / 마감\\t\\t\\t\\t\\t\\t\\t\\n\\n\\n',\n",
       "  '날짜': '2022.08.10'},\n",
       " {'제목': '\\n\\n\\r\\n\\t\\t\\t\\t\\t\\t\\t\\t\\t\\t\\t\\t\\t\\t\\t\\t\\t\\t\\t\\t\\t2022년 서울창업디딤터 BI 입주기업 모집 - 8/12(금) 17:00 마감\\t\\t\\t\\t\\t\\t\\t\\n\\n\\n',\n",
       "  '날짜': '2022.08.04'}]"
      ]
     },
     "execution_count": 81,
     "metadata": {},
     "output_type": "execute_result"
    }
   ],
   "source": [
    "final_result"
   ]
  },
  {
   "cell_type": "code",
   "execution_count": null,
   "id": "b6991138",
   "metadata": {},
   "outputs": [],
   "source": []
  },
  {
   "cell_type": "code",
   "execution_count": 4,
   "id": "728cc4da",
   "metadata": {},
   "outputs": [],
   "source": [
    "import requests\n",
    "from bs4 import BeautifulSoup"
   ]
  },
  {
   "cell_type": "code",
   "execution_count": 5,
   "id": "f299a7af",
   "metadata": {},
   "outputs": [],
   "source": [
    "# 고정 (템플릿처럼 사용)\n",
    "URL = 'http://didimteo.or.kr/news/notice/'\n",
    "response = requests.get(URL)\n",
    "soup = BeautifulSoup(response.text, 'html.parser')"
   ]
  },
  {
   "cell_type": "code",
   "execution_count": 6,
   "id": "883bed58",
   "metadata": {},
   "outputs": [],
   "source": [
    "# 구조 분석\n",
    "board_results = soup.select('.kboard-list > table > tbody > tr')"
   ]
  },
  {
   "cell_type": "code",
   "execution_count": 11,
   "id": "c97a10c9",
   "metadata": {},
   "outputs": [
    {
     "name": "stdout",
     "output_type": "stream",
     "text": [
      "[{'제목': '[서울창업디딤터] 2022년 에듀테크 입주기업 추가 모집 (~9/8, 목)', '날짜': '10:35'}, {'제목': '[공사공지] 서울창업디딤터 지하 환경 개선 리모델링 공사 안내', '날짜': '2022.06.24'}, {'제목': '[서울창업디딤터] 대강의실 및 공동작업실 이용 신청 방식 변경', '날짜': '2022.06.04'}, {'제목': '[소리함] 서울창업디딤터 귀는 당나귀 귀~', '날짜': '2022.04.29'}, {'제목': '[코로나19] 서울창업디딤터 구성원 및 외부 방문객 코로나19 확진 신고서 (자기 기입)', '날짜': '2022.03.16'}, {'제목': '[서울창업디딤터] 센터 부지내 주차 안내', '날짜': '2022.01.24'}, {'제목': '[서울창업디딤터] 외부 대관시설 운영 무기한 중단 안내(~별도 공지 시까지)', '날짜': '2021.12.22'}, {'제목': '[서울창업디딤터] 창업멘토링, 창업아카데미 정보 미리받기 안내', '날짜': '2018.05.10'}, {'제목': '2022 한양대학교 창업지원단-서울창업디딤터 연계 온라인 특화 교육(1차) 모집 공고(~9/1(목))', '날짜': '2022.08.22'}, {'제목': '2022년 서울창업디딤터-캠퍼스타운사업단 Connection 8월 멘토링(경영컨설팅/홍보마케팅/투자) 프로그램 모집 공고(~8/24까지)', '날짜': '2022.08.16'}, {'제목': '[서울창업디딤터]에듀테크 해외진출 프로그램 참가기업 모집공고(~08.17(수)) / 마감', '날짜': '2022.08.10'}, {'제목': '2022년 서울창업디딤터 BI 입주기업 모집 - 8/12(금) 17:00 마감', '날짜': '2022.08.04'}, {'제목': '[코로나19] 규제 중심의 거리두기 없이 사회·분야별 일상 방역 생활화를 추진합니다', '날짜': '2022.07.29'}, {'제목': '[공사 공지] 서울창업디딤터 지하 1층 환경 개선 공사 입찰 공고', '날짜': '2022.07.27'}, {'제목': '[서울창업디딤터] 8월 입주기업 역량강화 멘토링 참여자 모집 안내', '날짜': '2022.07.20'}, {'제목': '2022년 캠퍼스타운 스타트업 후속성장 지원 사업 \"7월 멘토링 신청 안내\"-[전문가 멘토링: 법률/IR피칭/정부지원사업]', '날짜': '2022.07.13'}, {'제목': '2022년 캠퍼스타운 스타트업 후속성장 지원 사업 \"7월 아카데미 신청 접수\" 안내-[7/26(화): 좋은 비즈니스모델(BM) 수립을 위한 조건]', '날짜': '2022.07.13'}, {'제목': '[공사 공지] 센터 내 보관 물품 회수 공지 (~7/30까지)', '날짜': '2022.06.29'}]\n"
     ]
    }
   ],
   "source": [
    "final_result = []\n",
    "\n",
    "for board_result in board_results:\n",
    "    title = board_result.select_one('.kboard-default-cut-strings').text.replace('New','').strip() # 제목\n",
    "    date = board_result.select_one('.kboard-list-date').text # 작성일\n",
    "    \n",
    "    temp = {\n",
    "        '제목': title,\n",
    "        '날짜': date\n",
    "    }\n",
    "    \n",
    "    final_result.append(temp)\n",
    "\n",
    "print(final_result)"
   ]
  },
  {
   "cell_type": "code",
   "execution_count": null,
   "id": "8b6c4dd0",
   "metadata": {},
   "outputs": [],
   "source": []
  },
  {
   "cell_type": "code",
   "execution_count": null,
   "id": "bee51ddc",
   "metadata": {},
   "outputs": [],
   "source": []
  },
  {
   "cell_type": "markdown",
   "id": "62f03a17",
   "metadata": {},
   "source": [
    "## 실습 3"
   ]
  },
  {
   "cell_type": "code",
   "execution_count": 1,
   "id": "79370e45",
   "metadata": {},
   "outputs": [],
   "source": [
    "import requests\n",
    "from bs4 import BeautifulSoup"
   ]
  },
  {
   "cell_type": "code",
   "execution_count": 2,
   "id": "ecd534f3",
   "metadata": {},
   "outputs": [],
   "source": [
    "# 고정 (템플릿처럼 사용)\n",
    "URL = 'https://youth.seoul.go.kr/site/main/home'\n",
    "response = requests.get(URL)\n",
    "soup = BeautifulSoup(response.text, 'html.parser')"
   ]
  },
  {
   "cell_type": "code",
   "execution_count": 4,
   "id": "8e20cf08",
   "metadata": {},
   "outputs": [
    {
     "name": "stdout",
     "output_type": "stream",
     "text": [
      "<a href=\"/site/main/board/notice/list?baCategory1=basic\">공지사항</a>\n"
     ]
    }
   ],
   "source": [
    "result = soup.select_one('a[href*=\"baCategory1=basic\"]')\n",
    "print(result)"
   ]
  },
  {
   "cell_type": "code",
   "execution_count": null,
   "id": "2ecd71b3",
   "metadata": {},
   "outputs": [],
   "source": [
    "# ~= 과 *=의 차이\n",
    "\n",
    "# ~= : 'wowowowowow' wow를 검색하면, 찾을 수 없음 (단어 단위 정확히 일치할 경우)\n",
    "# *= : 'wowowowowow' wow를 검색하면, 찾음 (해당 값이 포함되어있을 경우)"
   ]
  },
  {
   "cell_type": "code",
   "execution_count": null,
   "id": "86598b85",
   "metadata": {},
   "outputs": [],
   "source": []
  },
  {
   "cell_type": "markdown",
   "id": "947ee1ee",
   "metadata": {},
   "source": [
    "## 실습 4"
   ]
  },
  {
   "cell_type": "code",
   "execution_count": 5,
   "id": "8bd68f29",
   "metadata": {},
   "outputs": [],
   "source": [
    "# 고정 (템플릿처럼 사용)\n",
    "URL = 'https://ko.wikipedia.org/wiki/%ED%8F%AC%ED%84%B8:%EC%9A%94%EC%A6%98_%ED%99%94%EC%A0%9C'\n",
    "response = requests.get(URL)\n",
    "soup = BeautifulSoup(response.text, 'html.parser')"
   ]
  },
  {
   "cell_type": "code",
   "execution_count": 6,
   "id": "2492253e",
   "metadata": {},
   "outputs": [],
   "source": [
    "# 구조 분석\n",
    "results = soup.select('table.vevent')\n",
    "\n",
    "# 확실하게 구분해서 알고가자 !\n",
    "# select_one (type) - .Tag (사용가능 속성 : )\n",
    "# select (type) - .ResultSet (사용가능 속성 : )"
   ]
  },
  {
   "cell_type": "code",
   "execution_count": 8,
   "id": "a711d9c6",
   "metadata": {},
   "outputs": [],
   "source": [
    "# 필요없는 테이블 슬라이싱\n",
    "results = results[:-3]"
   ]
  },
  {
   "cell_type": "code",
   "execution_count": 38,
   "id": "0dc2183a",
   "metadata": {},
   "outputs": [],
   "source": [
    "# results[0]"
   ]
  },
  {
   "cell_type": "code",
   "execution_count": 32,
   "id": "e8fe8d35",
   "metadata": {},
   "outputs": [],
   "source": [
    "# 최종 데이터를 담을 리스트\n",
    "final_result = []\n",
    "\n",
    "# 주요 뉴스는 가져오기 힘들고, 이미 알고있으니 하드 코딩 (직접 데이터를 코드에 입력)\n",
    "final_result.append('주요 뉴스')"
   ]
  },
  {
   "cell_type": "code",
   "execution_count": 33,
   "id": "24d5903f",
   "metadata": {},
   "outputs": [],
   "source": [
    "# for li in results[0].select('li'):\n",
    "#     print(li.text)\n",
    "\n",
    "news = [li.text for li in results[0].select('li')]"
   ]
  },
  {
   "cell_type": "code",
   "execution_count": 34,
   "id": "36c4bb28",
   "metadata": {},
   "outputs": [],
   "source": [
    "final_result.extend(news)"
   ]
  },
  {
   "cell_type": "code",
   "execution_count": 24,
   "id": "467c5f28",
   "metadata": {},
   "outputs": [
    {
     "data": {
      "text/plain": [
       "['주요 뉴스',\n",
       " '8월 25일, 파키스탄에서 일어난 홍수로 1,000명 이상의 주민이 사망하고, 가축 70,000마리 이상이 죽었다.',\n",
       " '8월 24일, 앙골라에서 현직 대통령 주앙 로렌수(사진)와 그의 정당 앙골라 해방인민운동이 총선의 승자로 선언되었다.',\n",
       " '8월 15일, 윌리엄 루토가 라일라 오딩가를 꺾고 케냐의 4대 대통령으로 선출되었다.',\n",
       " '8월 12일, 《악마의 시》의 저자 살만 루슈디가 미국에서 연설 중에 칼에 찔려 중상을 입었다.',\n",
       " '8월 12일, 미국의 배우, 감독이자 시나리오 작가 앤 헤이치가 자신의 자동차로 LA에서 주택을 들이받는 교통사고를 낸 후 전신 화상과 뇌손상으로 일주일간 치료를 받다가 사망하였다.']"
      ]
     },
     "execution_count": 24,
     "metadata": {},
     "output_type": "execute_result"
    }
   ],
   "source": [
    "final_result"
   ]
  },
  {
   "cell_type": "code",
   "execution_count": 39,
   "id": "597780db",
   "metadata": {},
   "outputs": [
    {
     "name": "stdout",
     "output_type": "stream",
     "text": [
      "대한민국의 0시 기준 누적 ​확진자 수가 23,026,960명으로 집계되었다. 전날 0시 대비 43,142명(국내 42,782, 해외유입 360)이 늘었다.\n"
     ]
    }
   ],
   "source": [
    "temp = []\n",
    "for li in results[1].select('li > ul > li'): # li li\n",
    "#     temp.append(li.text)\n",
    "    print(li.text)"
   ]
  },
  {
   "cell_type": "code",
   "execution_count": 35,
   "id": "fe8d9a9b",
   "metadata": {},
   "outputs": [],
   "source": [
    "for result in results[1:]: # result = .vevent\n",
    "    title = result.select_one('.summary').text\n",
    "    \n",
    "    final_result.append(title)\n",
    "    \n",
    "    for li in result.select('li li'):\n",
    "#         print(li.text)\n",
    "        final_result.append(li.text)"
   ]
  },
  {
   "cell_type": "code",
   "execution_count": 36,
   "id": "19ed2904",
   "metadata": {},
   "outputs": [
    {
     "data": {
      "text/plain": [
       "['주요 뉴스',\n",
       " '8월 25일, 파키스탄에서 일어난 홍수로 1,000명 이상의 주민이 사망하고, 가축 70,000마리 이상이 죽었다.',\n",
       " '8월 24일, 앙골라에서 현직 대통령 주앙 로렌수(사진)와 그의 정당 앙골라 해방인민운동이 총선의 승자로 선언되었다.',\n",
       " '8월 15일, 윌리엄 루토가 라일라 오딩가를 꺾고 케냐의 4대 대통령으로 선출되었다.',\n",
       " '8월 12일, 《악마의 시》의 저자 살만 루슈디가 미국에서 연설 중에 칼에 찔려 중상을 입었다.',\n",
       " '8월 12일, 미국의 배우, 감독이자 시나리오 작가 앤 헤이치가 자신의 자동차로 LA에서 주택을 들이받는 교통사고를 낸 후 전신 화상과 뇌손상으로 일주일간 치료를 받다가 사망하였다.',\n",
       " 'Current events of 2022년 8월 29일\\xa0(2022-08-29) (월요일)',\n",
       " '대한민국의 0시 기준 누적 \\u200b확진자 수가 23,026,960명으로 집계되었다. 전날 0시 대비 43,142명(국내 42,782, 해외유입 360)이 늘었다.',\n",
       " 'Current events of 2022년 8월 28일\\xa0(2022-08-28) (일요일)',\n",
       " '대한민국의 0시 기준 누적 \\u200b확진자 수가 22,983,818명으로 집계되었다. 전날 0시 대비 85,295명(국내 84,932, 해외유입 363)이 늘었다.',\n",
       " 'Current events of 2022년 8월 27일\\xa0(2022-08-27) (토요일)',\n",
       " '대한민국의 0시 기준 누적 \\u200b확진자 수가 22,898,523명으로 집계되었다. 전날 0시 대비 95,604명(국내 95,206, 해외유입 398)이 늘었다. 누계가 일부 정정(-66)되었다.',\n",
       " 'Current events of 2022년 8월 26일\\xa0(2022-08-26) (금요일)',\n",
       " '대한민국의 0시 기준 누적 \\u200b확진자 수가 22,802,985명으로 집계되었다. 전날 0시 대비 101,140명(국내 100,782, 해외유입 358)이 늘었다. 누계가 일부 정정(-76)되었다.',\n",
       " '이준석 전 국민의힘 대표가 국민의힘과 주호영 비상대책위원장을 상대로 낸 가처분이 주호영에 대한 부분만 일부 인용되어 비상대책위원장직이 정지되었다.',\n",
       " 'Current events of 2022년 8월 25일\\xa0(2022-08-25) (목요일)',\n",
       " '지난 4월, 5월 그리고 7월에 이은 인상으로, 네 차례 연속 인상은 사상 처음이다. 이창용 한은총재는 인플레이션과 관련하여 금리 인상 기조가 이어지는 것이 바람직하다고 밝혔다.',\n",
       " '이번 인상으로 한은금리와 미국 연준 금리(2.25%~2.50%, 7월 27일 인상)와 같아졌다. 그러나 금리 인상 기조의 연준 연방공개시장위원회(FOMC) 회의가 9월에, 한은의 다음 회의는 10월에 예정되어 있기 때문에, 별도의 긴급회의를 통한 금리 인상이 없다면, 한미 기준 금리는 다시 역전할 것으로 전망되었다.',\n",
       " '대한민국의 0시 기준 누적 \\u200b확진자 수가 22,701,921명으로 집계되었다. 전날 0시 대비 113,371명(국내 113,002, 해외유입 369)이 늘었다. 누계가 일부 정정(-90)되었다.',\n",
       " 'Current events of 2022년 8월 24일\\xa0(2022-08-24) (수요일)',\n",
       " '대한민국의 0시 기준 누적 \\u200b확진자 수가 22,588,640명으로 집계되었다. 전날 0시 대비 139,339명(국내 138,883, 해외유입 456)이 늘었다. 누계가 일부 정정(-174)되었다.',\n",
       " 'Current events of 2022년 8월 23일\\xa0(2022-08-23) (화요일)',\n",
       " '대한민국의 0시 기준 누적 \\u200b확진자 수가 22,449,475명으로 집계되었다. 전날 0시 대비 150,258명(국내 149,754, 해외유입 504)이 늘었다. 누계가 일부 정정(-160)되었다.',\n",
       " 'Current events of 2022년 8월 22일\\xa0(2022-08-22) (월요일)',\n",
       " '대한민국의 0시 기준 누적 \\u200b확진자 수가 22,299,377명으로 집계되었다. 전날 0시 대비 59,046명(국내 58,640, 해외유입 406)이 늘었다.',\n",
       " 'Current events of 2022년 8월 21일\\xa0(2022-08-21) (일요일)',\n",
       " '대한민국의 0시 기준 누적 \\u200b확진자 수가 22,240,331명으로 집계되었다. 전날 0시 대비 110,944명(국내 110,548, 해외유입 396)이 늘었다.',\n",
       " 'Current events of 2022년 8월 20일\\xa0(2022-08-20) (토요일)',\n",
       " '대한민국의 0시 기준 누적 \\u200b확진자 수가 22,129,387명으로 집계되었다. 전날 0시 대비 129,411명(국내 128,919, 해외유입 492)이 늘었다. 누계가 일부 정정(-61)되었다.',\n",
       " 'Current events of 2022년 8월 19일\\xa0(2022-08-19) (금요일)',\n",
       " '대한민국의 0시 기준 누적 \\u200b확진자 수가 22,000,037명으로 집계되었다. 전날 0시 대비 138,812명(국내 138,347, 해외유입 465)이 늘었다. 누계가 일부 정정(-71)되었다.',\n",
       " 'Current events of 2022년 8월 18일\\xa0(2022-08-18) (목요일)',\n",
       " '대한민국의 0시 기준 누적 \\u200b확진자 수가 21,861,296명으로 집계되었다. 전날 0시 대비 178,574명(국내 177,941, 해외유입 633)이 늘었다. 누계가 일부 정정(-94)되었다.',\n",
       " 'Current events of 2022년 8월 17일\\xa0(2022-08-17) (수요일)',\n",
       " '대한민국의 0시 기준 누적 \\u200b확진자 수가 21,682,816명으로 집계되었다. 전날 0시 대비 180,803명(국내 180,236, 해외유입 567)이 늘었다. 누계가 일부 정정(-151)되었다.',\n",
       " 'Current events of 2022년 8월 16일\\xa0(2022-08-16) (화요일)',\n",
       " '대한민국의 0시 기준 누적 \\u200b확진자 수가 21,502,164명으로 집계되었다. 전날 0시 대비 84,128명(국내 83,665, 해외유입 463)이 늘었다.',\n",
       " 'Current events of 2022년 8월 15일\\xa0(2022-08-15) (월요일)',\n",
       " '대한민국의 0시 기준 누적 \\u200b확진자 수가 21,418,036명으로 집계되었다. 전날 0시 대비 62,078명(국내 61,682, 해외유입 396)이 늘었다.']"
      ]
     },
     "execution_count": 36,
     "metadata": {},
     "output_type": "execute_result"
    }
   ],
   "source": [
    "final_result"
   ]
  },
  {
   "cell_type": "code",
   "execution_count": null,
   "id": "49488069",
   "metadata": {},
   "outputs": [],
   "source": []
  },
  {
   "cell_type": "code",
   "execution_count": null,
   "id": "97cc0843",
   "metadata": {},
   "outputs": [],
   "source": []
  },
  {
   "cell_type": "code",
   "execution_count": null,
   "id": "eec15390",
   "metadata": {},
   "outputs": [],
   "source": []
  },
  {
   "cell_type": "code",
   "execution_count": null,
   "id": "98e71f50",
   "metadata": {},
   "outputs": [],
   "source": []
  },
  {
   "cell_type": "code",
   "execution_count": null,
   "id": "adb0ab3f",
   "metadata": {},
   "outputs": [],
   "source": []
  },
  {
   "cell_type": "code",
   "execution_count": null,
   "id": "29515068",
   "metadata": {},
   "outputs": [],
   "source": []
  },
  {
   "cell_type": "code",
   "execution_count": null,
   "id": "f34fc10a",
   "metadata": {},
   "outputs": [],
   "source": []
  }
 ],
 "metadata": {
  "kernelspec": {
   "display_name": "Python 3 (ipykernel)",
   "language": "python",
   "name": "python3"
  },
  "language_info": {
   "codemirror_mode": {
    "name": "ipython",
    "version": 3
   },
   "file_extension": ".py",
   "mimetype": "text/x-python",
   "name": "python",
   "nbconvert_exporter": "python",
   "pygments_lexer": "ipython3",
   "version": "3.10.4"
  }
 },
 "nbformat": 4,
 "nbformat_minor": 5
}

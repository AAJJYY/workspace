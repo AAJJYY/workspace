{
 "cells": [
  {
   "cell_type": "code",
   "execution_count": 31,
   "id": "1c02f45a",
   "metadata": {},
   "outputs": [],
   "source": [
    "import requests\n",
    "from bs4 import BeautifulSoup\n",
    "\n",
    "BASE_URL = 'https://www.rocketpunch.com/api/jobs/template?'\n",
    "\n",
    "page = 4\n",
    "parameters = 'page=' + str(page)\n",
    "\n",
    "URL = BASE_URL + parameters\n",
    "res = requests.get(URL)"
   ]
  },
  {
   "cell_type": "code",
   "execution_count": 32,
   "id": "05a14fcb",
   "metadata": {},
   "outputs": [
    {
     "data": {
      "text/plain": [
       "200"
      ]
     },
     "execution_count": 32,
     "metadata": {},
     "output_type": "execute_result"
    }
   ],
   "source": [
    "res.status_code"
   ]
  },
  {
   "cell_type": "code",
   "execution_count": 33,
   "id": "dc4b1b26",
   "metadata": {},
   "outputs": [],
   "source": [
    "import json\n",
    "json_data = json.loads(res.text)"
   ]
  },
  {
   "cell_type": "code",
   "execution_count": 40,
   "id": "8d86816a",
   "metadata": {},
   "outputs": [],
   "source": [
    "soup = BeautifulSoup(json_data['data']['template'], 'html.parser')"
   ]
  },
  {
   "cell_type": "code",
   "execution_count": 41,
   "id": "9aec2734",
   "metadata": {},
   "outputs": [],
   "source": [
    "company_list = soup.select('.company.item')"
   ]
  },
  {
   "cell_type": "code",
   "execution_count": 46,
   "id": "b95108f9",
   "metadata": {},
   "outputs": [],
   "source": [
    "result = []\n",
    "\n",
    "for company in company_list:\n",
    "    company_name = company.select_one('.header.name').text.strip()\n",
    "    description = company.select_one('.description').text.strip()\n",
    "    \n",
    "    job_details = company.select('.job-detail')\n",
    "    \n",
    "    job_temps = []\n",
    "    \n",
    "    for job_detail in job_details:\n",
    "        job_title = job_detail.select_one('.job-title').text.strip()\n",
    "        \n",
    "        job_temps.append(job_title)\n",
    "    \n",
    "    temp = {}\n",
    "    temp['회사명'] = company_name\n",
    "    temp['설명'] = description\n",
    "    temp['채용공고'] = job_temps\n",
    "    \n",
    "    result.append(temp)\n",
    "    \n",
    "    # print(company_name, description)"
   ]
  },
  {
   "cell_type": "code",
   "execution_count": 47,
   "id": "eed9c801",
   "metadata": {},
   "outputs": [
    {
     "data": {
      "text/plain": [
       "[{'회사명': '오브라운(주)\\n(OHBROWN Co., Ltd.)',\n",
       "  '설명': '오브라운은 세계 최고의 글로벌 브랜드들과 함께 일하고 있는 광고회사입니다. 최고의 아이디어, 세상을 놀라게 할 만한 아이디어들이 가득한 인재들과 함께 일 할 자신감 넘치는 또 다른 인재를 찾고 있습니다. 새로운 일들이 항상 넘쳐나는 이곳에 도전하고 싶습니까? 자기주도적이며 책임감을 가진 사람이면 누구든 환영입니다.',\n",
       "  '채용공고': ['광고기획 디자이너',\n",
       "   '웹 디자이너(UI/ UX)',\n",
       "   '웹 서비스 개발자',\n",
       "   '서비스 기획자',\n",
       "   'OOH 미디어 플래너/ 디지털 캠페인 AE',\n",
       "   '유튜브 콘텐츠 기획자']},\n",
       " {'회사명': '콜라보그라운드\\n(COLAVOGROUND)',\n",
       "  '설명': '작은 뷰티샵을 위한 모바일CRM으로 글로벌 시장에 도전하는 스타트업',\n",
       "  '채용공고': ['iOS 개발자 (iOS developer)',\n",
       "   '시니어 서비스 기획자 (Senior Service manager)',\n",
       "   '디지털 마케터, 퍼포먼스 마케터 (Digital Marketer, Performance Marketer)',\n",
       "   '프론트엔드 리액트(React) 개발자',\n",
       "   '프론트엔드 리액트(React) 개발자',\n",
       "   '주니어 백엔드 개발자 (Junior Node.js developer)',\n",
       "   'UX/UI 디자이너 (UX/UI designer)',\n",
       "   '시니어 백엔드 개발자 (Senior Node.js developer)',\n",
       "   '안드로이드 개발자 (Android developer)',\n",
       "   '고객지원 매니저 (CS Manager) (신입가능, 경력무관)']},\n",
       " {'회사명': '스너그스튜디오\\n(SNUG STUDIO)',\n",
       "  '설명': '주거공간예약플랫폼',\n",
       "  '채용공고': ['R&D - backend developer (JAVA) (팀원, PO, CTO 채용)',\n",
       "   '[공간 예약 플랫폼 멤버 모집] 사업기획팀 - 마케터(marketer)',\n",
       "   '[공간 예약 플랫폼 멤버 모집] R&D - ux/ui designer',\n",
       "   '[공간 예약 플랫폼 멤버 모집] R&D - ux/ui 기획',\n",
       "   'R&D - front end developer',\n",
       "   '[공간 예약 플랫폼 사라바] 사업기획팀 sales 모집']},\n",
       " {'회사명': '소울웨어\\n(SOULWARE)',\n",
       "  '설명': '영혼이 있는 소프트웨어를 꿈꾸다',\n",
       "  '채용공고': ['혼을 담은 소프트웨어 개발자(웹/앱 애플리케이션, 백엔드/프론트엔드), 연구개발(IoT, 머신러닝, 인공지능)']},\n",
       " {'회사명': 'ShopBack',\n",
       "  '설명': \"샵백은 국내를 포함하여 싱가포르, 대만, 호주, 말레이시아, 인도네시아, 필리핀, 태국, 베트남까지 총 9개의 국가에서 운영되고 있는 아시아 태평양 지역 1위 캐시백 플랫폼입니다. 샵백은 2020년 이베이츠 코리아 인수와 동시에 다양한 마케팅 활동과 비즈니스 제휴를 통하여 고객들에게 보다 나은 서비스를 제공하고  '똑똑한 쇼핑 습관'의 메시지를 전달하고 있습니다. 현재 샵백 코리아는 서울 강남구에 위치하고 있으며 다양한 배경을 지닌 구성원들과 함께 국내 비즈니스를 성장시키고 있습니다. 샵백 코리아와 함께 현명한 온라인 쇼핑 습관을 제시하고, 창의적인 아이디어를 실행하며 최고의 팀원들과 함께 비즈니스를 성장시키고자 하는 열정을 가진 전문가분이라면 지금 샵백 코리아에 지원해 주세요!\",\n",
       "  '채용공고': ['6개월 웹 디자이너 6months Creative Designer',\n",
       "   '웹 디자이너 Creative Designer']},\n",
       " {'회사명': '(주)버스크\\n(Busk Inc.)',\n",
       "  '설명': \"해외 현지 물류창고 풀필먼트 서비스 중개 플랫폼 'Busk Fulfillment' 서비스 개발 및 운영 업체 입니다.\",\n",
       "  '채용공고': ['[초기 스타트업 근무] 영업 및 기획 담당자']},\n",
       " {'회사명': '헤브론스타벤처스\\n(Hebronstar Ventures)',\n",
       "  '설명': 'Global Startup Accelerator',\n",
       "  '채용공고': ['[Ventures] 글로벌마케팅 인턴/신입/경력 채용']},\n",
       " {'회사명': '위블\\n(webl)', '설명': '국내 최초 숏폼 커머스 플랫폼', '채용공고': ['안드로이드 프론트엔드 개발자']},\n",
       " {'회사명': '아토머스\\n(Atommerce)',\n",
       "  '설명': '국내 최대 심리상담 플랫폼 마인드카페',\n",
       "  '채용공고': ['프리랜서 전문 코치',\n",
       "   '콘텐츠 디자이너(인턴)',\n",
       "   'UX/UI 디자이너',\n",
       "   '점포 개발',\n",
       "   '[마인드카페 심리상담센터 한남점] 상담센터 실장',\n",
       "   '[마인드카페 심리상담센터 강남점] 상담센터 실장',\n",
       "   \"CEO's Executive Assistant\",\n",
       "   '퍼포먼스 마케터',\n",
       "   '백엔드 개발자',\n",
       "   '퍼포먼스 마케터 (인턴)',\n",
       "   '아토머스(주) 마인드카페 내부상담사 채용 (업계 최고 대우)',\n",
       "   '프론트엔드 개발자',\n",
       "   '사업개발 매니저',\n",
       "   '연구소 웹프론트엔드 개발자',\n",
       "   'Product Owner(PO)',\n",
       "   '콘텐츠 마케터(인턴)']},\n",
       " {'회사명': '오디코드\\n(ODcode)',\n",
       "  '설명': 'ODcode는 IT 솔루션을 제공하는 기술기업입니다.',\n",
       "  '채용공고': ['프론트엔드 개발자', '백엔드 개발자']},\n",
       " {'회사명': '더화이트커뮤니케이션\\n(The White Communication)',\n",
       "  '설명': '기술을 통해 오퍼레이션을 혁신합니다.',\n",
       "  '채용공고': ['플랫폼 기획팀 서비스 기획 PM/PO',\n",
       "   '백엔드 개발자 (2년 이상)',\n",
       "   '인프라팀 VoIP 엔지니어',\n",
       "   '사업제휴팀 매니저 (IT 비즈니스 전략/제휴)']},\n",
       " {'회사명': '씨드앤\\n(SeedN)',\n",
       "  '설명': '실내 적정 온도를 통해 지속가능한 사회와 환경을 만들어갑니다.',\n",
       "  '채용공고': ['데브옵스(DevOps) 엔지니어',\n",
       "   '프론트엔드 개발자(경력)',\n",
       "   '홍보 마케팅 채용전환형 인턴',\n",
       "   'UI/UX 디자이너 채용전환형 인턴',\n",
       "   '필드 커뮤니케이션 매니저(CX 매니저) (경력)',\n",
       "   '법인 영업 (경력 3년 이상~5년 이하)',\n",
       "   '필드 커뮤니케이션 매니저(CX 매니저) 채용전환형 인턴']},\n",
       " {'회사명': '컨샐러드\\n(consalad)',\n",
       "  '설명': '나와 우리를, 그리고 우리와 세상을 연결하는 데이터와 사람을 연결하는 우리는 컨샐러드 입니다.',\n",
       "  '채용공고': ['게임 도트 디자이너']},\n",
       " {'회사명': '페오펫\\n(peopet)',\n",
       "  '설명': '대한민국 1등 모바일 반려동물등록 & 반려동물용품 전문 쇼핑몰',\n",
       "  '채용공고': ['[반려동물, 펫시장] 퍼포먼스 마케터',\n",
       "   '[반려동물, 펫시장] 컨텐츠 마케터',\n",
       "   '[반려동물, 펫비즈니스] 프론트엔드 개발자',\n",
       "   '[반려동물, 펫시장] 경영지원, CEO-Staff',\n",
       "   '[반려동물, 펫비즈니스] 백엔드 개발자',\n",
       "   '[반려동물, 펫비즈니스] 서비스운영, 고객관리, CX매니저']},\n",
       " {'회사명': '커넥트모어\\n(Connect.more)',\n",
       "  '설명': '언제/누구와/무엇을 할지에 더 중점을 두고 취향이 맞는 사람들과의 만남을 더 편하게 연결하는 매칭 서비스',\n",
       "  '채용공고': ['앱 개발자 (React Native / 3년 이상) - 입사 보너스 200만원 지급',\n",
       "   '퍼포먼스 마케터 - 입사 보너스 200만원 지급',\n",
       "   '콘텐츠 마케터 - 입사 보너스 200만원 지급']},\n",
       " {'회사명': '주식회사 노타\\n(Nota Inc.)',\n",
       "  '설명': '인공지능으로 세상을 편리하게 하자는 철학을 실천하는 기업입니다 :)',\n",
       "  '채용공고': ['AI Model Benchmark & Deployment Automation Engineer (Deploy&pakage팀)',\n",
       "   'Backend Software Engineer (Model search팀)',\n",
       "   'Backend Software Engineer (Compression_Dev팀)',\n",
       "   'SA Manager (Operation팀)',\n",
       "   'Deep Learning Engineer (at MCU/NPU) (Model search팀)',\n",
       "   'ML/DL System Research Engineer (Performance팀)',\n",
       "   'Backend Engineer (ITS팀)',\n",
       "   'Tech Writer (Marketing팀)',\n",
       "   'Frontend Software Engineer (Netspresso팀)',\n",
       "   'Software Engineer Intern(ITS팀)',\n",
       "   'Contents Marketer (Marketing팀)',\n",
       "   'Data Manager (Netspresso팀)']},\n",
       " {'회사명': '모인\\n(MOIN)',\n",
       "  '설명': '핀테크 해외송금 서비스',\n",
       "  '채용공고': ['사업기획 / 전략기획 매니저',\n",
       "   '사업개발/영업 매니저',\n",
       "   'UX/UI 디자이너',\n",
       "   'QA 엔지니어',\n",
       "   'Mobile App 개발자',\n",
       "   'DBA (Database administrator)',\n",
       "   '[모인 해외송금] 마케팅/프로모션 디자이너',\n",
       "   '프론트엔드 엔지니어',\n",
       "   '해외 사업개발 (Business Development) 매니저 채용',\n",
       "   '시스템 엔지니어 (System Engineer)',\n",
       "   '해외송금 핀테크 HR Operation 매니저',\n",
       "   '백엔드 엔지니어',\n",
       "   '유튜브 콘텐츠 마케터 [정규직/경력직]',\n",
       "   '퍼포먼스 마케터 (3년 이상, 팀장급)',\n",
       "   '경영지원 총무 담당자 모집(신입 가능)']},\n",
       " {'회사명': '어반유니온\\n(Urban Union)',\n",
       "  '설명': '빅데이터 기반 온라인 플랫폼',\n",
       "  '채용공고': ['백엔드 개발자 (Backend Engineer)',\n",
       "   '프론트엔드 개발자 (Frontend Engineer)',\n",
       "   '웹/앱 서비스기획자',\n",
       "   '웹 퍼블리셔']},\n",
       " {'회사명': '테이텀 시큐리티\\n(Tatum Security)',\n",
       "  '설명': '최첨단  클라우드 보안 기술을 이용한 보안 소프트웨어 제작 및 판매',\n",
       "  '채용공고': ['프로덕트 디자이너 (UX/UI 디자이너) (신입)',\n",
       "   '프로덕트 디자이너 (UX/UI 디자이너) (경력)',\n",
       "   '클라우드 보안 솔루션 B2G 영업관리 (경력)']},\n",
       " {'회사명': '핸드허그\\n(HANDHUG)',\n",
       "  '설명': '크리에이터 IP 솔루션 기업, 핸드허그',\n",
       "  '채용공고': ['[핸드허그] 퍼포먼스 마케터 경력직 모집 (파트장급)',\n",
       "   '[핸드허그] 콘텐츠 마케터 경력직 모집 (매니저급)',\n",
       "   '[핸드허그] 영업관리 경력직 모집 (ERP 관리 / 입출고 업무)',\n",
       "   '[핸드허그] 브랜드 마케터 경력직 모집 (파트장급)',\n",
       "   '[핸드허그] 저작권 조각투자 백엔드 개발자 모집',\n",
       "   '[핸드허그] 온라인 영업MD 경력직 모집',\n",
       "   '[핸드허그] 오프라인 위탁영업 담당자 모집',\n",
       "   '[핸드허그] 저작권 조각투자 서비스 Product Owner 모집']}]"
      ]
     },
     "execution_count": 47,
     "metadata": {},
     "output_type": "execute_result"
    }
   ],
   "source": [
    "result"
   ]
  },
  {
   "cell_type": "code",
   "execution_count": null,
   "id": "6005dd4a",
   "metadata": {},
   "outputs": [],
   "source": []
  },
  {
   "cell_type": "code",
   "execution_count": 49,
   "id": "38c23beb",
   "metadata": {},
   "outputs": [],
   "source": [
    "# 전체 데이터를 담을 빈 리스트 선언\n",
    "result = []\n",
    "\n",
    "BASE_URL = 'https://www.rocketpunch.com/api/jobs/template?'\n",
    "\n",
    "# 1부터 10페이지까지 반복\n",
    "for page in range(1, 11):\n",
    "    # 페이지번호만 바꿔서 parameters에 저장 (page=1, page=2, page=3)\n",
    "    parameters = 'page=' + str(page)\n",
    "    \n",
    "    # 페이지 번호 바꾼 파라미터를 베이스 URL에 더해서 최종 URL 생성\n",
    "    URL = BASE_URL + parameters\n",
    "    \n",
    "    # get 요청 보내기\n",
    "    res = requests.get(URL)\n",
    "    \n",
    "    # json 파일을 딕셔너리 형태로 변형\n",
    "    json_data = json.loads(res.text)\n",
    "    # json_data = res.json()\n",
    "    \n",
    "    # json_data['data']['template']에 html문서가 들어가있으니, soup 객체로 만듬\n",
    "    soup = BeautifulSoup(json_data['data']['template'], 'html.parser')\n",
    "    \n",
    "    # soup 객체니까 select 메서드로 회사를 모두 선택\n",
    "    company_list = soup.select('.company.item')\n",
    "    \n",
    "    # 회사를 하나씩 돌면서, \n",
    "    for company in company_list:\n",
    "        # 이름\n",
    "        company_name = company.select_one('.header.name').text.strip()\n",
    "        # 설명\n",
    "        description = company.select_one('.description').text.strip()\n",
    "        \n",
    "        # 채용공고들을 가져온다.\n",
    "        job_details = company.select('.job-detail')\n",
    "        \n",
    "        # 임시변수에 채용공고들 제목들을 넣어준다.\n",
    "        job_temps = []\n",
    "        for job_detail in job_details:\n",
    "            # 채용공고 제목 가져오기\n",
    "            job_title = job_detail.select_one('.job-title').text.strip()\n",
    "            \n",
    "            # 임시변수에 채용공고 제목 넣어주기\n",
    "            job_temps.append(job_title)\n",
    "            \n",
    "        # 최종적으로 회사별로 정리할 딕셔너리 생성\n",
    "        temp = {}\n",
    "        temp['회사명'] = company_name\n",
    "        temp['설명'] = description\n",
    "        temp['채용공고'] = job_temps\n",
    "        \n",
    "        # 정리한 최종 딕셔너리를 최종 데이터를 담을 변수 result에 담아준다.\n",
    "        result.append(temp)\n",
    "        # print(company_name, description)"
   ]
  },
  {
   "cell_type": "code",
   "execution_count": 50,
   "id": "d483bab7",
   "metadata": {},
   "outputs": [
    {
     "data": {
      "text/plain": [
       "214"
      ]
     },
     "execution_count": 50,
     "metadata": {},
     "output_type": "execute_result"
    }
   ],
   "source": [
    "len(result)"
   ]
  },
  {
   "cell_type": "code",
   "execution_count": null,
   "id": "b56bde58",
   "metadata": {},
   "outputs": [],
   "source": []
  },
  {
   "cell_type": "code",
   "execution_count": null,
   "id": "9ec01304",
   "metadata": {},
   "outputs": [],
   "source": []
  },
  {
   "cell_type": "code",
   "execution_count": null,
   "id": "1c090b90",
   "metadata": {},
   "outputs": [],
   "source": []
  },
  {
   "cell_type": "code",
   "execution_count": null,
   "id": "c4b91fad",
   "metadata": {},
   "outputs": [],
   "source": []
  },
  {
   "cell_type": "code",
   "execution_count": null,
   "id": "b610c8db",
   "metadata": {},
   "outputs": [],
   "source": []
  },
  {
   "cell_type": "code",
   "execution_count": null,
   "id": "0b34c761",
   "metadata": {},
   "outputs": [],
   "source": []
  },
  {
   "cell_type": "code",
   "execution_count": null,
   "id": "d91ef666",
   "metadata": {},
   "outputs": [],
   "source": []
  }
 ],
 "metadata": {
  "kernelspec": {
   "display_name": "Python 3 (ipykernel)",
   "language": "python",
   "name": "python3"
  },
  "language_info": {
   "codemirror_mode": {
    "name": "ipython",
    "version": 3
   },
   "file_extension": ".py",
   "mimetype": "text/x-python",
   "name": "python",
   "nbconvert_exporter": "python",
   "pygments_lexer": "ipython3",
   "version": "3.10.4"
  }
 },
 "nbformat": 4,
 "nbformat_minor": 5
}

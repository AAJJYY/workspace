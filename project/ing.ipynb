{
 "cells": [
  {
   "cell_type": "code",
   "execution_count": null,
   "metadata": {},
   "outputs": [],
   "source": [
    "%pip install python-telegram-bot"
   ]
  },
  {
   "cell_type": "code",
   "execution_count": 84,
   "metadata": {},
   "outputs": [],
   "source": [
    "import requests\n",
    "URL ='https://www.weather.go.kr/w/weather/forecast/mid-term.do'\n",
    "res = requests.get(URL)\n",
    "from bs4 import BeautifulSoup\n",
    "soup = BeautifulSoup(res.text, 'html.parser')"
   ]
  },
  {
   "cell_type": "code",
   "execution_count": 135,
   "metadata": {},
   "outputs": [
    {
     "name": "stdout",
     "output_type": "stream",
     "text": [
      "list[['지역', '23일(금)', '24일(토)', '25일(일)', '26일(월)', '27일(화)', '28일(수)', '29일(목)', '30일(금)', '기온범위']]\n"
     ]
    }
   ],
   "source": [
    "#날짜별 오전오후\n",
    "all={}\n",
    "weather=soup.select('table.table-zebra thead tr')\n",
    "for i in weather :\n",
    "    day_1 =i.text.split('\\n')\n",
    "    # print(day_1[1::])\n",
    "region = []\n",
    "cloud = []\n",
    "# 지역별 강수 확률 및 구름량(?)\n",
    "region=soup.select('body > div.container > section > div > div.cont-wrap.cmp-midterm > div > div > div.tab-menu-cont > div:nth-child(6) > table > tbody > tr')\n",
    "# for i in region :\n",
    "#     region=i.text.split('\\n')[1]\n",
    "#     cloud =i.text.split('\\n')[2:13]\n",
    "#     all={\"지역\":region, \"구름량\":cloud}\n",
    "#     print(all)\n",
    "\n",
    "    \n",
    "\n",
    "# 날짜 배열 \n",
    "# 최대 최저기온 추출\n",
    "day_2=soup.select('body > div.container > section > div > div.cont-wrap.cmp-midterm > div > div > div.tab-menu-cont > div:nth-child(9) > table > thead > tr')\n",
    "day_final=day_2[0].text.strip().split('\\n')\n",
    "max_min_temp=soup.select('body > div.container > section > div > div.cont-wrap.cmp-midterm > div > div > div.tab-menu-cont > div:nth-child(9) > table > tbody > tr')\n",
    "temper=[]\n",
    "total ={\"날짜\":day_final}\n",
    "for key in total.values():\n",
    "    dday=key\n",
    "    print(dday)\n",
    "for i in range((len(max_min_temp))):\n",
    "    temper = max_min_temp[i].text.split('\\n')[1:-2]\n",
    "    total1={\"기온\":temper}\n",
    "    total.update(total1)\n",
    "    # print(temp)\n",
    "    # print(day_final,'\\n',temp)\n",
    "    \n",
    "# print(map)"
   ]
  },
  {
   "cell_type": "code",
   "execution_count": 6,
   "metadata": {},
   "outputs": [],
   "source": [
    "import telegram"
   ]
  },
  {
   "cell_type": "code",
   "execution_count": 12,
   "metadata": {},
   "outputs": [
    {
     "name": "stdout",
     "output_type": "stream",
     "text": [
      "{'token': '5740028651:AAGw5vsMb_Cc4A1vHz7W7DLbaJ0CMEjs8CQ'}\n"
     ]
    }
   ],
   "source": [
    "telegram_config={}\n",
    "with open('./telegram_config','r') as f:\n",
    "    configs = f.readlines()\n",
    "    for config in configs :\n",
    "        key, value =config.rstrip().split('=')\n",
    "        telegram_config[key]=value\n",
    "print(telegram_config)\n",
    "token = telegram_config['token']"
   ]
  },
  {
   "cell_type": "code",
   "execution_count": 13,
   "metadata": {},
   "outputs": [],
   "source": [
    "bot = telegram.Bot(token)"
   ]
  },
  {
   "cell_type": "code",
   "execution_count": 21,
   "metadata": {},
   "outputs": [],
   "source": [
    "updates=bot.getUpdates()"
   ]
  },
  {
   "cell_type": "code",
   "execution_count": 23,
   "metadata": {},
   "outputs": [],
   "source": [
    "chat_id = updates[-1].message.chat.id"
   ]
  },
  {
   "cell_type": "code",
   "execution_count": 25,
   "metadata": {},
   "outputs": [
    {
     "data": {
      "text/plain": [
       "<telegram.message.Message at 0x161122df760>"
      ]
     },
     "execution_count": 25,
     "metadata": {},
     "output_type": "execute_result"
    }
   ],
   "source": [
    "bot.send_message(chat_id,'안녕하세요')"
   ]
  },
  {
   "cell_type": "code",
   "execution_count": 34,
   "metadata": {},
   "outputs": [
    {
     "name": "stdout",
     "output_type": "stream",
     "text": [
      "{'message': {'new_chat_photo': [], 'channel_chat_created': False, 'new_chat_members': [], 'date': 1663291425, 'delete_chat_photo': False, 'entities': [], 'caption_entities': [], 'chat': {'id': 5671152100, 'first_name': 'JY', 'last_name': 'A', 'type': 'private'}, 'text': 'Test', 'message_id': 3, 'group_chat_created': False, 'supergroup_chat_created': False, 'photo': [], 'from': {'is_bot': False, 'first_name': 'JY', 'id': 5671152100, 'language_code': 'ko', 'last_name': 'A'}}, 'update_id': 195447830}\n"
     ]
    }
   ],
   "source": [
    "last_message = updates[-1].message.message_id #마지막 받은 메세지 (.text)\n",
    "print(updates[0])"
   ]
  },
  {
   "cell_type": "code",
   "execution_count": 38,
   "metadata": {},
   "outputs": [
    {
     "data": {
      "text/plain": [
       "195447830"
      ]
     },
     "execution_count": 38,
     "metadata": {},
     "output_type": "execute_result"
    }
   ],
   "source": [
    "update_id=bot.getUpdates()[-1].update_id\n",
    "last_id = updates[-1].update_id"
   ]
  },
  {
   "cell_type": "code",
   "execution_count": 44,
   "metadata": {},
   "outputs": [
    {
     "ename": "KeyboardInterrupt",
     "evalue": "",
     "output_type": "error",
     "traceback": [
      "\u001b[1;31m---------------------------------------------------------------------------\u001b[0m",
      "\u001b[1;31mKeyboardInterrupt\u001b[0m                         Traceback (most recent call last)",
      "\u001b[1;32mc:\\Users\\rlawp\\Desktop\\workspace\\9-16\\5_RPA\\실습자료\\실습5\\telegram_text.ipynb 셀 12\u001b[0m in \u001b[0;36m<cell line: 6>\u001b[1;34m()\u001b[0m\n\u001b[0;32m     <a href='vscode-notebook-cell:/c%3A/Users/rlawp/Desktop/workspace/9-16/5_RPA/%EC%8B%A4%EC%8A%B5%EC%9E%90%EB%A3%8C/%EC%8B%A4%EC%8A%B55/telegram_text.ipynb#X11sZmlsZQ%3D%3D?line=23'>24</a>\u001b[0m     \u001b[39mpass\u001b[39;00m\n\u001b[0;32m     <a href='vscode-notebook-cell:/c%3A/Users/rlawp/Desktop/workspace/9-16/5_RPA/%EC%8B%A4%EC%8A%B5%EC%9E%90%EB%A3%8C/%EC%8B%A4%EC%8A%B55/telegram_text.ipynb#X11sZmlsZQ%3D%3D?line=25'>26</a>\u001b[0m \u001b[39m# 텔레그램 서버 부하 줄이기 위해 3초마다 확인\u001b[39;00m\n\u001b[1;32m---> <a href='vscode-notebook-cell:/c%3A/Users/rlawp/Desktop/workspace/9-16/5_RPA/%EC%8B%A4%EC%8A%B5%EC%9E%90%EB%A3%8C/%EC%8B%A4%EC%8A%B55/telegram_text.ipynb#X11sZmlsZQ%3D%3D?line=26'>27</a>\u001b[0m time\u001b[39m.\u001b[39;49msleep(\u001b[39m3\u001b[39;49m)\n",
      "\u001b[1;31mKeyboardInterrupt\u001b[0m: "
     ]
    }
   ],
   "source": [
    "# 서버에서 텔레그램 메시지 확인, 응답 보내기\n",
    "import time\n",
    "\n",
    "while True:\n",
    "    \n",
    "    try:\n",
    "        # 신규 메시지가 없을 경우 에러가 발생 \n",
    "        # list index out of range\n",
    "        # 따라서, try - except 문으로 묶어줌\n",
    "        new_message = bot.get_updates(offset=last_id)[-1]\n",
    "\n",
    "        # 만약 신규 메시지가 오늘날씨면,\n",
    "        if new_message.message.text == '오늘날씨':\n",
    "            # 관련 메시지 발송\n",
    "            bot.send_message(chat_id, '오늘날씨는 화창합니다.')\n",
    "        # 만약 신규 메시지가 내일날씨면,\n",
    "        elif new_message.message.text == '내일날씨':\n",
    "            # 관련 메시지 발송\n",
    "            bot.send_message(chat_id, '내일날씨도 화창합니다.')\n",
    "\n",
    "        # offset 값 최신화 (update_id) + 1 해줘서 그 다음부터 메시지부터 확인하도록\n",
    "        last_id = new_message.update_id + 1\n",
    "    except:\n",
    "        pass\n",
    "\n",
    "    # 텔레그램 서버 부하 줄이기 위해 3초마다 확인\n",
    "    time.sleep(3)"
   ]
  },
  {
   "cell_type": "markdown",
   "metadata": {},
   "source": [
    "실습"
   ]
  },
  {
   "cell_type": "code",
   "execution_count": null,
   "metadata": {},
   "outputs": [],
   "source": [
    "from crawler import chart_crawling\n",
    "import telegram"
   ]
  },
  {
   "cell_type": "code",
   "execution_count": null,
   "metadata": {},
   "outputs": [],
   "source": [
    "telegram_config={}\n",
    "with open('./telegram_config','r') as f:\n",
    "    configs = f.readlines()\n",
    "    for config in configs :\n",
    "        key, value =config.rstrip().split('=')\n",
    "        telegram_config[key]=value\n",
    "print(telegram_config)\n",
    "token = telegram_config['token']"
   ]
  },
  {
   "cell_type": "code",
   "execution_count": null,
   "metadata": {},
   "outputs": [],
   "source": [
    "bot = telegram.bot()\n",
    "bot.send_message('telegram')"
   ]
  }
 ],
 "metadata": {
  "kernelspec": {
   "display_name": "Python 3.9.12 ('base')",
   "language": "python",
   "name": "python3"
  },
  "language_info": {
   "codemirror_mode": {
    "name": "ipython",
    "version": 3
   },
   "file_extension": ".py",
   "mimetype": "text/x-python",
   "name": "python",
   "nbconvert_exporter": "python",
   "pygments_lexer": "ipython3",
   "version": "3.9.12"
  },
  "orig_nbformat": 4,
  "vscode": {
   "interpreter": {
    "hash": "b0da05e547d99104cd31238018297f81b543dd9e77b294eb52d2e2f124f0505f"
   }
  }
 },
 "nbformat": 4,
 "nbformat_minor": 2
}
